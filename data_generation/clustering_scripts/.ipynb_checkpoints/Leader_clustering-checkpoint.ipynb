{
 "cells": [
  {
   "cell_type": "code",
   "execution_count": 2,
   "metadata": {},
   "outputs": [
    {
     "name": "stdout",
     "output_type": "stream",
     "text": [
      "('stitch_chem',)\n",
      "('stitch_protchem_man',)\n",
      "('string_protlink_man',)\n",
      "('chem_freq',)\n",
      "('chem_uniq',)\n",
      "('chem_hubs_orig',)\n",
      "('string_protlink_man905',)\n",
      "('chem_hubs',)\n",
      "('string_prots_910',)\n",
      "('stitch_chem40',)\n",
      "('chem_hubs_4_10',)\n",
      "('cid_prot_rank',)\n",
      "('spearman_table',)\n",
      "('akshai_chem_hubs',)\n"
     ]
    }
   ],
   "source": [
    "import sys\n",
    "import sqlite3\n",
    "import math\n",
    "\n",
    "import pandas as pd\n",
    "\n",
    "conn = sqlite3.connect('/mnt/external-images-pvc/quantmap/qm_chem_fix.sqlite')\n",
    "c = conn.cursor()\n",
    "\n",
    "# List of tables in the db\n",
    "c.execute(\"SELECT name FROM sqlite_master WHERE type='table';\")\n",
    "for table in c.fetchall():\n",
    "    print (table)"
   ]
  },
  {
   "cell_type": "code",
   "execution_count": 3,
   "metadata": {},
   "outputs": [
    {
     "name": "stdout",
     "output_type": "stream",
     "text": [
      "(0, 'cid1', 'int(10)', 1, None, 0)\n",
      "(1, 'cid2', 'int(10)', 1, None, 0)\n",
      "(2, 'spearman_number', 'float', 1, None, 0)\n"
     ]
    }
   ],
   "source": [
    "c.execute(\"pragma table_info(spearman_table);\")\n",
    "#c.execute(\"select * from stitch_protchem_man limit 1;\")\n",
    "for entry in c.fetchall():\n",
    "    print (entry)"
   ]
  },
  {
   "cell_type": "code",
   "execution_count": 47,
   "metadata": {},
   "outputs": [
    {
     "name": "stdout",
     "output_type": "stream",
     "text": [
      "5223\n"
     ]
    }
   ],
   "source": [
    "cid_output_file = open(\"cid_cluster_5338.txt\",\"r\").readlines()\n",
    "cluster_actual = {}\n",
    "for entry in cid_output_file:\n",
    "    cluster_actual[int(entry.split()[0])] = int(entry.split()[1])\n",
    "print (len(cluster_actual))"
   ]
  },
  {
   "cell_type": "code",
   "execution_count": 32,
   "metadata": {},
   "outputs": [],
   "source": [
    "# Read the distance matrix and replace the header to CID numbers\n",
    "\n",
    "distance_matrix = \"distance_matrix_5338.txt\"\n",
    "output_matrix = distance_matrix[:-4] + \"_out.csv\"\n",
    "open_file = open(distance_matrix,\"r\").readlines()\n",
    "distance_matrix = {}\n",
    "output = \"\"\n",
    "for count,line in enumerate(open_file):\n",
    "    if count == 0:\n",
    "        heading_list = line.split(\",\")\n",
    "        output += \",\" + line\n",
    "    else:\n",
    "        output += heading_list[count-1].strip() + \",\" + line\n",
    "    \n",
    "output = output.replace(\"CID\",\"\")\n",
    "out_file = open(output_matrix,\"w\")\n",
    "out_file.write(output)\n",
    "out_file.close()\n",
    "m = pd.read_csv(output_matrix,index_col=0)"
   ]
  },
  {
   "cell_type": "code",
   "execution_count": 51,
   "metadata": {},
   "outputs": [],
   "source": [
    "m1 = m.iloc[:2500,].copy()\n",
    "m2 = m.iloc[2500:,].copy()\n",
    "m3 = m.copy()\n",
    "cids = list(map(int,list(m.columns)))"
   ]
  },
  {
   "cell_type": "code",
   "execution_count": 52,
   "metadata": {},
   "outputs": [
    {
     "name": "stdout",
     "output_type": "stream",
     "text": [
      "CPU times: user 0 ns, sys: 0 ns, total: 0 ns\n",
      "Wall time: 783 µs\n"
     ]
    }
   ],
   "source": [
    "%%time\n",
    "min_dist = 0.85\n",
    "cids = cids\n",
    "clusters = {}\n",
    "cluster_leaf_dist = {}"
   ]
  },
  {
   "cell_type": "code",
   "execution_count": 53,
   "metadata": {},
   "outputs": [
    {
     "name": "stdout",
     "output_type": "stream",
     "text": [
      "CPU times: user 260 ms, sys: 12 ms, total: 272 ms\n",
      "Wall time: 270 ms\n"
     ]
    }
   ],
   "source": [
    "%%time\n",
    "df = m3\n",
    "total_data_points = len(df)\n",
    "\n",
    "for i in range(total_data_points):\n",
    "    do_cluster = True\n",
    "    for cluster_list in clusters.values():\n",
    "        if cids[i] in cluster_list:\n",
    "            do_cluster = False\n",
    "            break\n",
    "    if do_cluster:\n",
    "        df1 = df.iloc[i][df.iloc[i] < min_dist]\n",
    "        df1_dist = df1.copy()\n",
    "        #print (df1_dist[df1_dist > (min_dist/2)])\n",
    "        cluster_leaf_dist[cids[i]] = [ distance if distance/2 else \" \" for distance in list(df1) ]\n",
    "        clusters[cids[i]] = list(map(int,df1.index))"
   ]
  },
  {
   "cell_type": "code",
   "execution_count": 54,
   "metadata": {},
   "outputs": [
    {
     "data": {
      "text/plain": [
       "4"
      ]
     },
     "execution_count": 54,
     "metadata": {},
     "output_type": "execute_result"
    }
   ],
   "source": [
    "#268\n",
    "len(clusters)"
   ]
  },
  {
   "cell_type": "code",
   "execution_count": 39,
   "metadata": {},
   "outputs": [
    {
     "name": "stdout",
     "output_type": "stream",
     "text": [
      "CPU times: user 208 ms, sys: 0 ns, total: 208 ms\n",
      "Wall time: 205 ms\n"
     ]
    }
   ],
   "source": [
    "%%time\n",
    "df = m2\n",
    "total_data_points = len(df)\n",
    "\n",
    "for i in range(total_data_points):\n",
    "    do_cluster = True\n",
    "    for cluster_list in clusters.values():\n",
    "        if cids[i+len(m1)] in cluster_list:\n",
    "            do_cluster = False\n",
    "            break\n",
    "    if do_cluster:\n",
    "        df1 = df.iloc[i][df.iloc[i] < min_dist]\n",
    "        cluster_leaf_dist[cids[i+len(m1)]] = list(df1)\n",
    "        clusters[cids[i+len(m1)]] = list(map(int,df1.index))"
   ]
  },
  {
   "cell_type": "code",
   "execution_count": 40,
   "metadata": {},
   "outputs": [
    {
     "data": {
      "text/plain": [
       "120"
      ]
     },
     "execution_count": 40,
     "metadata": {},
     "output_type": "execute_result"
    }
   ],
   "source": [
    "sys.getsizeof([0,0,\" \",None,None,\" \"])"
   ]
  },
  {
   "cell_type": "code",
   "execution_count": 42,
   "metadata": {},
   "outputs": [
    {
     "data": {
      "text/plain": [
       "4"
      ]
     },
     "execution_count": 42,
     "metadata": {},
     "output_type": "execute_result"
    }
   ],
   "source": [
    "len(clusters)"
   ]
  },
  {
   "cell_type": "code",
   "execution_count": 55,
   "metadata": {},
   "outputs": [
    {
     "name": "stdout",
     "output_type": "stream",
     "text": [
      "CPU times: user 672 ms, sys: 0 ns, total: 672 ms\n",
      "Wall time: 670 ms\n"
     ]
    }
   ],
   "source": [
    "%%time\n",
    "# Find number of occurance of each label in different clusters\n",
    "label_dict = {entry : 0 for entry in cids}\n",
    "for label_list in list(clusters.values()):\n",
    "    for entry in label_list:\n",
    "        label_dict[entry] += 1\n",
    "\n",
    "\n",
    "# Find the one with more than one occurance and remove from the clusters\n",
    "for leaf in label_dict:\n",
    "    if label_dict[leaf] > 1:\n",
    "        leaf_index = cids.index(leaf)\n",
    "        root_leaf_distance = {}\n",
    "        root_list = []\n",
    "        reached_limit = False\n",
    "        \n",
    "        # Find the distance for the leaf in each root/cluster centers\n",
    "        for root in clusters:\n",
    "            if len(root_leaf_distance) == label_dict[leaf]:\n",
    "                reached_limit = True\n",
    "                break\n",
    "            if not reached_limit:\n",
    "                if leaf in clusters[root]:\n",
    "                    #root_index = cids.index(root)\n",
    "                    root_list.append(root)\n",
    "                    root_leaf_distance[root] = cluster_leaf_dist[root][clusters[root].index(leaf)] #m.iloc[root_index,leaf_index]\n",
    "                    \n",
    "        assert (len(root_leaf_distance) == label_dict[leaf])\n",
    "        \n",
    "        # Find the root with least distance\n",
    "        root_leaf_distance_values = list(root_leaf_distance.values())\n",
    "        root_leaf_distance_keys = list(root_leaf_distance.keys())\n",
    "        \n",
    "        min_value_index = root_leaf_distance_values.index(min(root_leaf_distance_values))\n",
    "        belongs_to_root = root_list[min_value_index]\n",
    "        \n",
    "        # Remove the element from the cluster for the non-root\n",
    "        root_list.remove(belongs_to_root)\n",
    "        for entry in root_list:\n",
    "            clusters[entry].remove(leaf)"
   ]
  },
  {
   "cell_type": "code",
   "execution_count": 56,
   "metadata": {},
   "outputs": [],
   "source": [
    "cluster_dict = {}\n",
    "check_list = []\n",
    "for i,entry in enumerate(clusters):\n",
    "    cluster_dict[i] = clusters[entry]\n",
    "    for entry1 in clusters[entry]:\n",
    "        check_list.append(entry1)"
   ]
  },
  {
   "cell_type": "code",
   "execution_count": 57,
   "metadata": {},
   "outputs": [],
   "source": [
    "cluster_leader = {}\n",
    "check_list = []\n",
    "for entry in cluster_dict:\n",
    "    #if len(cluster_dict[entry]) > 0:\n",
    "    for entry1 in cluster_dict[entry]:\n",
    "        cluster_leader[entry1] = entry\n",
    "        check_list.append(entry1)\n",
    "    #else:\n",
    "    #    check_list.append(entry)\n",
    "    #    cluster_leader[entry] = entry"
   ]
  },
  {
   "cell_type": "code",
   "execution_count": 58,
   "metadata": {},
   "outputs": [],
   "source": [
    "# Comaprison of K-mean and K-mean distance matrix\n",
    "# Given two dict, it compares the overlap (dict of cid and cluster)\n",
    "# Perfect overlap will have each label having list of one high number and rest all zero\n",
    "def find_cluster_overlap(dict1,dict2):\n",
    "    \n",
    "    dict_1_clusters = {int(dict1[entry]) : [] for entry in dict1.keys()}\n",
    "    for entry in dict1.keys():\n",
    "        dict_1_clusters[int(dict1[entry])].append(int(entry))\n",
    "    \n",
    "    dict_2_clusters = {int(dict2[entry]) : [] for entry in dict2.keys()}\n",
    "    for entry in dict2.keys():\n",
    "        dict_2_clusters[int(dict2[entry])].append(int(entry))\n",
    "        \n",
    "    all_label_clustered = {int(dict1[entry]) : [0 for entry in dict_2_clusters.keys()] for entry in dict1.keys()}\n",
    "    \n",
    "    for label1 in dict_1_clusters:\n",
    "        for label2 in dict_2_clusters:\n",
    "            for entry in dict_1_clusters[label1]:\n",
    "                if entry in dict_2_clusters[label2]:\n",
    "                    all_label_clustered[label1][label2] += 1\n",
    "                    \n",
    "    total = 0\n",
    "    for entry in all_label_clustered:\n",
    "        total += sum(all_label_clustered[entry])\n",
    "    return (total,all_label_clustered)\n",
    "total_clusters,label_overlap = find_cluster_overlap(cluster_leader,cluster_actual)\n",
    "#18 {4: [5, 1, 0, 0, 1], 0: [0, 4, 0, 0, 1], 3: [0, 0, 0, 1, 0], 2: [0, 0, 0, 0, 2], 1: [0, 0, 3, 0, 0]}"
   ]
  },
  {
   "cell_type": "code",
   "execution_count": 59,
   "metadata": {},
   "outputs": [
    {
     "data": {
      "text/plain": [
       "{0: [2461, 229, 1714, 239],\n",
       " 1: [195, 19, 161, 19],\n",
       " 2: [6, 2, 8, 0],\n",
       " 3: [64, 8, 88, 10]}"
      ]
     },
     "execution_count": 59,
     "metadata": {},
     "output_type": "execute_result"
    }
   ],
   "source": [
    "label_overlap"
   ]
  },
  {
   "cell_type": "code",
   "execution_count": null,
   "metadata": {},
   "outputs": [],
   "source": [
    "5757 1\n",
    "448537 1\n",
    "2733525 1\n",
    "6623 1\n",
    "1752 1\n",
    "104741 1\n",
    "5281576 1\n",
    "\n",
    "3476 3\n",
    "\n",
    "5280961 2\n",
    "5281707 2\n",
    "\n",
    "445154 5\n",
    "\n",
    "3026 7\n",
    "\n",
    "5035 6\n",
    "3224 6\n",
    "\n",
    "77999 4\n",
    "\n",
    "2244 0\n",
    "3672 0\n",
    "3032 0\n"
   ]
  }
 ],
 "metadata": {
  "kernelspec": {
   "display_name": "molpmofit",
   "language": "python",
   "name": "molpmofit"
  },
  "language_info": {
   "codemirror_mode": {
    "name": "ipython",
    "version": 3
   },
   "file_extension": ".py",
   "mimetype": "text/x-python",
   "name": "python",
   "nbconvert_exporter": "python",
   "pygments_lexer": "ipython3",
   "version": "3.7.7"
  }
 },
 "nbformat": 4,
 "nbformat_minor": 4
}
