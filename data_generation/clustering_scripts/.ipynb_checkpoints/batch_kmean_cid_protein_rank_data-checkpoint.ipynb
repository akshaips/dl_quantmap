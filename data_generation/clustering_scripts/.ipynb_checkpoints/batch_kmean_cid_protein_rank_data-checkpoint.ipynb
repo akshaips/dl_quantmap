{
 "cells": [
  {
   "cell_type": "code",
   "execution_count": 1635,
   "metadata": {},
   "outputs": [
    {
     "name": "stdout",
     "output_type": "stream",
     "text": [
      "('stitch_chem',)\n",
      "('stitch_protchem_man',)\n",
      "('string_protlink_man',)\n",
      "('chem_freq',)\n",
      "('chem_uniq',)\n",
      "('chem_hubs_orig',)\n",
      "('string_protlink_man905',)\n",
      "('chem_hubs',)\n",
      "('string_prots_910',)\n",
      "('stitch_chem40',)\n",
      "('chem_hubs_4_10',)\n",
      "('cid_prot_rank',)\n",
      "('spearman_table',)\n",
      "('akshai_chem_hubs',)\n"
     ]
    }
   ],
   "source": [
    "import sqlite3\n",
    "conn = sqlite3.connect('/mnt/external-images-pvc/quantmap/qm_chem_fix.sqlite')\n",
    "c = conn.cursor()\n",
    "\n",
    "# List of tables in the db\n",
    "c.execute(\"SELECT name FROM sqlite_master WHERE type='table';\")\n",
    "for table in c.fetchall():\n",
    "    print (table)"
   ]
  },
  {
   "cell_type": "code",
   "execution_count": 1636,
   "metadata": {},
   "outputs": [
    {
     "name": "stdout",
     "output_type": "stream",
     "text": [
      "(0, 'cid', 'INTEGER', 0, None, 0)\n",
      "(1, 'V2', 'TEXT', 0, None, 0)\n",
      "(2, 'dat', 'REAL', 0, None, 0)\n"
     ]
    }
   ],
   "source": [
    "# Table of chem to protein scores\n",
    "sql_table = \"akshai_chem_hubs\"\n",
    "c.execute(\"pragma table_info(\" + str(sql_table) + \");\")\n",
    "for entry in c.fetchall():\n",
    "    print (entry)"
   ]
  },
  {
   "cell_type": "code",
   "execution_count": 1637,
   "metadata": {},
   "outputs": [
    {
     "name": "stdout",
     "output_type": "stream",
     "text": [
      "Total number of branches = 1489\n"
     ]
    }
   ],
   "source": [
    "# Find the number of brances from the newick tree and to change the header to CID numbers\n",
    "# Total number of brances for 5338 data is 1489\n",
    "try:\n",
    "    open_file = open(\"newick_format.txt\",\"r\").readlines()\n",
    "    newick_format = \"\"\n",
    "    for entry in open_file:\n",
    "        newick_format += entry[:-1]\n",
    "\n",
    "    total_branches = newick_format.count(\"(\") - 1\n",
    "    print (\"Total number of branches = \" + str(total_branches))\n",
    "\n",
    "    newick_format = newick_format.replace(\"CID\",\"\")\n",
    "    write_newick = open(\"newick_format_output.txt\",\"w\")\n",
    "    write_newick.write(newick_format)\n",
    "    write_newick.close()\n",
    "except:\n",
    "    print (\"Total number of branches = 1489\")"
   ]
  },
  {
   "cell_type": "code",
   "execution_count": 1638,
   "metadata": {},
   "outputs": [],
   "source": [
    "# Get CID and its cluster for analysis and comparison of results\n",
    "#input_file = \"cid_cluster_5338.txt\"\n",
    "input_file = \"cid_cluster_qmap_chemical.txt\"\n",
    "\n",
    "cid_cluster_file = open(input_file,\"r\").readlines()\n",
    "cid_cluster = {}\n",
    "cid_list = []\n",
    "for entry in cid_cluster_file:\n",
    "    cid_cluster[entry.split()[0]] = entry.split()[1]\n",
    "    cid_list.append(entry.split()[0])"
   ]
  },
  {
   "cell_type": "code",
   "execution_count": 1639,
   "metadata": {},
   "outputs": [
    {
     "name": "stderr",
     "output_type": "stream",
     "text": [
      "                                        "
     ]
    },
    {
     "name": "stdout",
     "output_type": "stream",
     "text": [
      "9656\n"
     ]
    },
    {
     "name": "stderr",
     "output_type": "stream",
     "text": [
      "\r"
     ]
    },
    {
     "data": {
      "text/plain": [
       "18"
      ]
     },
     "execution_count": 1639,
     "metadata": {},
     "output_type": "execute_result"
    }
   ],
   "source": [
    "# Get cid protein rank data for the list of CIDs\n",
    "\n",
    "c.execute(\"select cid,V2,dat from \" + sql_table + \" where cid in (\" + str(cid_list)[1:-1] + \");\")\n",
    "sql_data = c.fetchall()\n",
    "print (len(sql_data))\n",
    "\n",
    "import tqdm\n",
    "loop = tqdm.tqdm(enumerate(sql_data), total=len(sql_data),leave=False)\n",
    "database_cid = []\n",
    "for i,entry in loop:\n",
    "    cid = list(entry)[0]\n",
    "    database_cid.append(cid)\n",
    "database_cid = set(database_cid)\n",
    "len(database_cid)"
   ]
  },
  {
   "cell_type": "code",
   "execution_count": 1640,
   "metadata": {},
   "outputs": [
    {
     "name": "stderr",
     "output_type": "stream",
     "text": [
      "                                      \r"
     ]
    }
   ],
   "source": [
    "# Make feature representation of data\n",
    "# For entry of CID, if value for protein is present it is given else 0\n",
    "\n",
    "unique_protein_ids = []\n",
    "for entry in sql_data:\n",
    "    unique_protein_ids.append(entry[1])\n",
    "    \n",
    "wrd_indx = {}\n",
    "indx_wrd = {}\n",
    "for i,entry in enumerate(set(unique_protein_ids)):\n",
    "    wrd_indx[entry] = i\n",
    "    indx_wrd[i] = entry\n",
    "\n",
    "def make_full_feature(data,cid):\n",
    "    output_list = [0 for entry in wrd_indx]\n",
    "\n",
    "    for entry in data:\n",
    "        if entry[0] == cid:\n",
    "            output_list[wrd_indx[entry[1]]] = entry[2]\n",
    "    \n",
    "    return (output_list)\n",
    "\n",
    "input_data = {}\n",
    "loop = tqdm.tqdm(database_cid, total=len(database_cid),leave=False)\n",
    "for cid in loop:\n",
    "    input_data[cid] = make_full_feature(sql_data,cid)"
   ]
  },
  {
   "cell_type": "markdown",
   "metadata": {},
   "source": [
    "###  Using K-mean clustering"
   ]
  },
  {
   "cell_type": "code",
   "execution_count": 1720,
   "metadata": {},
   "outputs": [],
   "source": [
    "input_list = []\n",
    "for entry in input_data:\n",
    "    input_list.append(input_data[entry])\n",
    "input_list = np.array(input_list)"
   ]
  },
  {
   "cell_type": "code",
   "execution_count": 1721,
   "metadata": {},
   "outputs": [],
   "source": [
    "#input_list = input_list - input_list.mean(axis=1)[0]\n",
    "#input_list = input_list / np.abs(input_list).max(axis=1)[0]"
   ]
  },
  {
   "cell_type": "code",
   "execution_count": 1722,
   "metadata": {},
   "outputs": [],
   "source": [
    "from sklearn.cluster import MiniBatchKMeans\n",
    "import numpy as np\n",
    "\n",
    "batch_size = 1000\n",
    "cid_list = database_cid #list(set([entry[0] for entry in sql_data]))\n",
    "batches = int(len(cid_list)/batch_size)\n",
    "\n",
    "kmeans = MiniBatchKMeans(n_clusters=2,batch_size=batch_size,max_iter=10000,init=\"k-means++\",random_state=1)\n",
    "\n",
    "for entry in range(batches):\n",
    "    kmeans = kmeans.partial_fit(np.array(input_list[2:]))"
   ]
  },
  {
   "cell_type": "code",
   "execution_count": 1723,
   "metadata": {},
   "outputs": [],
   "source": [
    "kmeans.cluster_centers_\n",
    "#for entry in input_list:\n",
    "batch_output = kmeans.predict(input_list)"
   ]
  },
  {
   "cell_type": "code",
   "execution_count": 1724,
   "metadata": {},
   "outputs": [],
   "source": [
    "cid_cluster_kmean = {}\n",
    "for cid,cluster in zip(cid_list,batch_output):\n",
    "    cid_cluster_kmean[cid] =  cluster"
   ]
  },
  {
   "cell_type": "code",
   "execution_count": 1725,
   "metadata": {},
   "outputs": [],
   "source": [
    "# Get CID and respective cluster\n",
    "#cid_cluster_kmean = {}\n",
    "#for cid,cluster in zip(database_cid,result):\n",
    "#    cid_cluster_kmean[cid] =  cluster"
   ]
  },
  {
   "cell_type": "code",
   "execution_count": 1726,
   "metadata": {},
   "outputs": [],
   "source": [
    "# Comaprison of K-mean and K-mean distance matrix\n",
    "# Given two dict, it compares the overlap (dict of cid and cluster)\n",
    "# Perfect overlap will have each label having list of one high number and rest all zero\n",
    "def find_cluster_overlap(dict1,dict2):\n",
    "    \n",
    "    dict_1_clusters = {int(dict1[entry]) : [] for entry in dict1.keys()}\n",
    "    for entry in dict1.keys():\n",
    "        dict_1_clusters[int(dict1[entry])].append(int(entry))\n",
    "    \n",
    "    dict_2_clusters = {int(dict2[entry]) : [] for entry in dict2.keys()}\n",
    "    for entry in dict2.keys():\n",
    "        dict_2_clusters[int(dict2[entry])].append(int(entry))\n",
    "        \n",
    "    all_label_clustered = {int(dict1[entry]) : [0 for entry in dict_2_clusters.keys()] for entry in dict1.keys()}\n",
    "    \n",
    "    for label1 in dict_1_clusters:\n",
    "        for label2 in dict_2_clusters:\n",
    "            for entry in dict_1_clusters[label1]:\n",
    "                if entry in dict_2_clusters[label2]:\n",
    "                    all_label_clustered[label1][label2] += 1\n",
    "                    \n",
    "    total = 0\n",
    "    for entry in all_label_clustered:\n",
    "        total += sum(all_label_clustered[entry])\n",
    "    return (total,all_label_clustered)\n",
    "total_clusters,label_overlap = find_cluster_overlap(cid_cluster,cid_cluster_kmean)\n",
    "#18 {4: [5, 1, 0, 0, 1], 0: [0, 4, 0, 0, 1], 3: [0, 0, 0, 1, 0], 2: [0, 0, 0, 0, 2], 1: [0, 0, 3, 0, 0]}"
   ]
  },
  {
   "cell_type": "code",
   "execution_count": 1727,
   "metadata": {},
   "outputs": [
    {
     "name": "stdout",
     "output_type": "stream",
     "text": [
      "[3, 14] 0\n",
      "[0, 1] 1\n"
     ]
    }
   ],
   "source": [
    "for entry in label_overlap:\n",
    "    print (label_overlap[entry],entry)"
   ]
  },
  {
   "cell_type": "markdown",
   "metadata": {},
   "source": [
    "###  Using batch K-mean clustering"
   ]
  },
  {
   "cell_type": "code",
   "execution_count": 942,
   "metadata": {},
   "outputs": [
    {
     "ename": "NameError",
     "evalue": "name 'X' is not defined",
     "output_type": "error",
     "traceback": [
      "\u001b[0;31m---------------------------------------------------------------------------\u001b[0m",
      "\u001b[0;31mNameError\u001b[0m                                 Traceback (most recent call last)",
      "\u001b[0;32m<ipython-input-942-4ca5cd0e7c64>\u001b[0m in \u001b[0;36m<module>\u001b[0;34m\u001b[0m\n\u001b[1;32m      5\u001b[0m \u001b[0mkmean\u001b[0m \u001b[0;34m=\u001b[0m \u001b[0;34m\"\"\u001b[0m\u001b[0;34m\u001b[0m\u001b[0;34m\u001b[0m\u001b[0m\n\u001b[1;32m      6\u001b[0m \u001b[0mkmean\u001b[0m \u001b[0;34m=\u001b[0m \u001b[0mMiniBatchKMeans\u001b[0m\u001b[0;34m(\u001b[0m\u001b[0mn_clusters\u001b[0m\u001b[0;34m=\u001b[0m\u001b[0;36m2\u001b[0m\u001b[0;34m,\u001b[0m \u001b[0mrandom_state\u001b[0m\u001b[0;34m=\u001b[0m\u001b[0;36m0\u001b[0m\u001b[0;34m,\u001b[0m \u001b[0mbatch_size\u001b[0m\u001b[0;34m=\u001b[0m\u001b[0;36m6\u001b[0m\u001b[0;34m)\u001b[0m\u001b[0;34m\u001b[0m\u001b[0;34m\u001b[0m\u001b[0m\n\u001b[0;32m----> 7\u001b[0;31m \u001b[0mkmean\u001b[0m \u001b[0;34m=\u001b[0m \u001b[0mkmean\u001b[0m\u001b[0;34m.\u001b[0m\u001b[0mpartial_fit\u001b[0m\u001b[0;34m(\u001b[0m\u001b[0mX\u001b[0m\u001b[0;34m[\u001b[0m\u001b[0;36m0\u001b[0m\u001b[0;34m:\u001b[0m\u001b[0;36m6\u001b[0m\u001b[0;34m,\u001b[0m\u001b[0;34m:\u001b[0m\u001b[0;34m]\u001b[0m\u001b[0;34m)\u001b[0m\u001b[0;34m\u001b[0m\u001b[0;34m\u001b[0m\u001b[0m\n\u001b[0m\u001b[1;32m      8\u001b[0m \u001b[0mprint\u001b[0m \u001b[0;34m(\u001b[0m\u001b[0mkmeans\u001b[0m\u001b[0;34m.\u001b[0m\u001b[0mcluster_centers_\u001b[0m\u001b[0;34m)\u001b[0m\u001b[0;34m\u001b[0m\u001b[0;34m\u001b[0m\u001b[0m\n\u001b[1;32m      9\u001b[0m \u001b[0mm1\u001b[0m\u001b[0;34m[\u001b[0m\u001b[0;34m'label'\u001b[0m\u001b[0;34m]\u001b[0m\u001b[0;34m=\u001b[0m \u001b[0mresult\u001b[0m\u001b[0;34m\u001b[0m\u001b[0;34m\u001b[0m\u001b[0m\n",
      "\u001b[0;31mNameError\u001b[0m: name 'X' is not defined"
     ]
    }
   ],
   "source": [
    "from sklearn.cluster import MiniBatchKMeans\n",
    "import numpy as np\n",
    "m1 = m.copy()\n",
    "\n",
    "kmean = \"\"\n",
    "kmean = MiniBatchKMeans(n_clusters=2, random_state=0, batch_size=6)\n",
    "kmean = kmean.partial_fit(X[0:6,:])\n",
    "print (kmeans.cluster_centers_)\n",
    "m1['label']= result\n",
    "cid_cluster = m1['label']"
   ]
  },
  {
   "cell_type": "code",
   "execution_count": null,
   "metadata": {},
   "outputs": [],
   "source": [
    "# Get the CID and label of it\n",
    "# Get smiles from the database\n",
    "# Replace cid with smiles\n",
    "# Output to a file\n",
    "\n",
    "index = cid_cluster.index\n",
    "cid_list = list(index)\n",
    "cid_list = list(map(int, cid_list))\n",
    "\n",
    "connect = sqlite3.connect('/mnt/external-images-pvc/quantmap/qm_chem_fix.sqlite')\n",
    "d = connect.cursor()\n",
    "d.execute(\"select cid,smiles from stitch_chem where cid in (\"+str(cid_list)[1:-1]+\");\")\n",
    "cid_smiles_list = d.fetchall()\n",
    "\n",
    "cid_smiles_dict = {}\n",
    "for entry in cid_smiles_list:\n",
    "    cid_smiles_dict[entry[0]] = entry[1]\n",
    "    \n",
    "output = open(\"ML_input_5338.txt\",\"w\")\n",
    "cluster_count = {}\n",
    "for cid,cluster in zip(cid_list,cid_cluster):\n",
    "    try:\n",
    "        output.write(str(cid_smiles_dict[cid]) + \"\\t\" + str(cluster) + \"\\n\")\n",
    "        if cluster not in cluster_count:\n",
    "            cluster_count[cluster] = 1\n",
    "        else:\n",
    "            cluster_count[cluster] += 1\n",
    "    except:\n",
    "        pass\n",
    "output.close()"
   ]
  },
  {
   "cell_type": "code",
   "execution_count": null,
   "metadata": {},
   "outputs": [],
   "source": [
    "count = sum([1 for cluster in cluster_count if cluster_count[cluster] == 1])\n",
    "print (\"Clusters with only one label = \" + str(count))"
   ]
  },
  {
   "cell_type": "code",
   "execution_count": null,
   "metadata": {},
   "outputs": [],
   "source": [
    "# Frequency of the clusters counts. eg, there are ones and the count is 100, twos count is 29 etc\n",
    "\n",
    "cluster_count_frequency = {}\n",
    "for cluster in cluster_count:\n",
    "    if cluster_count[cluster] not in cluster_count_frequency:\n",
    "        cluster_count_frequency[cluster_count[cluster]] = 1\n",
    "    else:\n",
    "        cluster_count_frequency[cluster_count[cluster]] += 1\n",
    "\n",
    "{k: v for k, v in sorted(cluster_count_frequency.items(), key=lambda item: item[0])}\n",
    "# Cluster frequency and its count (or number of occurances)"
   ]
  },
  {
   "cell_type": "code",
   "execution_count": null,
   "metadata": {},
   "outputs": [],
   "source": []
  }
 ],
 "metadata": {
  "kernelspec": {
   "display_name": "molpmofit",
   "language": "python",
   "name": "molpmofit"
  },
  "language_info": {
   "codemirror_mode": {
    "name": "ipython",
    "version": 3
   },
   "file_extension": ".py",
   "mimetype": "text/x-python",
   "name": "python",
   "nbconvert_exporter": "python",
   "pygments_lexer": "ipython3",
   "version": "3.7.7"
  }
 },
 "nbformat": 4,
 "nbformat_minor": 4
}
