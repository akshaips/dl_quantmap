{
 "cells": [
  {
   "cell_type": "code",
   "execution_count": 2,
   "metadata": {},
   "outputs": [
    {
     "name": "stdout",
     "output_type": "stream",
     "text": [
      "('stitch_chem',)\n",
      "('stitch_protchem_man',)\n",
      "('string_protlink_man',)\n",
      "('chem_freq',)\n",
      "('chem_uniq',)\n",
      "('chem_hubs_orig',)\n",
      "('string_protlink_man905',)\n",
      "('chem_hubs',)\n",
      "('string_prots_910',)\n",
      "('stitch_chem40',)\n",
      "('chem_hubs_4_10',)\n",
      "('cid_prot_rank',)\n",
      "('spearman_table',)\n",
      "('akshai_chem_hubs',)\n"
     ]
    }
   ],
   "source": [
    "import time\n",
    "\n",
    "import tqdm\n",
    "\n",
    "import sqlite3\n",
    "\n",
    "conn_old = sqlite3.connect('/mnt/external-images-pvc/quantmap/qm_chem_fix.sqlite') #OLD DATABASE\n",
    "co = conn_old.cursor()\n",
    "#c.execute(\"SELECT name FROM sqlite_master WHERE type='table';\")\n",
    "#List tables\n",
    "co.execute(\"SELECT name FROM sqlite_master WHERE type='table';\")\n",
    "for table in co.fetchall():\n",
    "    print (table)"
   ]
  },
  {
   "cell_type": "code",
   "execution_count": 68,
   "metadata": {},
   "outputs": [
    {
     "name": "stdout",
     "output_type": "stream",
     "text": [
      "(0, 'chiral', 'tinyint(1)', 0, None, 0)\n",
      "(1, 'cid', 'int(10)', 0, None, 0)\n",
      "(2, 'cmpd', 'text', 1, None, 0)\n",
      "(3, 'mw', 'double', 1, None, 0)\n",
      "(4, 'smiles', 'blob', 1, None, 0)\n",
      "(0, 1, 'acetylcarnitine', 203.23558, 'CC(=O)OC(CC(=O)[O-])C[N+](C)(C)C')\n",
      "(0, 3, 'AR-1G6178', 156.13602, 'C1=CC(C(C(=C1)C(=O)O)O)O')\n",
      "(0, 4, 'aminopropanol', 75.10966, 'CC(CN)O')\n"
     ]
    }
   ],
   "source": [
    "old_table = new_table = \"stitch_chem\"\n",
    "#co.execute(\"drop table \" + old_table + \";\")\n",
    "\n",
    "co.execute(\"pragma table_info(\" + old_table + \");\")\n",
    "#print (co.fetchall())\n",
    "for entry in co.fetchall():\n",
    "    print (entry)\n",
    "\n",
    "\n",
    "co.execute(\"select * from \" + old_table + \" limit 3;\")\n",
    "for entry in co.fetchall():\n",
    "    print (entry)\n",
    "    "
   ]
  },
  {
   "cell_type": "code",
   "execution_count": 4,
   "metadata": {},
   "outputs": [],
   "source": [
    "# Get CIDs which are having calculated protein ranking data\n",
    "\n",
    "co.execute(\"select cid from \" + new_table + \" group by cid;\")\n",
    "calculated_cid = []\n",
    "for cid in co.fetchall():\n",
    "    calculated_cid.append(cid)\n",
    "    \n",
    "cid_list = calculated_cid"
   ]
  },
  {
   "cell_type": "code",
   "execution_count": 5,
   "metadata": {},
   "outputs": [
    {
     "data": {
      "text/plain": [
       "(43538, 43538)"
      ]
     },
     "execution_count": 5,
     "metadata": {},
     "output_type": "execute_result"
    }
   ],
   "source": [
    "len(calculated_cid),len(cid_list)"
   ]
  },
  {
   "cell_type": "code",
   "execution_count": 6,
   "metadata": {},
   "outputs": [
    {
     "name": "stdout",
     "output_type": "stream",
     "text": [
      "(0, 'cid', 'int(10)', 0, None, 0)\n",
      "(1, 'protein', 'varchar(64)', 0, None, 0)\n",
      "(2, 'rank', 'float', 0, None, 0)\n",
      "(1, 'ENSP00000302665', 1.0)\n",
      "(1, 'ENSP00000358525', 2.0)\n",
      "(1, 'ENSP00000172229', 3.5)\n"
     ]
    }
   ],
   "source": [
    "table_to_analyse = old_table #\"chem_hubs_orig\"\n",
    "\n",
    "co.execute(\"pragma table_info(\" + table_to_analyse + \");\")\n",
    "for entry in co.fetchall():\n",
    "    print (entry)\n",
    "\n",
    "co.execute(\"select * from \" + table_to_analyse + \" limit 3;\")\n",
    "query_output = co.fetchall()\n",
    "for entry in query_output:\n",
    "    print (entry)"
   ]
  },
  {
   "cell_type": "code",
   "execution_count": 59,
   "metadata": {},
   "outputs": [
    {
     "name": "stdout",
     "output_type": "stream",
     "text": [
      "4227856\n"
     ]
    }
   ],
   "source": [
    "co.execute(\"select cid,protein,rank from \" + table_to_analyse + \";\")\n",
    "sql_data = co.fetchall()\n",
    "print (len(sql_data))"
   ]
  },
  {
   "cell_type": "code",
   "execution_count": 60,
   "metadata": {},
   "outputs": [],
   "source": [
    "unique_protein_ids = []\n",
    "for entry in sql_data:\n",
    "    unique_protein_ids.append(entry[1])"
   ]
  },
  {
   "cell_type": "code",
   "execution_count": 61,
   "metadata": {},
   "outputs": [],
   "source": [
    "wrd_indx = {}\n",
    "indx_wrd = {}\n",
    "for i,entry in enumerate(set(unique_protein_ids)):\n",
    "    wrd_indx[entry] = i\n",
    "    indx_wrd[i] = entry"
   ]
  },
  {
   "cell_type": "code",
   "execution_count": 62,
   "metadata": {},
   "outputs": [],
   "source": [
    "def make_full_feature(cid):\n",
    "    output_list = [0 for entry in wrd_indx]\n",
    "    \n",
    "    if type(cid) is not int():\n",
    "        cid = cid[0]\n",
    "    \n",
    "    for entry in sql_data:\n",
    "        if entry[0] == cid:\n",
    "            output_list[wrd_indx[entry[1]]] = entry[2]\n",
    "    \n",
    "    return (output_list)\n"
   ]
  },
  {
   "cell_type": "markdown",
   "metadata": {},
   "source": [
    "### Batch kmeans"
   ]
  },
  {
   "cell_type": "code",
   "execution_count": 306,
   "metadata": {},
   "outputs": [
    {
     "name": "stderr",
     "output_type": "stream",
     "text": [
      "\n",
      "\n",
      "\n",
      "\n",
      "\n",
      "\n",
      "0it [00:00, ?it/s]\u001b[A\u001b[A\u001b[A\u001b[A\u001b[A\u001b[A"
     ]
    }
   ],
   "source": [
    "from sklearn.cluster import MiniBatchKMeans\n",
    "import numpy as np\n",
    "from sklearn.metrics.pairwise import pairwise_distances_argmin \n",
    "\n",
    "batch_size = 100\n",
    "cid_list = list(set([entry[0] for entry in sql_data]))\n",
    "batches = len(cid_list)//batch_size\n",
    "\n",
    "kmeans = MiniBatchKMeans(n_clusters=2,random_state=0,batch_size=batch_size)\n",
    "\n",
    "loop = tqdm.tqdm(range(batches),total=batches,leave=False)\n",
    "'''for batch in loop:\n",
    "    batch_data = []\n",
    "    for count in range(batch_size):\n",
    "        batch_data.append(make_full_feature(sql_data,cid_list[count+((batch)*batch_size)]))\n",
    "    print (batches)\n",
    "    kmeans = kmeans.partial_fit(np.array(batch_data))'''\n",
    "batch_data = []\n",
    "for cid in cid_list:\n",
    "    batch_data.append(make_full_feature(sql_data,cid))\n",
    "    \n",
    "kmeans = MiniBatchKMeans(init ='k-means++', n_clusters = 4, \n",
    "                      batch_size = batch_size, n_init = 10, \n",
    "                      max_no_improvement = 10, verbose = 0) \n",
    "\n",
    "kmeans.fit(batch_data) \n",
    "kmeans_means_cluster_centers = np.sort(kmeans.cluster_centers_, axis = 0) \n",
    "kmeans_means_labels = pairwise_distances_argmin(batch_data, kmeans_means_cluster_centers) "
   ]
  },
  {
   "cell_type": "code",
   "execution_count": 309,
   "metadata": {},
   "outputs": [
    {
     "name": "stdout",
     "output_type": "stream",
     "text": [
      "5280961 2\n",
      "445154 2\n",
      "2244 1\n",
      "104741 1\n",
      "5281576 2\n",
      "5035 2\n",
      "5281707 2\n",
      "3672 0\n",
      "77999 1\n",
      "3026 2\n",
      "3476 2\n",
      "2733525 2\n",
      "3224 2\n",
      "3032 0\n",
      "1752 2\n",
      "448537 1\n",
      "5757 1\n",
      "6623 1\n"
     ]
    }
   ],
   "source": [
    "for entry,cid in zip(kmeans_means_labels,cid_list):\n",
    "    print (cid,int(entry))"
   ]
  },
  {
   "cell_type": "markdown",
   "metadata": {},
   "source": [
    "### Full kmean"
   ]
  },
  {
   "cell_type": "code",
   "execution_count": 14,
   "metadata": {},
   "outputs": [],
   "source": [
    "from sklearn.cluster import KMeans\n",
    "from sklearn.cluster import DBSCAN\n",
    "import numpy as np\n",
    "\n",
    "\n",
    "#all_data = []\n",
    "#loop = tqdm.tqdm(enumerate(cid_list),total=len(cid_list),leave=False)\n",
    "#for i,entry in loop:\n",
    "#    all_data.append(make_full_feature(entry))"
   ]
  },
  {
   "cell_type": "code",
   "execution_count": 53,
   "metadata": {},
   "outputs": [
    {
     "name": "stderr",
     "output_type": "stream",
     "text": [
      "100%|██████████| 5000/5000 [02:55<00:00, 28.52it/s]\n"
     ]
    }
   ],
   "source": [
    "from multiprocessing import Pool\n",
    "from functools import partial\n",
    "\n",
    "Number_of_workers = 8\n",
    "\n",
    "p = Pool(Number_of_workers)\n",
    "#func = partial(make_full_feature, sql_data)\n",
    "all_data = list(tqdm.tqdm(p.imap(make_full_feature, cid_list[:5000]), total=len(cid_list[:5000])))\n",
    "p.close()"
   ]
  },
  {
   "cell_type": "code",
   "execution_count": 79,
   "metadata": {},
   "outputs": [
    {
     "data": {
      "text/plain": [
       "(5000, 12243)"
      ]
     },
     "execution_count": 79,
     "metadata": {},
     "output_type": "execute_result"
    }
   ],
   "source": [
    "len(all_data),len(all_data[0])"
   ]
  },
  {
   "cell_type": "code",
   "execution_count": 55,
   "metadata": {},
   "outputs": [],
   "source": [
    "kmeans = KMeans(n_clusters=5,max_iter=1000,n_init=100,algorithm=\"elkan\").fit(np.array(all_data))"
   ]
  },
  {
   "cell_type": "code",
   "execution_count": 56,
   "metadata": {},
   "outputs": [],
   "source": [
    "output_dict = {}\n",
    "for label,cid in zip(kmeans.labels_,cid_list):\n",
    "    output_dict[cid] = label"
   ]
  },
  {
   "cell_type": "code",
   "execution_count": 80,
   "metadata": {},
   "outputs": [],
   "source": [
    "new_dict = {k: v for k, v in sorted(output_dict.items(), key=lambda item: item[1])}"
   ]
  },
  {
   "cell_type": "code",
   "execution_count": 78,
   "metadata": {},
   "outputs": [],
   "source": [
    "output = open(\"first_5000.txt\",\"w\")\n",
    "for entry in new_dict:\n",
    "    co.execute(\"select smiles from stitch_chem where cid = \" + str(entry[0]) + \" limit 1;\")\n",
    "    smiles = co.fetchall()[0][0]\n",
    "    if len(smiles) > 5:\n",
    "        output.write(str(smiles) + \" \" + str(new_dict[entry]) + \"\\n\")\n",
    "output.close()"
   ]
  },
  {
   "cell_type": "code",
   "execution_count": 83,
   "metadata": {},
   "outputs": [],
   "source": [
    "def do_kmean(input_dict,clas):\n",
    "    all_data = []\n",
    "    cids = []\n",
    "    for i,entry in enumerate(input_dict):\n",
    "        if input_dict[entry] == clas:\n",
    "            all_data.append(make_full_feature(entry))\n",
    "            cids.append(entry)\n",
    "            \n",
    "    kmeans = KMeans(n_clusters=2,max_iter=1000,n_init=100,algorithm=\"elkan\").fit(np.array(all_data))\n",
    "    \n",
    "    output_dict = {}\n",
    "    for label,cid in zip(kmeans.labels_,cids):\n",
    "        output_dict[cid] = label\n",
    "    \n",
    "    return (output_dict) \n",
    "    \n",
    "    \n",
    "def make_cluster_of_n(input_dict,per_cluster_count):\n",
    "    class_count = {}\n",
    "    for entry in input_dict:\n",
    "        if input_dict[entry] not in class_count:\n",
    "            class_count[input_dict[entry]] = 1\n",
    "        else:\n",
    "            class_count[input_dict[entry]] += 1\n",
    "    \n",
    "    total = 0\n",
    "    for clas in class_count:\n",
    "        if class_count[clas] > per_cluster_count:\n",
    "            total += 1\n",
    "            kmean_dict = do_kmean(input_dict,clas)\n",
    "            for entry in kmean_dict:\n",
    "                input_dict[entry] = kmean_dict[entry] + max(list(input_dict.values()))\n",
    "    \n",
    "    if total == 0:\n",
    "        return ({k: v for k, v in sorted(input_dict.items(), key=lambda item: item[1])})\n",
    "    else:\n",
    "        return (make_cluster_of_n(input_dict,per_cluster_count))\n",
    "            \n",
    "            "
   ]
  },
  {
   "cell_type": "code",
   "execution_count": null,
   "metadata": {},
   "outputs": [],
   "source": [
    "per_cluster_count = 10\n",
    "make_cluster_of_n(output_dict,per_cluster_count)"
   ]
  },
  {
   "cell_type": "code",
   "execution_count": null,
   "metadata": {},
   "outputs": [],
   "source": []
  }
 ],
 "metadata": {
  "kernelspec": {
   "display_name": "molpmofit",
   "language": "python",
   "name": "molpmofit"
  },
  "language_info": {
   "codemirror_mode": {
    "name": "ipython",
    "version": 3
   },
   "file_extension": ".py",
   "mimetype": "text/x-python",
   "name": "python",
   "nbconvert_exporter": "python",
   "pygments_lexer": "ipython3",
   "version": "3.7.7"
  }
 },
 "nbformat": 4,
 "nbformat_minor": 4
}
