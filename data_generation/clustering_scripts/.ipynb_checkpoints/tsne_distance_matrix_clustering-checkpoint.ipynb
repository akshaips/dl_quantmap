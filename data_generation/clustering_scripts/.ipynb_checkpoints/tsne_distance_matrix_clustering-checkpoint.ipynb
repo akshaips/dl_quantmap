{
 "cells": [
  {
   "cell_type": "code",
   "execution_count": 60,
   "metadata": {},
   "outputs": [
    {
     "name": "stdout",
     "output_type": "stream",
     "text": [
      "('stitch_protchem_man',)\n",
      "('string_protlink_man',)\n"
     ]
    }
   ],
   "source": [
    "import sqlite3\n",
    "conn = sqlite3.connect('/mnt/external-images-pvc/quantmap/qm_pr01.sqlite')\n",
    "c = conn.cursor()\n",
    "#c.execute(\"SELECT name FROM sqlite_master WHERE type='table';\")\n",
    "#List tables\n",
    "c.execute(\"SELECT name FROM sqlite_master WHERE type='table';\")\n",
    "for table in c.fetchall():\n",
    "    print (table)"
   ]
  },
  {
   "cell_type": "code",
   "execution_count": 61,
   "metadata": {},
   "outputs": [
    {
     "name": "stdout",
     "output_type": "stream",
     "text": [
      "Total number of branches = 1489\n"
     ]
    }
   ],
   "source": [
    "# Find the number of brances from the newick tree and to change the header to CID numbers\n",
    "# Total number of brances for 5338 data is 1489\n",
    "try:\n",
    "    open_file = open(\"newick_format.txt\",\"r\").readlines()\n",
    "    newick_format = \"\"\n",
    "    for entry in open_file:\n",
    "        newick_format += entry[:-1]\n",
    "\n",
    "    total_branches = newick_format.count(\"(\") - 1\n",
    "    print (\"Total number of branches = \" + str(total_branches))\n",
    "\n",
    "    newick_format = newick_format.replace(\"CID\",\"\")\n",
    "    write_newick = open(\"newick_format_output.txt\",\"w\")\n",
    "    write_newick.write(newick_format)\n",
    "    write_newick.close()\n",
    "except:\n",
    "    print (\"Total number of branches = 1489\")"
   ]
  },
  {
   "cell_type": "code",
   "execution_count": 62,
   "metadata": {},
   "outputs": [],
   "source": [
    "# Read the distance matrix and replace the header to CID numbers\n",
    "import pandas as pd\n",
    "distance_matrix = \"distance_matrix_qmap_chemicals.txt\"\n",
    "output_matrix = distance_matrix[:-4] + \"_out.csv\"\n",
    "open_file = open(distance_matrix,\"r\").readlines()\n",
    "distance_matrix = {}\n",
    "output = \"\"\n",
    "for count,line in enumerate(open_file):\n",
    "    if count == 0:\n",
    "        heading_list = line.split(\",\")\n",
    "        output += \",\" + line\n",
    "    else:\n",
    "        output += heading_list[count-1].strip() + \",\" + line\n",
    "    \n",
    "output = output.replace(\"CID\",\"\")\n",
    "out_file = open(output_matrix,\"w\")\n",
    "out_file.write(output)\n",
    "out_file.close()\n",
    "m = pd.read_csv(output_matrix,index_col=0)"
   ]
  },
  {
   "cell_type": "code",
   "execution_count": 106,
   "metadata": {},
   "outputs": [
    {
     "data": {
      "text/plain": [
       "(18, 3)"
      ]
     },
     "execution_count": 106,
     "metadata": {},
     "output_type": "execute_result"
    }
   ],
   "source": [
    "# Distance matrix clustering using tsne\n",
    "\n",
    "from sklearn.manifold import TSNE\n",
    "import numpy as np\n",
    "m1 = m.copy()\n",
    "\n",
    "kmean = \"\"\n",
    "kmean = TSNE(n_components=3,n_jobs=8,metric=\"precomputed\",method=\"exact\").fit_transform(m1)\n",
    "kmean.shape"
   ]
  },
  {
   "cell_type": "code",
   "execution_count": 107,
   "metadata": {},
   "outputs": [
    {
     "data": {
      "text/plain": [
       "array([[ -74.540955,   12.989391,  -48.282406],\n",
       "       [ -40.02215 , -235.76843 ,   14.563934],\n",
       "       [ -11.617976,   94.44393 , -250.69688 ],\n",
       "       [ -28.796268, -199.16653 , -206.40216 ],\n",
       "       [ 264.9761  ,  -35.141254,  200.39523 ],\n",
       "       [ 108.01347 ,  139.03836 ,  140.45038 ],\n",
       "       [ 116.616196, -249.13199 ,  197.95352 ],\n",
       "       [-122.48972 ,  165.6543  ,  128.49413 ],\n",
       "       [-216.01805 , -126.98593 ,  119.4317  ],\n",
       "       [-282.59772 ,   93.482315,   -8.02976 ],\n",
       "       [ 130.36319 ,  -59.704636, -150.03822 ],\n",
       "       [ -44.917446,  -30.252108,  231.37363 ],\n",
       "       [ 250.43822 ,   96.00705 ,  -51.439125],\n",
       "       [-229.41696 , -127.30476 , -123.81338 ],\n",
       "       [ 109.171005,  -78.22495 ,   58.63421 ],\n",
       "       [-403.3331  ,   26.835087, -181.21281 ],\n",
       "       [  18.847454,  232.58621 ,  -56.4355  ],\n",
       "       [ 184.57367 , -270.93555 , -276.34888 ]], dtype=float32)"
      ]
     },
     "execution_count": 107,
     "metadata": {},
     "output_type": "execute_result"
    }
   ],
   "source": [
    "kmean"
   ]
  },
  {
   "cell_type": "code",
   "execution_count": 118,
   "metadata": {},
   "outputs": [],
   "source": [
    "# Get CID and respective cluster\n",
    "cid_cluster_kmean = {}\n",
    "for cid,cluster in zip(cid_list,result):\n",
    "    cid_cluster_kmean[cid] =  cluster"
   ]
  },
  {
   "cell_type": "code",
   "execution_count": 119,
   "metadata": {},
   "outputs": [],
   "source": [
    "from sklearn.cluster import KMeans\n",
    "from sklearn.cluster import AgglomerativeClustering as AC\n",
    "\n",
    "kmean = \"\"\n",
    "kmean= KMeans(n_clusters=5)\n",
    "kmean.fit(X_embedded)\n",
    "result= kmean.labels_\n",
    "m1['label']= result\n",
    "cid_cluster = m1['label']"
   ]
  },
  {
   "cell_type": "code",
   "execution_count": 51,
   "metadata": {},
   "outputs": [],
   "source": [
    "# Get the CID and label of it\n",
    "# Get smiles from the database\n",
    "# Replace cid with smiles\n",
    "# Output to a file\n",
    "\n",
    "index = cid_cluster.index\n",
    "cid_list = list(index)\n",
    "cid_list = list(map(int, cid_list))\n",
    "\n",
    "connect = sqlite3.connect('/mnt/external-images-pvc/quantmap/qm_chem_fix.sqlite')\n",
    "d = connect.cursor()\n",
    "d.execute(\"select cid,smiles from stitch_chem where cid in (\"+str(cid_list)[1:-1]+\");\")\n",
    "cid_smiles_list = d.fetchall()\n",
    "\n",
    "cid_smiles_dict = {}\n",
    "for entry in cid_smiles_list:\n",
    "    cid_smiles_dict[entry[0]] = entry[1]\n",
    "    \n",
    "output = open(\"ML_input_5338.txt\",\"w\")\n",
    "cluster_count = {}\n",
    "for cid,cluster in zip(cid_list,cid_cluster):\n",
    "    try:\n",
    "        output.write(str(cid_smiles_dict[cid]) + \"\\t\" + str(cluster) + \"\\n\")\n",
    "        if cluster not in cluster_count:\n",
    "            cluster_count[cluster] = 1\n",
    "        else:\n",
    "            cluster_count[cluster] += 1\n",
    "    except:\n",
    "        pass\n",
    "output.close()"
   ]
  },
  {
   "cell_type": "code",
   "execution_count": 52,
   "metadata": {},
   "outputs": [
    {
     "name": "stdout",
     "output_type": "stream",
     "text": [
      "Clusters with only one label = 0\n"
     ]
    }
   ],
   "source": [
    "count = sum([1 for cluster in cluster_count if cluster_count[cluster] == 1])\n",
    "print (\"Clusters with only one label = \" + str(count))"
   ]
  },
  {
   "cell_type": "code",
   "execution_count": 123,
   "metadata": {},
   "outputs": [
    {
     "data": {
      "text/plain": [
       "{740: 1, 861: 1, 880: 1, 925: 1, 1817: 1}"
      ]
     },
     "execution_count": 123,
     "metadata": {},
     "output_type": "execute_result"
    }
   ],
   "source": [
    "# Frequency of the clusters counts. eg, there are ones and the count is 100, twos count is 29 etc\n",
    "\n",
    "cluster_count_frequency = {}\n",
    "for cluster in cluster_count:\n",
    "    if cluster_count[cluster] not in cluster_count_frequency:\n",
    "        cluster_count_frequency[cluster_count[cluster]] = 1\n",
    "    else:\n",
    "        cluster_count_frequency[cluster_count[cluster]] += 1\n",
    "\n",
    "{k: v for k, v in sorted(cluster_count_frequency.items(), key=lambda item: item[0])}\n",
    "# Cluster frequency and its count (or number of occurances)"
   ]
  },
  {
   "cell_type": "code",
   "execution_count": null,
   "metadata": {},
   "outputs": [],
   "source": []
  }
 ],
 "metadata": {
  "kernelspec": {
   "display_name": "molpmofit",
   "language": "python",
   "name": "molpmofit"
  },
  "language_info": {
   "codemirror_mode": {
    "name": "ipython",
    "version": 3
   },
   "file_extension": ".py",
   "mimetype": "text/x-python",
   "name": "python",
   "nbconvert_exporter": "python",
   "pygments_lexer": "ipython3",
   "version": "3.7.7"
  }
 },
 "nbformat": 4,
 "nbformat_minor": 4
}
