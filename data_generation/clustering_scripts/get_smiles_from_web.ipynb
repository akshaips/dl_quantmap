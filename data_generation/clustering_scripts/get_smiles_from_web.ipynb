{
 "cells": [
  {
   "cell_type": "code",
   "execution_count": 1,
   "metadata": {},
   "outputs": [],
   "source": [
    "import os\n",
    "import gc\n",
    "from multiprocessing import Pool\n",
    "from functools import partial\n",
    "import numpy as np\n",
    "import glob\n",
    "\n",
    "from rdkit import Chem\n",
    "\n",
    "from SmilesPE.pretokenizer import atomwise_tokenizer\n",
    "from SmilesPE.pretokenizer import kmer_tokenizer\n",
    "\n",
    "import string\n",
    "import tqdm\n",
    "import pandas as pd\n",
    "\n",
    "import requests"
   ]
  },
  {
   "cell_type": "code",
   "execution_count": 2,
   "metadata": {},
   "outputs": [],
   "source": [
    "def fetch_smiles(processed_query):\n",
    "    URL = \"https://pubchem.ncbi.nlm.nih.gov/rest/pug/compound/cid/\" + processed_query + \"/property/CanonicalSMILES/json\"\n",
    "    r = requests.get(URL) \n",
    "    cid_smiles = {}\n",
    "    try:\n",
    "        for entry in r.json()['PropertyTable']['Properties']:\n",
    "            cid_smiles[entry[\"CID\"]] = entry[\"CanonicalSMILES\"]\n",
    "    except:\n",
    "        print (r)\n",
    "    return (cid_smiles)\n",
    "\n",
    "def get_smiles_from_cid(query):\n",
    "    assert(type(query) == int or type(query) == list or type(query) == dict)\n",
    "    \n",
    "    \n",
    "    if type(query) == list or type(query) == dict:\n",
    "        output_dict = {}\n",
    "        processed_query = \"\"\n",
    "        loop = tqdm.tqdm(enumerate(query), total=len(query),leave=False)\n",
    "        for i,cid in loop:\n",
    "            try:\n",
    "                cid = int(cid)\n",
    "            except:\n",
    "                return (\"Error in CID = \" + str(cid))\n",
    "            processed_query += str(cid) + \",\"\n",
    "            \n",
    "            if (i + 1) % 500 == 0 or (i + 1) == len(query):\n",
    "                processed_query = processed_query[:-1]\n",
    "                fetched_dict = fetch_smiles(processed_query)\n",
    "                output_dict.update(fetched_dict)\n",
    "                processed_query = \"\"\n",
    "                \n",
    "        return output_dict\n",
    "\n",
    "    if type(query) == int:\n",
    "        processed_query = str(query)\n",
    "        for entry in r.json()['PropertyTable']['Properties']:\n",
    "            cid_smiles =  entry[\"CanonicalSMILES\"]\n",
    "            \n",
    "        return cid_smiles"
   ]
  },
  {
   "cell_type": "code",
   "execution_count": 3,
   "metadata": {},
   "outputs": [
    {
     "name": "stderr",
     "output_type": "stream",
     "text": [
      "                                                    \r"
     ]
    }
   ],
   "source": [
    "# To remove rdkit warning\n",
    "from rdkit import RDLogger\n",
    "lg = RDLogger.logger()\n",
    "lg.setLevel(RDLogger.CRITICAL)\n",
    "\n",
    "input_file = \"cid_cluster_5338.txt\"\n",
    "open_file = open(input_file,\"r\").readlines()\n",
    "cid_from_file = []\n",
    "for i,entry in enumerate(open_file):\n",
    "    cid_from_file.append(entry.split()[0])\n",
    "cid_smiles_web = get_smiles_from_cid(cid_from_file)"
   ]
  },
  {
   "cell_type": "code",
   "execution_count": 4,
   "metadata": {},
   "outputs": [],
   "source": [
    "input_file = \"ML_input_5338.txt\"\n",
    "open_file = open(input_file,\"r\").readlines()\n",
    "smiles_from_file = []\n",
    "for i,entry in enumerate(open_file):\n",
    "    smiles_from_file.append(entry.split()[0])"
   ]
  },
  {
   "cell_type": "code",
   "execution_count": 5,
   "metadata": {},
   "outputs": [
    {
     "data": {
      "text/plain": [
       "(5223, 5223)"
      ]
     },
     "execution_count": 5,
     "metadata": {},
     "output_type": "execute_result"
    }
   ],
   "source": [
    "len(cid_smiles_web),len(smiles_from_file)"
   ]
  },
  {
   "cell_type": "code",
   "execution_count": 6,
   "metadata": {},
   "outputs": [],
   "source": [
    "def sanitize_molecule(output_type=None,smiles=None):\n",
    "    molecule = Chem.MolFromSmiles(smiles,sanitize=False)\n",
    "    if molecule is None:\n",
    "        return None\n",
    "    else:\n",
    "        try:\n",
    "            Chem.SanitizeMol(molecule)\n",
    "            if output_type == \"canonical\":\n",
    "                return Chem.MolToSmiles(molecule)\n",
    "            else:\n",
    "                return smiles\n",
    "        except:\n",
    "            return None\n",
    "\n",
    "        \n",
    "# List or dataframe with header (\"Smiles,Label\") as input for sanity check\n",
    "# output_type=None (canonical - for canonical smiles output)\n",
    "# Number_of_workers(1) = to run in pool of threads\n",
    "def sanity_check(df,output_type = None,Number_of_workers = 1):\n",
    "    if type(df) == list:\n",
    "        func = partial(sanitize_molecule,output_type)\n",
    "        \n",
    "        p = Pool(Number_of_workers)\n",
    "        clean_smiles = list(tqdm.tqdm(p.imap(func, df), total=len(df),leave=False))\n",
    "        p.close()\n",
    "        \n",
    "        return clean_smiles\n",
    "    \n",
    "    else:\n",
    "        labels = []\n",
    "        for label in df.groupby('Label'):\n",
    "            labels.append(label[0])\n",
    "        \n",
    "        clean_smiles_list = []\n",
    "        label_array = []\n",
    "        \n",
    "        for label in labels:\n",
    "            \n",
    "            canonical_smiles = df[df['Label'] == label]['Smiles'].to_list()\n",
    "            \n",
    "            func = partial(sanitize_molecule,output_type)\n",
    "            \n",
    "            p = Pool(Number_of_workers)\n",
    "            clean_smiles = list(tqdm.tqdm(p.imap(func, canonical_smiles), total=len(canonical_smiles),leave=False))\n",
    "            clean_smiles_list.extend(clean_smiles)\n",
    "            p.close() \n",
    "            \n",
    "            label_array.extend(label * np.ones(len(clean_smiles),dtype=int))\n",
    "            \n",
    "        output_df = pd.DataFrame(columns=[\"Smiles\",\"Label\"]) \n",
    "        output_df[\"Smiles\"] = clean_smiles_list\n",
    "        output_df[\"Label\"]  = label_array\n",
    "    \n",
    "        return  output_df"
   ]
  },
  {
   "cell_type": "code",
   "execution_count": 7,
   "metadata": {},
   "outputs": [
    {
     "name": "stderr",
     "output_type": "stream",
     "text": [
      "                                                      \r"
     ]
    }
   ],
   "source": [
    "smiles_from_file = sanity_check(smiles_from_file,output_type = \"canonical\",Number_of_workers = 8)"
   ]
  },
  {
   "cell_type": "code",
   "execution_count": 8,
   "metadata": {},
   "outputs": [],
   "source": [
    "from rdkit.Chem import AllChem\n",
    "from rdkit import Chem\n",
    "from rdkit.Chem import MACCSkeys\n",
    "from rdkit.Chem.AtomPairs import Pairs\n",
    "from rdkit import DataStructs"
   ]
  },
  {
   "cell_type": "code",
   "execution_count": 9,
   "metadata": {},
   "outputs": [],
   "source": [
    "def smiles_fingerprint(smiles,ftype,radius=None,bits=2048):\n",
    "    m1 = Chem.MolFromSmiles(smiles)\n",
    "    if ftype == \"morgan\":\n",
    "        fp1 = AllChem.GetMorganFingerprintAsBitVect(m1,radius,nBits=bits)\n",
    "        \n",
    "    if ftype == \"topological\":\n",
    "        fp1 = Chem.RDKFingerprint(m1)\n",
    "        \n",
    "    if ftype == \"MACCS\":\n",
    "        fp1 = MACCSkeys.GenMACCSKeys(m1)\n",
    "        \n",
    "    if ftype == \"atompairs\":\n",
    "        fp1 = Pairs.GetAtomPairFingerprint(m1)\n",
    "        \n",
    "    #bits = fp1.ToBitString()\n",
    "    return (fp1)"
   ]
  },
  {
   "cell_type": "code",
   "execution_count": 10,
   "metadata": {},
   "outputs": [],
   "source": [
    "smiles_web_fp = []\n",
    "for entry in cid_smiles_web:\n",
    "    smiles_web_fp.append(smiles_fingerprint(cid_smiles_web[entry],\"topological\"))"
   ]
  },
  {
   "cell_type": "code",
   "execution_count": 11,
   "metadata": {},
   "outputs": [],
   "source": [
    "smiles_file_fp = []\n",
    "for entry in smiles_from_file:\n",
    "    smiles_file_fp.append(smiles_fingerprint(entry,\"topological\"))"
   ]
  },
  {
   "cell_type": "code",
   "execution_count": 12,
   "metadata": {},
   "outputs": [
    {
     "name": "stdout",
     "output_type": "stream",
     "text": [
      "N#[N+]C=C([O-])CCC(N)C(=O)O C(CC(=O)C=[N+]=[N-])C(C(=O)O)N 164\n",
      "N#[N+]C=C([O-])OCC(N)C(=O)O C(C(C(=O)O)N)OC(=O)C=[N+]=[N-] 830\n",
      "N#[N+][O-] [N-]=[N+]=O 948\n",
      "CCC1(CCC(C)C)C(=O)N=C([O-])NC1=O CCC1(C(=O)NC(=O)N=C1[O-])CCC(C)C 2163\n",
      "O=C1CN(N=Cc2ccc(-c3ccc([N+](=O)[O-])cc3)o2)C([O-])=N1 C1C(=NC(=O)N1N=CC2=CC=C(O2)C3=CC=C(C=C3)[N+](=O)[O-])[O-] 2951\n",
      "COC1C(OC(N)=O)C(O)C(Oc2ccc3c(=O)c(NC(=O)c4ccc(O)c(CC=C(C)C)c4)c([O-])oc3c2C)OC1(C)C CC1=C(C=CC2=C1OC(=O)C(=C2[O-])NC(=O)C3=CC(=C(C=C3)O)CC=C(C)C)OC4C(C(C(C(O4)(C)C)OC)OC(=O)N)O 4545\n",
      "CCOC([O-])=C[N+]#N CCOC(=O)C=[N+]=[N-] 12192\n",
      "CCN(CC)c1ccc2nc3c4ccccc4c(=[NH2+])cc-3oc2c1.[Cl-] CC[N+](=C1C=CC2=NC3=C(C=C(C4=CC=CC=C43)N)OC2=C1)CC.[Cl-] 16938\n"
     ]
    }
   ],
   "source": [
    "count = 0\n",
    "for i,fp1 in enumerate(smiles_web_fp):\n",
    "    found = False\n",
    "    for fp2 in smiles_file_fp:\n",
    "        if (DataStructs.FingerprintSimilarity(fp1,fp2)) == 1:\n",
    "            count += 1\n",
    "            found = True\n",
    "            break\n",
    "    if not found:\n",
    "        print (smiles_from_file[i],list(cid_smiles_web.values())[i],list(cid_smiles_web.keys())[i])"
   ]
  },
  {
   "cell_type": "code",
   "execution_count": 13,
   "metadata": {},
   "outputs": [
    {
     "data": {
      "text/plain": [
       "5215"
      ]
     },
     "execution_count": 13,
     "metadata": {},
     "output_type": "execute_result"
    }
   ],
   "source": [
    "count"
   ]
  },
  {
   "cell_type": "code",
   "execution_count": 105,
   "metadata": {},
   "outputs": [
    {
     "data": {
      "text/plain": [
       "<sqlite3.Cursor at 0x7f8505a53ea0>"
      ]
     },
     "execution_count": 105,
     "metadata": {},
     "output_type": "execute_result"
    }
   ],
   "source": [
    "import sqlite3\n",
    "connect = sqlite3.connect('/mnt/external-images-pvc/quantmap/qm_chem_fix.sqlite')\n",
    "d = connect.cursor()\n",
    "d.execute(\"select cid,smiles from stitch_chem where cid = 830;\")"
   ]
  },
  {
   "cell_type": "code",
   "execution_count": 106,
   "metadata": {},
   "outputs": [
    {
     "name": "stdout",
     "output_type": "stream",
     "text": [
      "[(830, 'C(C(C(=O)O)N)OC(=C[N+]#N)[O-]'), (830, 'C(C(C(=O)O)N)OC(=C[N+]#N)[O-]')]\n"
     ]
    }
   ],
   "source": [
    "print (d.fetchall()) "
   ]
  },
  {
   "cell_type": "code",
   "execution_count": 127,
   "metadata": {},
   "outputs": [
    {
     "data": {
      "text/plain": [
       "'[N-]=[N+]=O'"
      ]
     },
     "execution_count": 127,
     "metadata": {},
     "output_type": "execute_result"
    }
   ],
   "source": [
    "#[N-]=[N+]=O\n",
    "molecule = \"[N-]=[N+]=O\"\n",
    "Chem.MolToSmiles(Chem.MolFromSmiles(molecule),canonical=True)"
   ]
  },
  {
   "cell_type": "code",
   "execution_count": 125,
   "metadata": {},
   "outputs": [
    {
     "ename": "ArgumentError",
     "evalue": "Python argument types in\n    rdkit.Chem.rdmolfiles.MolToSmiles(NoneType)\ndid not match C++ signature:\n    MolToSmiles(RDKit::ROMol mol, bool isomericSmiles=True, bool kekuleSmiles=False, int rootedAtAtom=-1, bool canonical=True, bool allBondsExplicit=False, bool allHsExplicit=False, bool doRandom=False)",
     "output_type": "error",
     "traceback": [
      "\u001b[0;31m---------------------------------------------------------------------------\u001b[0m",
      "\u001b[0;31mArgumentError\u001b[0m                             Traceback (most recent call last)",
      "\u001b[0;32m<ipython-input-125-7ddeefe75904>\u001b[0m in \u001b[0;36m<module>\u001b[0;34m\u001b[0m\n\u001b[0;32m----> 1\u001b[0;31m \u001b[0mChem\u001b[0m\u001b[0;34m.\u001b[0m\u001b[0mMolToSmiles\u001b[0m\u001b[0;34m(\u001b[0m\u001b[0mChem\u001b[0m\u001b[0;34m.\u001b[0m\u001b[0mKekulize\u001b[0m\u001b[0;34m(\u001b[0m\u001b[0mChem\u001b[0m\u001b[0;34m.\u001b[0m\u001b[0mMolFromSmiles\u001b[0m\u001b[0;34m(\u001b[0m\u001b[0mmolecule\u001b[0m\u001b[0;34m)\u001b[0m\u001b[0;34m)\u001b[0m\u001b[0;34m,\u001b[0m\u001b[0mcanonical\u001b[0m\u001b[0;34m=\u001b[0m\u001b[0;32mTrue\u001b[0m\u001b[0;34m)\u001b[0m\u001b[0;34m\u001b[0m\u001b[0;34m\u001b[0m\u001b[0m\n\u001b[0m",
      "\u001b[0;31mArgumentError\u001b[0m: Python argument types in\n    rdkit.Chem.rdmolfiles.MolToSmiles(NoneType)\ndid not match C++ signature:\n    MolToSmiles(RDKit::ROMol mol, bool isomericSmiles=True, bool kekuleSmiles=False, int rootedAtAtom=-1, bool canonical=True, bool allBondsExplicit=False, bool allHsExplicit=False, bool doRandom=False)"
     ]
    }
   ],
   "source": [
    "Chem.MolToSmiles(Chem.Kekulize(Chem.MolFromSmiles(molecule)),canonical=True)"
   ]
  },
  {
   "cell_type": "code",
   "execution_count": 22,
   "metadata": {},
   "outputs": [
    {
     "name": "stdout",
     "output_type": "stream",
     "text": [
      "{'8': 208, '3': 1466, '2': 306, '16': 171, '19': 501, '18': 268, '5': 718, '12': 36, '6': 130, '0': 292, '14': 67, '1': 325, '13': 182, '7': 142, '10': 49, '4': 167, '11': 130, '9': 21, '20': 30, '15': 4, '17': 10}\n"
     ]
    }
   ],
   "source": [
    "input_file = \"cid_cluster_5338.txt\"\n",
    "open_file = open(input_file,\"r\").readlines()\n",
    "\n",
    "clusters = {}\n",
    "for entry in open_file:\n",
    "    clus = entry.split()[1]\n",
    "    if clus in clusters:\n",
    "        clusters[clus] += 1\n",
    "    else:\n",
    "        clusters[clus] = 1\n",
    "print ((clusters))"
   ]
  },
  {
   "cell_type": "code",
   "execution_count": null,
   "metadata": {},
   "outputs": [],
   "source": [
    "clusters = {}\n",
    "for entry in open_file:\n",
    "    clus = entry.split()[1]\n",
    "    if clus in clusters:\n",
    "        clusters[clus] += 1\n",
    "    else:\n",
    "        clusters[clus] = 1\n",
    "print ((clusters))"
   ]
  }
 ],
 "metadata": {
  "kernelspec": {
   "display_name": "molpmofit",
   "language": "python",
   "name": "molpmofit"
  },
  "language_info": {
   "codemirror_mode": {
    "name": "ipython",
    "version": 3
   },
   "file_extension": ".py",
   "mimetype": "text/x-python",
   "name": "python",
   "nbconvert_exporter": "python",
   "pygments_lexer": "ipython3",
   "version": "3.7.7"
  }
 },
 "nbformat": 4,
 "nbformat_minor": 4
}
