{
 "cells": [
  {
   "cell_type": "code",
   "execution_count": 1,
   "metadata": {},
   "outputs": [
    {
     "name": "stdout",
     "output_type": "stream",
     "text": [
      "('stitch_protchem_man',)\n",
      "('string_protlink_man',)\n"
     ]
    }
   ],
   "source": [
    "import sqlite3\n",
    "conn = sqlite3.connect('/mnt/external-images-pvc/quantmap/qm_pr01.sqlite')\n",
    "c = conn.cursor()\n",
    "#c.execute(\"SELECT name FROM sqlite_master WHERE type='table';\")\n",
    "#List tables\n",
    "c.execute(\"SELECT name FROM sqlite_master WHERE type='table';\")\n",
    "for table in c.fetchall():\n",
    "    print (table)"
   ]
  },
  {
   "cell_type": "code",
   "execution_count": 2,
   "metadata": {},
   "outputs": [
    {
     "name": "stdout",
     "output_type": "stream",
     "text": [
      "Total number of branches = 1489\n"
     ]
    }
   ],
   "source": [
    "# Find the number of brances from the newick tree and to change the header to CID numbers\n",
    "# Total number of brances for 5338 data is 1489\n",
    "try:\n",
    "    open_file = open(\"newick_format.txt\",\"r\").readlines()\n",
    "    newick_format = \"\"\n",
    "    for entry in open_file:\n",
    "        newick_format += entry[:-1]\n",
    "\n",
    "    total_branches = newick_format.count(\"(\") - 1\n",
    "    print (\"Total number of branches = \" + str(total_branches))\n",
    "\n",
    "    newick_format = newick_format.replace(\"CID\",\"\")\n",
    "    write_newick = open(\"newick_format_output.txt\",\"w\")\n",
    "    write_newick.write(newick_format)\n",
    "    write_newick.close()\n",
    "except:\n",
    "    print (\"Total number of branches = 1489\")"
   ]
  },
  {
   "cell_type": "code",
   "execution_count": 3,
   "metadata": {},
   "outputs": [],
   "source": [
    "# Read the distance matrix and replace the header to CID numbers\n",
    "import pandas as pd\n",
    "distance_matrix = \"distance_matrix_5338.txt\"\n",
    "output_matrix = distance_matrix[:-4] + \"_out.csv\"\n",
    "open_file = open(distance_matrix,\"r\").readlines()\n",
    "distance_matrix = {}\n",
    "output = \"\"\n",
    "for count,line in enumerate(open_file):\n",
    "    if count == 0:\n",
    "        heading_list = line.split(\",\")\n",
    "        output += \",\" + line\n",
    "    else:\n",
    "        output += heading_list[count-1].strip() + \",\" + line\n",
    "    \n",
    "output = output.replace(\"CID\",\"\")\n",
    "out_file = open(output_matrix,\"w\")\n",
    "out_file.write(output)\n",
    "out_file.close()\n",
    "m = pd.read_csv(output_matrix,index_col=0)"
   ]
  },
  {
   "cell_type": "code",
   "execution_count": 17,
   "metadata": {},
   "outputs": [
    {
     "name": "stdout",
     "output_type": "stream",
     "text": [
      "CPU times: user 1.72 s, sys: 440 ms, total: 2.16 s\n",
      "Wall time: 2.64 s\n"
     ]
    }
   ],
   "source": [
    "%%time\n",
    "# Distance matrix clustering using k-mean\n",
    "\n",
    "from sklearn.cluster import KMeans\n",
    "from sklearn.cluster import AgglomerativeClustering as AC\n",
    "import numpy as np\n",
    "m1 = m.copy()\n",
    "kmean = \"\"\n",
    "kmean=AC(n_clusters=8, affinity='precomputed',linkage=\"complete\",compute_distances=True)#,distance_threshold=0.5,compute_full_tree=True)\n",
    "kmean.fit(m1)\n",
    "result= kmean.labels_\n",
    "m1['label']= result\n",
    "cid_cluster = m1['label']"
   ]
  },
  {
   "cell_type": "code",
   "execution_count": 18,
   "metadata": {},
   "outputs": [
    {
     "name": "stdout",
     "output_type": "stream",
     "text": [
      "{0, 1, 2, 3, 4, 5, 6, 7}\n"
     ]
    }
   ],
   "source": [
    "print (set(list(kmean.labels_)))"
   ]
  },
  {
   "cell_type": "code",
   "execution_count": 32,
   "metadata": {},
   "outputs": [],
   "source": [
    "from matplotlib import pyplot as plt\n",
    "from scipy.cluster.hierarchy import linkage, fcluster,dendrogram\n",
    "def plot_dendrogram(model, **kwargs):\n",
    "    # Create linkage matrix and then plot the dendrogram\n",
    "\n",
    "    # create the counts of samples under each node\n",
    "    counts = np.zeros(model.children_.shape[0])\n",
    "    n_samples = len(model.labels_)\n",
    "    for i, merge in enumerate(model.children_):\n",
    "        current_count = 0\n",
    "        for child_idx in merge:\n",
    "            if child_idx < n_samples:\n",
    "                current_count += 1  # leaf node\n",
    "            else:\n",
    "                current_count += counts[child_idx - n_samples]\n",
    "        counts[i] = current_count\n",
    "\n",
    "    linkage_matrix = np.column_stack([model.children_, model.distances_,\n",
    "                                      counts]).astype(float)\n",
    "\n",
    "    # Plot the corresponding dendrogram\n",
    "    dendrogram(linkage_matrix, **kwargs)"
   ]
  },
  {
   "cell_type": "code",
   "execution_count": 45,
   "metadata": {},
   "outputs": [
    {
     "data": {
      "image/png": "[encoded data removed]",
      "text/plain": [
       "<Figure size 432x288 with 1 Axes>"
      ]
     },
     "metadata": {
      "needs_background": "light"
     },
     "output_type": "display_data"
    }
   ],
   "source": [
    "plt.title('Hierarchical Clustering Dendrogram')\n",
    "# plot the top three levels of the dendrogram\n",
    "plot_dendrogram(kmean, truncate_mode='lastp', p=5) #lastp\n",
    "plt.xlabel(\"Number of points in node (or index of point if no parenthesis).\")\n",
    "plt.show()"
   ]
  },
  {
   "cell_type": "code",
   "execution_count": 46,
   "metadata": {},
   "outputs": [
    {
     "data": {
      "image/png": "[encoded data removed]",
      "text/plain": [
       "<Figure size 432x288 with 1 Axes>"
      ]
     },
     "metadata": {
      "needs_background": "light"
     },
     "output_type": "display_data"
    }
   ],
   "source": [
    "plt.title('Hierarchical Clustering Dendrogram')\n",
    "# plot the top three levels of the dendrogram\n",
    "plot_dendrogram(kmean, truncate_mode='level', p=1) #lastp\n",
    "plt.xlabel(\"Number of points in node (or index of point if no parenthesis).\")\n",
    "plt.show()"
   ]
  },
  {
   "cell_type": "code",
   "execution_count": 21,
   "metadata": {},
   "outputs": [
    {
     "data": {
      "text/plain": [
       "{4: 1, 197: 1, 258: 1, 268: 1, 473: 1, 559: 1, 1497: 1, 1967: 1}"
      ]
     },
     "execution_count": 21,
     "metadata": {},
     "output_type": "execute_result"
    }
   ],
   "source": [
    "{4: 1, 197: 1, 258: 1, 268: 1, 473: 1, 559: 1, 1497: 1, 1967: 1}"
   ]
  },
  {
   "cell_type": "code",
   "execution_count": 22,
   "metadata": {},
   "outputs": [
    {
     "name": "stdout",
     "output_type": "stream",
     "text": [
      "{0, 1, 2, 3, 4, 5, 6, 7}\n"
     ]
    }
   ],
   "source": [
    "print (set(list(kmean.labels_)))"
   ]
  },
  {
   "cell_type": "code",
   "execution_count": 23,
   "metadata": {},
   "outputs": [
    {
     "data": {
      "text/plain": [
       "array([[ 2128,  2129],\n",
       "       [ 4115,  4844],\n",
       "       [ 4210,  4728],\n",
       "       ...,\n",
       "       [10383, 10437],\n",
       "       [10438, 10441],\n",
       "       [10442, 10443]])"
      ]
     },
     "execution_count": 23,
     "metadata": {},
     "output_type": "execute_result"
    }
   ],
   "source": [
    "kmean.children_"
   ]
  },
  {
   "cell_type": "code",
   "execution_count": 24,
   "metadata": {},
   "outputs": [
    {
     "data": {
      "text/plain": [
       "array([0.        , 0.        , 0.        , ..., 0.98748053, 0.99751089,\n",
       "       1.        ])"
      ]
     },
     "execution_count": 24,
     "metadata": {},
     "output_type": "execute_result"
    }
   ],
   "source": [
    "kmean.distances_"
   ]
  },
  {
   "cell_type": "code",
   "execution_count": 25,
   "metadata": {},
   "outputs": [
    {
     "data": {
      "text/plain": [
       "5223"
      ]
     },
     "execution_count": 25,
     "metadata": {},
     "output_type": "execute_result"
    }
   ],
   "source": [
    "len(cid_cluster)"
   ]
  },
  {
   "cell_type": "code",
   "execution_count": 26,
   "metadata": {},
   "outputs": [
    {
     "name": "stdout",
     "output_type": "stream",
     "text": [
      "10170\n",
      "5223\n"
     ]
    }
   ],
   "source": [
    "# Get the CID and label of it\n",
    "# Get smiles from the database\n",
    "# Replace cid with smiles\n",
    "# Output to a file\n",
    "\n",
    "index = cid_cluster.index\n",
    "cid_list = list(index)\n",
    "cid_list = list(map(int, cid_list))\n",
    "\n",
    "connect = sqlite3.connect('/mnt/external-images-pvc/quantmap/qm_chem_fix.sqlite')\n",
    "d = connect.cursor()\n",
    "d.execute(\"select cid,smiles from stitch_chem where cid in (\"+str(cid_list)[1:-1]+\");\")\n",
    "cid_smiles_list = d.fetchall()\n",
    "print (len(cid_smiles_list))\n",
    "\n",
    "cid_smiles_dict = {}\n",
    "for entry in cid_smiles_list:\n",
    "    cid_smiles_dict[entry[0]] = entry[1]\n",
    "    \n",
    "print (len(cid_smiles_dict))\n",
    "# Output smiles cluster as file \n",
    "output_file = \"ML_input_qmap_chemical.txt\"\n",
    "output = open(output_file,\"w\")\n",
    "cluster_count = {}\n",
    "for cid,cluster in zip(cid_list,cid_cluster):\n",
    "    #try:\n",
    "    output.write(str(cid_smiles_dict[cid]) + \" \" + str(cluster) + \"\\n\")\n",
    "    if cluster not in cluster_count:\n",
    "        cluster_count[cluster] = 1\n",
    "    else:\n",
    "        cluster_count[cluster] += 1\n",
    "    #except:\n",
    "    #    pass\n",
    "output.close()"
   ]
  },
  {
   "cell_type": "code",
   "execution_count": 27,
   "metadata": {},
   "outputs": [
    {
     "data": {
      "text/plain": [
       "1        1\n",
       "6        4\n",
       "7        2\n",
       "8        4\n",
       "9        1\n",
       "        ..\n",
       "17516    6\n",
       "17520    4\n",
       "17532    6\n",
       "17534    4\n",
       "17596    4\n",
       "Name: label, Length: 5223, dtype: int64"
      ]
     },
     "execution_count": 27,
     "metadata": {},
     "output_type": "execute_result"
    }
   ],
   "source": [
    "#cluster_count\n",
    "cid_cluster"
   ]
  },
  {
   "cell_type": "code",
   "execution_count": 28,
   "metadata": {},
   "outputs": [],
   "source": [
    "# Output cid cluster as file \n",
    "input_file = \"cid_cluster_qmap_chemical.txt\"\n",
    "output_cid_cluster = open(input_file,\"w\")\n",
    "for cid,cluster in zip(cid_list,cid_cluster):\n",
    "    output_cid_cluster.write(str(cid) + \" \" + str(cluster) + \"\\n\")\n",
    "output_cid_cluster.close()"
   ]
  },
  {
   "cell_type": "code",
   "execution_count": null,
   "metadata": {},
   "outputs": [],
   "source": []
  },
  {
   "cell_type": "code",
   "execution_count": 29,
   "metadata": {},
   "outputs": [
    {
     "name": "stdout",
     "output_type": "stream",
     "text": [
      "Clusters with only one label = 0\n"
     ]
    }
   ],
   "source": [
    "count = sum([1 for cluster in cluster_count if cluster_count[cluster] == 1])\n",
    "print (\"Clusters with only one label = \" + str(count))"
   ]
  },
  {
   "cell_type": "code",
   "execution_count": 30,
   "metadata": {},
   "outputs": [
    {
     "data": {
      "text/plain": [
       "{4: 1, 197: 1, 258: 1, 268: 1, 473: 1, 559: 1, 1497: 1, 1967: 1}"
      ]
     },
     "execution_count": 30,
     "metadata": {},
     "output_type": "execute_result"
    }
   ],
   "source": [
    "# Frequency of the clusters counts. eg, there are ones and the count is 100, twos count is 29 etc\n",
    "\n",
    "cluster_count_frequency = {}\n",
    "for cluster in cluster_count:\n",
    "    if cluster_count[cluster] not in cluster_count_frequency:\n",
    "        cluster_count_frequency[cluster_count[cluster]] = 1\n",
    "    else:\n",
    "        cluster_count_frequency[cluster_count[cluster]] += 1\n",
    "\n",
    "{k: v for k, v in sorted(cluster_count_frequency.items(), key=lambda item: item[0])}\n",
    "# Cluster frequency and its count (or number of occurances)"
   ]
  },
  {
   "cell_type": "code",
   "execution_count": null,
   "metadata": {},
   "outputs": [],
   "source": []
  }
 ],
 "metadata": {
  "kernelspec": {
   "display_name": "molpmofit",
   "language": "python",
   "name": "molpmofit"
  },
  "language_info": {
   "codemirror_mode": {
    "name": "ipython",
    "version": 3
   },
   "file_extension": ".py",
   "mimetype": "text/x-python",
   "name": "python",
   "nbconvert_exporter": "python",
   "pygments_lexer": "ipython3",
   "version": "3.7.7"
  }
 },
 "nbformat": 4,
 "nbformat_minor": 4
}
