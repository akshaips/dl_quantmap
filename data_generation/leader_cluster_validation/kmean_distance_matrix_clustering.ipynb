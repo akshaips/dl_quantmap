{
 "cells": [
  {
   "cell_type": "code",
   "execution_count": 1,
   "metadata": {},
   "outputs": [
    {
     "name": "stdout",
     "output_type": "stream",
     "text": [
      "('stitch_protchem_man',)\n",
      "('string_protlink_man',)\n"
     ]
    }
   ],
   "source": [
    "import sqlite3\n",
    "conn = sqlite3.connect('/mnt/external-images-pvc/quantmap/qm_pr01.sqlite')\n",
    "c = conn.cursor()\n",
    "#c.execute(\"SELECT name FROM sqlite_master WHERE type='table';\")\n",
    "#List tables\n",
    "c.execute(\"SELECT name FROM sqlite_master WHERE type='table';\")\n",
    "for table in c.fetchall():\n",
    "    print (table)"
   ]
  },
  {
   "cell_type": "code",
   "execution_count": 2,
   "metadata": {},
   "outputs": [
    {
     "name": "stdout",
     "output_type": "stream",
     "text": [
      "Total number of branches = 1489\n"
     ]
    }
   ],
   "source": [
    "# Find the number of brances from the newick tree and to change the header to CID numbers\n",
    "# Total number of brances for 5338 data is 1489\n",
    "try:\n",
    "    open_file = open(\"newick_format.txt\",\"r\").readlines()\n",
    "    newick_format = \"\"\n",
    "    for entry in open_file:\n",
    "        newick_format += entry[:-1]\n",
    "\n",
    "    total_branches = newick_format.count(\"(\") - 1\n",
    "    print (\"Total number of branches = \" + str(total_branches))\n",
    "\n",
    "    newick_format = newick_format.replace(\"CID\",\"\")\n",
    "    write_newick = open(\"newick_format_output.txt\",\"w\")\n",
    "    write_newick.write(newick_format)\n",
    "    write_newick.close()\n",
    "except:\n",
    "    print (\"Total number of branches = 1489\")"
   ]
  },
  {
   "cell_type": "code",
   "execution_count": 110,
   "metadata": {},
   "outputs": [],
   "source": [
    "# Read the distance matrix and replace the header to CID numbers\n",
    "import pandas as pd\n",
    "distance_matrix = \"distance_matrix_qmap_chemicals.txt\"\n",
    "output_matrix = distance_matrix[:-4] + \"_out.csv\"\n",
    "open_file = open(distance_matrix,\"r\").readlines()\n",
    "distance_matrix = {}\n",
    "output = \"\"\n",
    "for count,line in enumerate(open_file):\n",
    "    if count == 0:\n",
    "        heading_list = line.split(\",\")\n",
    "        output += \",\" + line\n",
    "    else:\n",
    "        output += heading_list[count-1].strip() + \",\" + line\n",
    "    \n",
    "output = output.replace(\"CID\",\"\")\n",
    "out_file = open(output_matrix,\"w\")\n",
    "out_file.write(output)\n",
    "out_file.close()\n",
    "m = pd.read_csv(output_matrix,index_col=0)"
   ]
  },
  {
   "cell_type": "code",
   "execution_count": 1,
   "metadata": {},
   "outputs": [
    {
     "ename": "NameError",
     "evalue": "name 'm' is not defined",
     "output_type": "error",
     "traceback": [
      "\u001b[0;31m---------------------------------------------------------------------------\u001b[0m",
      "\u001b[0;31mNameError\u001b[0m                                 Traceback (most recent call last)",
      "\u001b[0;32m<timed exec>\u001b[0m in \u001b[0;36m<module>\u001b[0;34m\u001b[0m\n",
      "\u001b[0;31mNameError\u001b[0m: name 'm' is not defined"
     ]
    }
   ],
   "source": [
    "%%time\n",
    "# Distance matrix clustering using k-mean\n",
    "\n",
    "from sklearn.cluster import KMeans\n",
    "from sklearn.cluster import AgglomerativeClustering as AC\n",
    "import numpy as np\n",
    "m1 = m.copy()\n",
    "kmean = \"\"\n",
    "kmean=AC(n_clusters=405, affinity='precomputed',linkage=\"complete\")\n",
    "kmean.fit(m1)\n",
    "result= kmean.labels_\n",
    "m1['label']= result\n",
    "cid_cluster = m1['label']"
   ]
  },
  {
   "cell_type": "code",
   "execution_count": 2,
   "metadata": {},
   "outputs": [
    {
     "ename": "NameError",
     "evalue": "name 'cid_cluster' is not defined",
     "output_type": "error",
     "traceback": [
      "\u001b[0;31m---------------------------------------------------------------------------\u001b[0m",
      "\u001b[0;31mNameError\u001b[0m                                 Traceback (most recent call last)",
      "\u001b[0;32m<ipython-input-2-e01eb09155e2>\u001b[0m in \u001b[0;36m<module>\u001b[0;34m\u001b[0m\n\u001b[0;32m----> 1\u001b[0;31m \u001b[0mlen\u001b[0m\u001b[0;34m(\u001b[0m\u001b[0mcid_cluster\u001b[0m\u001b[0;34m)\u001b[0m\u001b[0;34m\u001b[0m\u001b[0;34m\u001b[0m\u001b[0m\n\u001b[0m",
      "\u001b[0;31mNameError\u001b[0m: name 'cid_cluster' is not defined"
     ]
    }
   ],
   "source": [
    "len(cid_cluster)"
   ]
  },
  {
   "cell_type": "code",
   "execution_count": 135,
   "metadata": {},
   "outputs": [
    {
     "name": "stdout",
     "output_type": "stream",
     "text": [
      "24\n",
      "13\n"
     ]
    },
    {
     "ename": "KeyError",
     "evalue": "448537",
     "output_type": "error",
     "traceback": [
      "\u001b[0;31m---------------------------------------------------------------------------\u001b[0m",
      "\u001b[0;31mKeyError\u001b[0m                                  Traceback (most recent call last)",
      "\u001b[0;32m<ipython-input-135-f6b18fb7b4d7>\u001b[0m in \u001b[0;36m<module>\u001b[0;34m\u001b[0m\n\u001b[1;32m     25\u001b[0m \u001b[0;32mfor\u001b[0m \u001b[0mcid\u001b[0m\u001b[0;34m,\u001b[0m\u001b[0mcluster\u001b[0m \u001b[0;32min\u001b[0m \u001b[0mzip\u001b[0m\u001b[0;34m(\u001b[0m\u001b[0mcid_list\u001b[0m\u001b[0;34m,\u001b[0m\u001b[0mcid_cluster\u001b[0m\u001b[0;34m)\u001b[0m\u001b[0;34m:\u001b[0m\u001b[0;34m\u001b[0m\u001b[0;34m\u001b[0m\u001b[0m\n\u001b[1;32m     26\u001b[0m     \u001b[0;31m#try:\u001b[0m\u001b[0;34m\u001b[0m\u001b[0;34m\u001b[0m\u001b[0;34m\u001b[0m\u001b[0m\n\u001b[0;32m---> 27\u001b[0;31m     \u001b[0moutput\u001b[0m\u001b[0;34m.\u001b[0m\u001b[0mwrite\u001b[0m\u001b[0;34m(\u001b[0m\u001b[0mstr\u001b[0m\u001b[0;34m(\u001b[0m\u001b[0mcid_smiles_dict\u001b[0m\u001b[0;34m[\u001b[0m\u001b[0mcid\u001b[0m\u001b[0;34m]\u001b[0m\u001b[0;34m)\u001b[0m \u001b[0;34m+\u001b[0m \u001b[0;34m\" \"\u001b[0m \u001b[0;34m+\u001b[0m \u001b[0mstr\u001b[0m\u001b[0;34m(\u001b[0m\u001b[0mcluster\u001b[0m\u001b[0;34m)\u001b[0m \u001b[0;34m+\u001b[0m \u001b[0;34m\"\\n\"\u001b[0m\u001b[0;34m)\u001b[0m\u001b[0;34m\u001b[0m\u001b[0;34m\u001b[0m\u001b[0m\n\u001b[0m\u001b[1;32m     28\u001b[0m     \u001b[0;32mif\u001b[0m \u001b[0mcluster\u001b[0m \u001b[0;32mnot\u001b[0m \u001b[0;32min\u001b[0m \u001b[0mcluster_count\u001b[0m\u001b[0;34m:\u001b[0m\u001b[0;34m\u001b[0m\u001b[0;34m\u001b[0m\u001b[0m\n\u001b[1;32m     29\u001b[0m         \u001b[0mcluster_count\u001b[0m\u001b[0;34m[\u001b[0m\u001b[0mcluster\u001b[0m\u001b[0;34m]\u001b[0m \u001b[0;34m=\u001b[0m \u001b[0;36m1\u001b[0m\u001b[0;34m\u001b[0m\u001b[0;34m\u001b[0m\u001b[0m\n",
      "\u001b[0;31mKeyError\u001b[0m: 448537"
     ]
    }
   ],
   "source": [
    "# Get the CID and label of it\n",
    "# Get smiles from the database\n",
    "# Replace cid with smiles\n",
    "# Output to a file\n",
    "\n",
    "index = cid_cluster.index\n",
    "cid_list = list(index)\n",
    "cid_list = list(map(int, cid_list))\n",
    "\n",
    "connect = sqlite3.connect('/mnt/external-images-pvc/quantmap/qm_chem_fix.sqlite')\n",
    "d = connect.cursor()\n",
    "d.execute(\"select cid,smiles from stitch_chem where cid in (\"+str(cid_list)[1:-1]+\");\")\n",
    "cid_smiles_list = d.fetchall()\n",
    "print (len(cid_smiles_list))\n",
    "\n",
    "cid_smiles_dict = {}\n",
    "for entry in cid_smiles_list:\n",
    "    cid_smiles_dict[entry[0]] = entry[1]\n",
    "    \n",
    "print (len(cid_smiles_dict))\n",
    "# Output smiles cluster as file \n",
    "output_file = \"ML_input_qmap_chemical.txt\"\n",
    "output = open(output_file,\"w\")\n",
    "cluster_count = {}\n",
    "for cid,cluster in zip(cid_list,cid_cluster):\n",
    "    #try:\n",
    "    output.write(str(cid_smiles_dict[cid]) + \" \" + str(cluster) + \"\\n\")\n",
    "    if cluster not in cluster_count:\n",
    "        cluster_count[cluster] = 1\n",
    "    else:\n",
    "        cluster_count[cluster] += 1\n",
    "    #except:\n",
    "    #    pass\n",
    "output.close()"
   ]
  },
  {
   "cell_type": "code",
   "execution_count": 136,
   "metadata": {},
   "outputs": [
    {
     "data": {
      "text/plain": [
       "5757        2\n",
       "448537      0\n",
       "2733525     1\n",
       "5035       14\n",
       "104741      1\n",
       "5280961    10\n",
       "5281707     9\n",
       "445154     11\n",
       "6623        2\n",
       "1752        0\n",
       "3026        7\n",
       "5281576    13\n",
       "3224       12\n",
       "3476        8\n",
       "77999       4\n",
       "2244        5\n",
       "3672        3\n",
       "3032        6\n",
       "Name: label, dtype: int64"
      ]
     },
     "execution_count": 136,
     "metadata": {},
     "output_type": "execute_result"
    }
   ],
   "source": [
    "#cluster_count\n",
    "cid_cluster"
   ]
  },
  {
   "cell_type": "code",
   "execution_count": 137,
   "metadata": {},
   "outputs": [],
   "source": [
    "# Output cid cluster as file \n",
    "input_file = \"cid_cluster_qmap_chemical.txt\"\n",
    "output_cid_cluster = open(input_file,\"w\")\n",
    "for cid,cluster in zip(cid_list,cid_cluster):\n",
    "    output_cid_cluster.write(str(cid) + \" \" + str(cluster) + \"\\n\")\n",
    "output_cid_cluster.close()"
   ]
  },
  {
   "cell_type": "code",
   "execution_count": null,
   "metadata": {},
   "outputs": [],
   "source": []
  },
  {
   "cell_type": "code",
   "execution_count": 138,
   "metadata": {},
   "outputs": [
    {
     "name": "stdout",
     "output_type": "stream",
     "text": [
      "Clusters with only one label = 1\n"
     ]
    }
   ],
   "source": [
    "count = sum([1 for cluster in cluster_count if cluster_count[cluster] == 1])\n",
    "print (\"Clusters with only one label = \" + str(count))"
   ]
  },
  {
   "cell_type": "code",
   "execution_count": 132,
   "metadata": {},
   "outputs": [
    {
     "data": {
      "text/plain": [
       "{1: 1}"
      ]
     },
     "execution_count": 132,
     "metadata": {},
     "output_type": "execute_result"
    }
   ],
   "source": [
    "# Frequency of the clusters counts. eg, there are ones and the count is 100, twos count is 29 etc\n",
    "\n",
    "cluster_count_frequency = {}\n",
    "for cluster in cluster_count:\n",
    "    if cluster_count[cluster] not in cluster_count_frequency:\n",
    "        cluster_count_frequency[cluster_count[cluster]] = 1\n",
    "    else:\n",
    "        cluster_count_frequency[cluster_count[cluster]] += 1\n",
    "\n",
    "{k: v for k, v in sorted(cluster_count_frequency.items(), key=lambda item: item[0])}\n",
    "# Cluster frequency and its count (or number of occurances)"
   ]
  },
  {
   "cell_type": "code",
   "execution_count": 125,
   "metadata": {},
   "outputs": [
    {
     "name": "stderr",
     "output_type": "stream",
     "text": [
      "UsageError: Line magic function `%%time` not found.\n"
     ]
    }
   ],
   "source": [
    "### LEADER SORTING\n",
    "\n",
    "%%time\n",
    "total_data_points = len(m)\n",
    "min_dist = 0.5\n",
    "\n",
    "cids = list(map(int,list(m.columns)))\n",
    "clusters = {}\n",
    "cluster_leaf_dist = {}\n",
    "\n",
    "for i in range(total_data_points):\n",
    "    do_cluster = True\n",
    "    for cluster_list in clusters.values():\n",
    "        if cids[i] in cluster_list:\n",
    "            do_cluster = False\n",
    "            break\n",
    "    if do_cluster:\n",
    "        df1 = m.iloc[i][m.iloc[i] < min_dist]\n",
    "        cluster_leaf_dist[cids[i]] = list(df1)\n",
    "        clusters[cids[i]] = list(map(int,df1.index))\n",
    "\n",
    "\n",
    "# Find number of occurance of each label in different clusters\n",
    "label_dict = {entry : 0 for entry in cids}\n",
    "for label_list in list(clusters.values()):\n",
    "    for entry in label_list:\n",
    "        label_dict[entry] += 1\n",
    "\n",
    "\n",
    "# Find the one with more than one occurance and remove from the clusters\n",
    "for leaf in label_dict:\n",
    "    if label_dict[leaf] > 1:\n",
    "        leaf_index = cids.index(leaf)\n",
    "        root_leaf_distance = {}\n",
    "        root_list = []\n",
    "        reached_limit = False\n",
    "        \n",
    "        # Find the distance for the leaf in each root/cluster centers\n",
    "        for root in clusters:\n",
    "            if len(root_leaf_distance) == label_dict[leaf]:\n",
    "                reached_limit = True\n",
    "                break\n",
    "            if not reached_limit:\n",
    "                if leaf in clusters[root]:\n",
    "                    root_index = cids.index(root)\n",
    "                    root_list.append(root)\n",
    "                    root_leaf_distance[root_index] = cluster_leaf_dist[root][clusters[root].index(leaf)] #m.iloc[root_index,leaf_index]\n",
    "                    \n",
    "        assert (len(root_leaf_distance) == label_dict[leaf])\n",
    "        \n",
    "        # Find the root with least distance\n",
    "        root_leaf_distance_values = list(root_leaf_distance.values())\n",
    "        root_leaf_distance_keys = list(root_leaf_distance.keys())\n",
    "        \n",
    "        min_value_index = root_leaf_distance_values.index(min(root_leaf_distance_values))\n",
    "        belongs_to_root = cids[root_leaf_distance_keys[min_value_index]]\n",
    "        \n",
    "        # Remove the element from the cluster for the non-root\n",
    "        root_list.remove(belongs_to_root)\n",
    "        for entry in root_list:\n",
    "            clusters[entry].remove(leaf)"
   ]
  },
  {
   "cell_type": "code",
   "execution_count": null,
   "metadata": {},
   "outputs": [],
   "source": []
  }
 ],
 "metadata": {
  "kernelspec": {
   "display_name": "molpmofit",
   "language": "python",
   "name": "molpmofit"
  },
  "language_info": {
   "codemirror_mode": {
    "name": "ipython",
    "version": 3
   },
   "file_extension": ".py",
   "mimetype": "text/x-python",
   "name": "python",
   "nbconvert_exporter": "python",
   "pygments_lexer": "ipython3",
   "version": "3.7.7"
  }
 },
 "nbformat": 4,
 "nbformat_minor": 4
}
