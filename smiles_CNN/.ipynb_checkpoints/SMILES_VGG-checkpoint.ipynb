{
 "cells": [
  {
   "cell_type": "code",
   "execution_count": 54,
   "metadata": {},
   "outputs": [],
   "source": [
    "#!/usr/bin/env python \n",
    "# coding:utf-8\n",
    "\n",
    "import time, argparse, gc, os\n",
    "import sys\n",
    "sys.path.append('/scratch-shared/akshai/workdir/smiles_vgg/supp_codes')\n",
    "import tqdm\n",
    "\n",
    "import numpy as np\n",
    "import pandas as pd\n",
    "\n",
    "from rdkit import Chem\n",
    "\n",
    "from feature import *\n",
    "import SCFPfunctions as Mf\n",
    "import gc\n",
    "\n",
    "from sklearn.metrics import accuracy_score\n",
    "\n",
    "import torch\n",
    "import torch.nn as nn\n",
    "import torch.nn.functional as F\n",
    "import torch.optim as optim\n",
    "from torch.utils.data import Dataset, TensorDataset, SubsetRandomSampler\n",
    "\n",
    "import sklearn"
   ]
  },
  {
   "cell_type": "code",
   "execution_count": 55,
   "metadata": {},
   "outputs": [
    {
     "data": {
      "text/plain": [
       "(device(type='cuda'), True)"
      ]
     },
     "execution_count": 55,
     "metadata": {},
     "output_type": "execute_result"
    }
   ],
   "source": [
    "device = torch.device(\"cuda\" if torch.cuda.is_available() else \"cpu\")\n",
    "device,torch.cuda.is_available()"
   ]
  },
  {
   "cell_type": "code",
   "execution_count": 56,
   "metadata": {},
   "outputs": [],
   "source": [
    "gc.collect()\n",
    "torch.cuda.empty_cache()"
   ]
  },
  {
   "cell_type": "code",
   "execution_count": 57,
   "metadata": {},
   "outputs": [],
   "source": [
    "# To remove rdkit warning\n",
    "\n",
    "from rdkit import RDLogger\n",
    "lg = RDLogger.logger()\n",
    "lg.setLevel(RDLogger.CRITICAL)"
   ]
  },
  {
   "cell_type": "code",
   "execution_count": 58,
   "metadata": {},
   "outputs": [],
   "source": [
    "def remove_duplicates(filename):\n",
    "    clean_file = filename[:-4] + \"_out.txt\"\n",
    "    open_file = open(filename,\"r\").readlines()\n",
    "    output = open(clean_file,\"w\")\n",
    "    finished_list = []\n",
    "    for entry in open_file:\n",
    "        if entry.split()[0] not in finished_list:\n",
    "            finished_list.append(entry.split()[0])\n",
    "            output.write(entry.split()[0] + \" \" + entry.split()[1] + \"\\n\")\n",
    "    output.close()\n",
    "    return clean_file\n",
    "    \n",
    "training_file=remove_duplicates(\"ML_input_5338.txt\")"
   ]
  },
  {
   "cell_type": "code",
   "execution_count": 59,
   "metadata": {},
   "outputs": [],
   "source": [
    "# Removing data with lower distribution\n",
    "lower_label_count_cutoff = 50\n",
    "upper_label_count_cutoff = 5000\n",
    "enable_label_cutoff = True\n",
    "multi_files = False\n",
    "\n",
    "if not multi_files and enable_label_cutoff:\n",
    "    open_file = open(training_file,\"r\").readlines()\n",
    "    \n",
    "    # Find the  number of labels (count of each label)\n",
    "    label_count_init = {}\n",
    "    for entry in open_file:\n",
    "        label = int(entry.split()[1])\n",
    "        if label in label_count_init:\n",
    "            label_count_init[label] += 1\n",
    "        else:\n",
    "            label_count_init[label] = 1\n",
    "    \n",
    "    # Select the label above the cutoff  (count of each label above cutoff)\n",
    "    label_count = {}\n",
    "    for entry in label_count_init:\n",
    "        if label_count_init[entry] > lower_label_count_cutoff and label_count_init[entry] < upper_label_count_cutoff:\n",
    "            label_count[entry] = label_count_init[entry]\n",
    "    \n",
    "    # Select only the smiles with labels above the cutoff\n",
    "    smiles_label = {}\n",
    "    allocated_label = []\n",
    "    allowed_labels = sorted(label_count.keys())\n",
    "    for entry in open_file:\n",
    "        smiles = entry.split()[0]\n",
    "        label = int(entry.split()[1])\n",
    "        if label in allowed_labels:\n",
    "            if label not in allocated_label:\n",
    "                allocated_label.append(label)\n",
    "            smiles_label[smiles] = allocated_label.index(label)\n",
    "            "
   ]
  },
  {
   "cell_type": "code",
   "execution_count": 60,
   "metadata": {},
   "outputs": [],
   "source": [
    "#ata_to_use = []\n",
    "balanced_dat_out = open(\"balanced_dat.txt\",\"w\")\n",
    "for entry in smiles_label:\n",
    "    #data_to_use.append( str(entry) + \" \" + str(smiles_label[entry]) + \"\\n\")\n",
    "    balanced_dat_out.write( str(entry) + \" \" + str(smiles_label[entry]) + \"\\n\")\n",
    "\n",
    "balanced_dat_out.close()\n",
    "training_file = \"balanced_dat.txt\""
   ]
  },
  {
   "cell_type": "code",
   "execution_count": 61,
   "metadata": {},
   "outputs": [
    {
     "name": "stdout",
     "output_type": "stream",
     "text": [
      "Making Training  Dataset...\n",
      "Loading smiles:  balanced_dat.txt\n",
      "(4982, 1) (4982, 1, 400, 42)\n"
     ]
    }
   ],
   "source": [
    "lensize = 42 # feature vector size\n",
    "atomsize = 400 # max length of molecule\n",
    "\n",
    "def make_grid(file):\n",
    "    xp=np\n",
    "    print('Loading smiles: ', file)\n",
    "    smi = Chem.SmilesMolSupplier(file,delimiter=' ',titleLine=False)\n",
    "    mols = [mol for mol in smi if mol is not None]\n",
    "    \n",
    "    F_list, T_list = [],[]\n",
    "    for mol in mols:\n",
    "        if len(Chem.MolToSmiles(mol, kekuleSmiles=True, isomericSmiles=True)) > atomsize: print(\"too long mol was ignored\")\n",
    "        else:\n",
    "            F_list.append(mol_to_feature(mol,-1,atomsize))\n",
    "            T_list.append(mol.GetProp('_Name'))\n",
    "    Mf.random_list(F_list)\n",
    "    Mf.random_list(T_list)\n",
    "\n",
    "    data_t = xp.asarray(T_list, dtype=xp.int32).reshape(-1,1)\n",
    "    data_f = xp.asarray(F_list, dtype=xp.float32).reshape(-1,1,atomsize,lensize)\n",
    "\n",
    "    dataset = (data_f,data_t)\n",
    "    #train_dataset = datasets.TupleDataset(data_f, data_t) \n",
    "    print(data_t.shape, data_f.shape)\n",
    "    \n",
    "    return (data_f,data_t)\n",
    "    \n",
    "print('Making Training  Dataset...')\n",
    "x, y = make_grid(training_file)"
   ]
  },
  {
   "cell_type": "code",
   "execution_count": 62,
   "metadata": {},
   "outputs": [],
   "source": [
    "train_percentage = 0.7\n",
    "\n",
    "valid_test_percentage = (1 - train_percentage)/2\n",
    "\n",
    "data_to_use = x\n",
    "# Ratios\n",
    "train_ratio = int (len(data_to_use) * train_percentage)\n",
    "valid_ratio = train_ratio + int(len(data_to_use)*valid_test_percentage)\n",
    "test_ratio = valid_ratio + int(len(data_to_use)*valid_test_percentage)"
   ]
  },
  {
   "cell_type": "code",
   "execution_count": 63,
   "metadata": {},
   "outputs": [],
   "source": [
    "# Make index to split into train and val set\n",
    "np.random.seed(1)\n",
    "def make_index(len_data,train_ratio,valid_ratio,test_ratio):\n",
    "    \n",
    "    index = np.random.permutation(len_data)\n",
    "    \n",
    "    # Train index and val index\n",
    "    return (index[:train_ratio],index[train_ratio:valid_ratio],index[valid_ratio:test_ratio])\n",
    "\n",
    "train_index ,valid_index,test_index = make_index(len(data_to_use),train_ratio,valid_ratio,test_ratio)"
   ]
  },
  {
   "cell_type": "code",
   "execution_count": 64,
   "metadata": {},
   "outputs": [],
   "source": [
    "def get_data_with_index(x,y,index):\n",
    "    out_x = []\n",
    "    out_y = []\n",
    "    for entry in index:\n",
    "        out_x.append(x[entry])\n",
    "        out_y.append(y[entry])\n",
    "    \n",
    "    return (np.array(out_x),np.array(out_y).squeeze())\n",
    "        \n",
    "\n",
    "train_x,train_y = get_data_with_index(x,y,train_index)\n",
    "valid_x,valid_y = get_data_with_index(x,y,valid_index)\n",
    "test_x,test_y = get_data_with_index(x,y,test_index)"
   ]
  },
  {
   "cell_type": "code",
   "execution_count": 65,
   "metadata": {},
   "outputs": [
    {
     "name": "stdout",
     "output_type": "stream",
     "text": [
      "Random prediction %0.3759678806997419\n",
      "Class distribution count{1: 1299, 0: 525, 2: 1311, 4: 185, 3: 167}\n",
      "Random prediction %0.4069611780455154\n",
      "Class distribution count{1: 304, 2: 291, 4: 35, 0: 80, 3: 37}\n",
      "Random prediction %0.3895582329317269\n",
      "Class distribution count{0: 109, 2: 284, 1: 291, 3: 24, 4: 39}\n"
     ]
    }
   ],
   "source": [
    "def find_data_distribution(y):\n",
    "    \n",
    "    distribution_dict = {}\n",
    "    for yone in y:\n",
    "        #print (yone[0])\n",
    "        yone = yone\n",
    "        if yone in distribution_dict:\n",
    "            distribution_dict[yone] += 1\n",
    "        else:\n",
    "            distribution_dict[yone] = 1\n",
    "            \n",
    "    total = len(y)\n",
    "    higher_class = max(distribution_dict.values())\n",
    "\n",
    "    random_prob = float(higher_class/total)\n",
    "    print (\"Random prediction %\" + str(random_prob))\n",
    "    print (\"Class distribution count\" + str(distribution_dict))\n",
    "    \n",
    "    \n",
    "find_data_distribution(train_y)\n",
    "find_data_distribution(valid_y)\n",
    "find_data_distribution(test_y)"
   ]
  },
  {
   "cell_type": "code",
   "execution_count": 66,
   "metadata": {},
   "outputs": [],
   "source": [
    "train_xt = torch.from_numpy(train_x)\n",
    "train_yt = torch.from_numpy(train_y)\n",
    "\n",
    "valid_xt = torch.from_numpy(valid_x)\n",
    "valid_yt = torch.from_numpy(valid_y)\n",
    "\n",
    "test_xt = torch.from_numpy(test_x)\n",
    "test_yt = torch.from_numpy(test_y)"
   ]
  },
  {
   "cell_type": "code",
   "execution_count": 67,
   "metadata": {},
   "outputs": [],
   "source": [
    "train_dataset = torch.utils.data.TensorDataset(train_xt, train_yt)\n",
    "valid_dataset = torch.utils.data.TensorDataset(train_xt, train_yt)\n",
    "test_dataset = torch.utils.data.TensorDataset(train_xt, train_yt)\n",
    "\n",
    "\n",
    "batch_size = 64\n",
    "\n",
    "train_loader = torch.utils.data.DataLoader(train_dataset, \n",
    "                                           batch_size=batch_size\n",
    "                                           ,drop_last=True)\n",
    "\n",
    "val_loader = torch.utils.data.DataLoader(valid_dataset, \n",
    "                                           batch_size=batch_size\n",
    "                                           ,drop_last=True)\n",
    "\n",
    "test_loader = torch.utils.data.DataLoader(test_dataset, \n",
    "                                           batch_size=batch_size\n",
    "                                           ,drop_last=True)"
   ]
  },
  {
   "cell_type": "code",
   "execution_count": 74,
   "metadata": {},
   "outputs": [],
   "source": [
    "class VGG8(nn.Module):\n",
    "    def __init__(self, n_out):\n",
    "        \n",
    "        super(VGG8, self).__init__()\n",
    "        self.conv1_1 = nn.Conv2d(1, 64, (3,3),padding=(1,1))\n",
    "        self.conv1_2 = nn.Conv2d(64, 64, (3,3),padding=(1,1))\n",
    "        \n",
    "        self.conv2_1 = nn.Conv2d(64, 128, (3,3),padding=(1,1))\n",
    "        self.conv2_2 = nn.Conv2d(128, 128, (3,3),padding=(1,1))\n",
    "        \n",
    "        self.conv3_1 = nn.Conv2d(128, 256, (3,3),padding=(1,1))\n",
    "        self.conv3_2 = nn.Conv2d(256, 256, (3,3),padding=(1,1))\n",
    "        self.conv3_3 = nn.Conv2d(256, 256, (3,3),padding=(1,1))\n",
    "        \n",
    "        self.conv4_1 = nn.Conv2d(256, 512, (3,3),padding=(1,1))\n",
    "        self.conv4_2 = nn.Conv2d(512, 512, (3,3),padding=(1,1))\n",
    "        self.conv4_3 = nn.Conv2d(512, 512, (3,3),padding=(1,1))\n",
    "        \n",
    "        self.conv5_1 = nn.Conv2d(512, 512, (3,3),padding=(1,1))\n",
    "        self.conv5_2 = nn.Conv2d(512, 512, (3,3),padding=(1,1))\n",
    "        self.conv5_3 = nn.Conv2d(512, 512, (3,3),padding=(1,1))\n",
    "        \n",
    "        self.relu = nn.ReLU()\n",
    "        self.maxpool = nn.MaxPool2d(kernel_size=2)\n",
    "        \n",
    "        self.fc1 = nn.Linear(6144, 4096)\n",
    "        self.fc2 = nn.Linear(4096, 4096)\n",
    "        self.fc3 = nn.Linear(4096, 4096)\n",
    "        self.fcout = nn.Linear(4096, n_out)\n",
    "        \n",
    "        \n",
    "    def forward(self, x):\n",
    "        # First conv and max pool\n",
    "        x = self.maxpool(self.relu(self.conv1_2(self.relu(self.conv1_1(x)))))\n",
    "        \n",
    "        # Second conv and max pool\n",
    "        x = self.maxpool(self.relu(self.conv2_2(self.relu(self.conv2_1(x)))))\n",
    "        \n",
    "        # Third conv and max pool\n",
    "        x = self.maxpool(self.relu(self.conv3_3(self.relu(self.conv3_2(self.relu(self.conv3_1(x)))))))\n",
    "        \n",
    "        # Fourth conv and max pool\n",
    "        x = self.maxpool(self.relu(self.conv4_3(self.relu(self.conv4_2(self.relu(self.conv4_1(x)))))))\n",
    "        \n",
    "        # Fifth conv and max pool\n",
    "        x = self.maxpool(self.relu(self.conv5_3(self.relu(self.conv5_2(self.relu(self.conv5_1((x))))))))\n",
    "        \n",
    "        #print (x.shape)\n",
    "        # Fully connected layer\n",
    "        x = x.view(x.size(0),-1)\n",
    "        \n",
    "        # FC1\n",
    "        x = self.relu(self.fc1(x))\n",
    "        \n",
    "        # FC2\n",
    "        x = self.relu(self.fc2(x))\n",
    "        \n",
    "        # FC3\n",
    "        x = self.relu(self.fc3(x))\n",
    "        \n",
    "        # FC output\n",
    "        x = self.fcout(x)\n",
    "        \n",
    "        return x\n"
   ]
  },
  {
   "cell_type": "code",
   "execution_count": 75,
   "metadata": {},
   "outputs": [],
   "source": [
    "gc.collect()\n",
    "\n",
    "def get_accuracy(yhat,y):\n",
    "    softmax = torch.exp(yhat.float())\n",
    "    prob = list(softmax.cpu().detach().numpy())\n",
    "    predictions = (np.argmax(prob, axis=1))\n",
    "    return accuracy_score(y, predictions)\n",
    "\n",
    "def validate(val_dl):\n",
    "    model.eval()\n",
    "    total_loss = []\n",
    "    accuracy_list = []\n",
    "    \n",
    "    for i, (xval,yval) in enumerate(val_dl):\n",
    "        xval = xval.to(device)\n",
    "        yvalc = yval.to(device)\n",
    "        \n",
    "        output_val = model(xval.float())\n",
    "        \n",
    "        accuracy = get_accuracy(output_val,yval)\n",
    "        \n",
    "        accuracy_list.append(accuracy)\n",
    "        \n",
    "        loss_val = criterion(output_val, yvalc.long())\n",
    "        \n",
    "        total_loss.append(loss_val.item())\n",
    "        \n",
    "    return (sum(total_loss)/(i+1),sum(accuracy_list)/(len(accuracy_list)))\n",
    "\n",
    "def train(train_dl,epoch=0):\n",
    "    model.train()\n",
    "    total_loss = []\n",
    "    accuracy_list = []\n",
    "    loop = tqdm.tqdm(enumerate(train_dl),total=len(train_dl),leave=False)\n",
    "    for i, (xb,yb) in loop:\n",
    "        \n",
    "        xb = xb.to(device)\n",
    "        ybc = yb.to(device)\n",
    "        \n",
    "        optimizer.zero_grad()\n",
    "        \n",
    "        output_train = model(xb.float())\n",
    "        \n",
    "        loss_train = criterion(output_train, ybc.long())\n",
    "        \n",
    "        accuracy = get_accuracy(output_train,yb)\n",
    "        accuracy_list.append(accuracy)\n",
    "        \n",
    "        loss_train.backward()\n",
    "        optimizer.step()\n",
    "        \n",
    "        total_loss.append(loss_train.item())\n",
    "        \n",
    "        #if i % 1000 == 0:\n",
    "        #    print (\"Batch \" + str(i) + \" train loss = \" + str(sum(total_loss)/(i+1)) )\n",
    "            \n",
    "        gc.collect()\n",
    "        loop.set_description(\"EPOCH \" + str(epoch+1) + \"/\" + str(epochs)) # +  \" BATCH = \" + str(i) + \"/\" +  str(len(train_dl)) )\n",
    "        loop.set_postfix(loss = loss_train.item(), acc=accuracy)\n",
    "    \n",
    "    return (sum(total_loss)/(i+1),sum(accuracy_list)/(len(accuracy_list)))\n",
    "\n"
   ]
  },
  {
   "cell_type": "code",
   "execution_count": 76,
   "metadata": {},
   "outputs": [
    {
     "name": "stdout",
     "output_type": "stream",
     "text": [
      "[0, 1, 2, 3, 4]\n",
      "[525, 1300, 1313, 170, 189]\n"
     ]
    }
   ],
   "source": [
    "class_count_list = sorted(list(set(entry for entry in train_y)))\n",
    "print (class_count_list)\n",
    "for entry in train_y:\n",
    "    class_count_list[entry] += 1\n",
    "print (class_count_list)"
   ]
  },
  {
   "cell_type": "code",
   "execution_count": 77,
   "metadata": {},
   "outputs": [
    {
     "data": {
      "text/plain": [
       "tensor([0.3238, 0.1308, 0.1295, 1.0000, 0.8995], device='cuda:0')"
      ]
     },
     "execution_count": 77,
     "metadata": {},
     "output_type": "execute_result"
    }
   ],
   "source": [
    "class_count_list = np.array(class_count_list)\n",
    "class_weight = np.min(class_count_list)/class_count_list\n",
    "class_weight = torch.FloatTensor(class_weight).cuda()\n",
    "\n",
    "#if not trial:\n",
    "#    log_file.write(\"Class weight for loss (balancing weights)= \" + str(class_weight) + \"\\n\")\n",
    "class_weight"
   ]
  },
  {
   "cell_type": "code",
   "execution_count": 78,
   "metadata": {},
   "outputs": [],
   "source": [
    "# VGG 8 \n",
    "n_out = 5\n",
    "\n",
    "model = VGG8(n_out)\n",
    "model.cuda()\n",
    "optimizer = torch.optim.Adam(model.parameters(), lr=0.01)\n",
    "criterion = nn.CrossEntropyLoss(weight=class_weight)\n",
    "#criterion = nn.CrossEntropyLoss()\n",
    "\n",
    "#print(model,model(check))"
   ]
  },
  {
   "cell_type": "code",
   "execution_count": 79,
   "metadata": {},
   "outputs": [
    {
     "name": "stderr",
     "output_type": "stream",
     "text": [
      "                                      "
     ]
    },
    {
     "name": "stdout",
     "output_type": "stream",
     "text": [
      "torch.Size([64, 268800])\n"
     ]
    },
    {
     "name": "stderr",
     "output_type": "stream",
     "text": [
      "\r"
     ]
    },
    {
     "ename": "RuntimeError",
     "evalue": "size mismatch, m1: [64 x 268800], m2: [6144 x 4096] at /tmp/pip-req-build-4baxydiv/aten/src/THC/generic/THCTensorMathBlas.cu:290",
     "output_type": "error",
     "traceback": [
      "\u001b[0;31m---------------------------------------------------------------------------\u001b[0m",
      "\u001b[0;31mRuntimeError\u001b[0m                              Traceback (most recent call last)",
      "\u001b[0;32m<ipython-input-79-aa51063c15f8>\u001b[0m in \u001b[0;36m<module>\u001b[0;34m\u001b[0m\n\u001b[1;32m     11\u001b[0m     \u001b[0;31m#print (\"EPOCH \" + str(epoch))\u001b[0m\u001b[0;34m\u001b[0m\u001b[0;34m\u001b[0m\u001b[0;34m\u001b[0m\u001b[0m\n\u001b[1;32m     12\u001b[0m \u001b[0;34m\u001b[0m\u001b[0m\n\u001b[0;32m---> 13\u001b[0;31m     \u001b[0mtrain_loss\u001b[0m\u001b[0;34m,\u001b[0m \u001b[0mtrain_accu\u001b[0m \u001b[0;34m=\u001b[0m \u001b[0mtrain\u001b[0m\u001b[0;34m(\u001b[0m\u001b[0mtrain_loader\u001b[0m\u001b[0;34m,\u001b[0m\u001b[0mepoch\u001b[0m\u001b[0;34m)\u001b[0m\u001b[0;34m\u001b[0m\u001b[0;34m\u001b[0m\u001b[0m\n\u001b[0m\u001b[1;32m     14\u001b[0m     \u001b[0mtrain_loss_list\u001b[0m\u001b[0;34m.\u001b[0m\u001b[0mappend\u001b[0m\u001b[0;34m(\u001b[0m\u001b[0mtrain_loss\u001b[0m\u001b[0;34m)\u001b[0m\u001b[0;34m\u001b[0m\u001b[0;34m\u001b[0m\u001b[0m\n\u001b[1;32m     15\u001b[0m     \u001b[0mtrain_accu_list\u001b[0m\u001b[0;34m.\u001b[0m\u001b[0mappend\u001b[0m\u001b[0;34m(\u001b[0m\u001b[0mtrain_accu\u001b[0m\u001b[0;34m)\u001b[0m\u001b[0;34m\u001b[0m\u001b[0;34m\u001b[0m\u001b[0m\n",
      "\u001b[0;32m<ipython-input-75-a475a869aa99>\u001b[0m in \u001b[0;36mtrain\u001b[0;34m(train_dl, epoch)\u001b[0m\n\u001b[1;32m     40\u001b[0m         \u001b[0moptimizer\u001b[0m\u001b[0;34m.\u001b[0m\u001b[0mzero_grad\u001b[0m\u001b[0;34m(\u001b[0m\u001b[0;34m)\u001b[0m\u001b[0;34m\u001b[0m\u001b[0;34m\u001b[0m\u001b[0m\n\u001b[1;32m     41\u001b[0m \u001b[0;34m\u001b[0m\u001b[0m\n\u001b[0;32m---> 42\u001b[0;31m         \u001b[0moutput_train\u001b[0m \u001b[0;34m=\u001b[0m \u001b[0mmodel\u001b[0m\u001b[0;34m(\u001b[0m\u001b[0mxb\u001b[0m\u001b[0;34m.\u001b[0m\u001b[0mfloat\u001b[0m\u001b[0;34m(\u001b[0m\u001b[0;34m)\u001b[0m\u001b[0;34m)\u001b[0m\u001b[0;34m\u001b[0m\u001b[0;34m\u001b[0m\u001b[0m\n\u001b[0m\u001b[1;32m     43\u001b[0m \u001b[0;34m\u001b[0m\u001b[0m\n\u001b[1;32m     44\u001b[0m         \u001b[0mloss_train\u001b[0m \u001b[0;34m=\u001b[0m \u001b[0mcriterion\u001b[0m\u001b[0;34m(\u001b[0m\u001b[0moutput_train\u001b[0m\u001b[0;34m,\u001b[0m \u001b[0mybc\u001b[0m\u001b[0;34m.\u001b[0m\u001b[0mlong\u001b[0m\u001b[0;34m(\u001b[0m\u001b[0;34m)\u001b[0m\u001b[0;34m)\u001b[0m\u001b[0;34m\u001b[0m\u001b[0;34m\u001b[0m\u001b[0m\n",
      "\u001b[0;32m~/anaconda3/envs/molpmofit/lib/python3.7/site-packages/torch/nn/modules/module.py\u001b[0m in \u001b[0;36m__call__\u001b[0;34m(self, *input, **kwargs)\u001b[0m\n\u001b[1;32m    539\u001b[0m             \u001b[0mresult\u001b[0m \u001b[0;34m=\u001b[0m \u001b[0mself\u001b[0m\u001b[0;34m.\u001b[0m\u001b[0m_slow_forward\u001b[0m\u001b[0;34m(\u001b[0m\u001b[0;34m*\u001b[0m\u001b[0minput\u001b[0m\u001b[0;34m,\u001b[0m \u001b[0;34m**\u001b[0m\u001b[0mkwargs\u001b[0m\u001b[0;34m)\u001b[0m\u001b[0;34m\u001b[0m\u001b[0;34m\u001b[0m\u001b[0m\n\u001b[1;32m    540\u001b[0m         \u001b[0;32melse\u001b[0m\u001b[0;34m:\u001b[0m\u001b[0;34m\u001b[0m\u001b[0;34m\u001b[0m\u001b[0m\n\u001b[0;32m--> 541\u001b[0;31m             \u001b[0mresult\u001b[0m \u001b[0;34m=\u001b[0m \u001b[0mself\u001b[0m\u001b[0;34m.\u001b[0m\u001b[0mforward\u001b[0m\u001b[0;34m(\u001b[0m\u001b[0;34m*\u001b[0m\u001b[0minput\u001b[0m\u001b[0;34m,\u001b[0m \u001b[0;34m**\u001b[0m\u001b[0mkwargs\u001b[0m\u001b[0;34m)\u001b[0m\u001b[0;34m\u001b[0m\u001b[0;34m\u001b[0m\u001b[0m\n\u001b[0m\u001b[1;32m    542\u001b[0m         \u001b[0;32mfor\u001b[0m \u001b[0mhook\u001b[0m \u001b[0;32min\u001b[0m \u001b[0mself\u001b[0m\u001b[0;34m.\u001b[0m\u001b[0m_forward_hooks\u001b[0m\u001b[0;34m.\u001b[0m\u001b[0mvalues\u001b[0m\u001b[0;34m(\u001b[0m\u001b[0;34m)\u001b[0m\u001b[0;34m:\u001b[0m\u001b[0;34m\u001b[0m\u001b[0;34m\u001b[0m\u001b[0m\n\u001b[1;32m    543\u001b[0m             \u001b[0mhook_result\u001b[0m \u001b[0;34m=\u001b[0m \u001b[0mhook\u001b[0m\u001b[0;34m(\u001b[0m\u001b[0mself\u001b[0m\u001b[0;34m,\u001b[0m \u001b[0minput\u001b[0m\u001b[0;34m,\u001b[0m \u001b[0mresult\u001b[0m\u001b[0;34m)\u001b[0m\u001b[0;34m\u001b[0m\u001b[0;34m\u001b[0m\u001b[0m\n",
      "\u001b[0;32m<ipython-input-74-3ad0afadb9ed>\u001b[0m in \u001b[0;36mforward\u001b[0;34m(self, x)\u001b[0m\n\u001b[1;32m     55\u001b[0m         \u001b[0mprint\u001b[0m \u001b[0;34m(\u001b[0m\u001b[0mx\u001b[0m\u001b[0;34m.\u001b[0m\u001b[0mshape\u001b[0m\u001b[0;34m)\u001b[0m\u001b[0;34m\u001b[0m\u001b[0;34m\u001b[0m\u001b[0m\n\u001b[1;32m     56\u001b[0m         \u001b[0;31m# FC1\u001b[0m\u001b[0;34m\u001b[0m\u001b[0;34m\u001b[0m\u001b[0;34m\u001b[0m\u001b[0m\n\u001b[0;32m---> 57\u001b[0;31m         \u001b[0mx\u001b[0m \u001b[0;34m=\u001b[0m \u001b[0mself\u001b[0m\u001b[0;34m.\u001b[0m\u001b[0mrelu\u001b[0m\u001b[0;34m(\u001b[0m\u001b[0mself\u001b[0m\u001b[0;34m.\u001b[0m\u001b[0mfc1\u001b[0m\u001b[0;34m(\u001b[0m\u001b[0mx\u001b[0m\u001b[0;34m)\u001b[0m\u001b[0;34m)\u001b[0m\u001b[0;34m\u001b[0m\u001b[0;34m\u001b[0m\u001b[0m\n\u001b[0m\u001b[1;32m     58\u001b[0m \u001b[0;34m\u001b[0m\u001b[0m\n\u001b[1;32m     59\u001b[0m         \u001b[0;31m# FC2\u001b[0m\u001b[0;34m\u001b[0m\u001b[0;34m\u001b[0m\u001b[0;34m\u001b[0m\u001b[0m\n",
      "\u001b[0;32m~/anaconda3/envs/molpmofit/lib/python3.7/site-packages/torch/nn/modules/module.py\u001b[0m in \u001b[0;36m__call__\u001b[0;34m(self, *input, **kwargs)\u001b[0m\n\u001b[1;32m    539\u001b[0m             \u001b[0mresult\u001b[0m \u001b[0;34m=\u001b[0m \u001b[0mself\u001b[0m\u001b[0;34m.\u001b[0m\u001b[0m_slow_forward\u001b[0m\u001b[0;34m(\u001b[0m\u001b[0;34m*\u001b[0m\u001b[0minput\u001b[0m\u001b[0;34m,\u001b[0m \u001b[0;34m**\u001b[0m\u001b[0mkwargs\u001b[0m\u001b[0;34m)\u001b[0m\u001b[0;34m\u001b[0m\u001b[0;34m\u001b[0m\u001b[0m\n\u001b[1;32m    540\u001b[0m         \u001b[0;32melse\u001b[0m\u001b[0;34m:\u001b[0m\u001b[0;34m\u001b[0m\u001b[0;34m\u001b[0m\u001b[0m\n\u001b[0;32m--> 541\u001b[0;31m             \u001b[0mresult\u001b[0m \u001b[0;34m=\u001b[0m \u001b[0mself\u001b[0m\u001b[0;34m.\u001b[0m\u001b[0mforward\u001b[0m\u001b[0;34m(\u001b[0m\u001b[0;34m*\u001b[0m\u001b[0minput\u001b[0m\u001b[0;34m,\u001b[0m \u001b[0;34m**\u001b[0m\u001b[0mkwargs\u001b[0m\u001b[0;34m)\u001b[0m\u001b[0;34m\u001b[0m\u001b[0;34m\u001b[0m\u001b[0m\n\u001b[0m\u001b[1;32m    542\u001b[0m         \u001b[0;32mfor\u001b[0m \u001b[0mhook\u001b[0m \u001b[0;32min\u001b[0m \u001b[0mself\u001b[0m\u001b[0;34m.\u001b[0m\u001b[0m_forward_hooks\u001b[0m\u001b[0;34m.\u001b[0m\u001b[0mvalues\u001b[0m\u001b[0;34m(\u001b[0m\u001b[0;34m)\u001b[0m\u001b[0;34m:\u001b[0m\u001b[0;34m\u001b[0m\u001b[0;34m\u001b[0m\u001b[0m\n\u001b[1;32m    543\u001b[0m             \u001b[0mhook_result\u001b[0m \u001b[0;34m=\u001b[0m \u001b[0mhook\u001b[0m\u001b[0;34m(\u001b[0m\u001b[0mself\u001b[0m\u001b[0;34m,\u001b[0m \u001b[0minput\u001b[0m\u001b[0;34m,\u001b[0m \u001b[0mresult\u001b[0m\u001b[0;34m)\u001b[0m\u001b[0;34m\u001b[0m\u001b[0;34m\u001b[0m\u001b[0m\n",
      "\u001b[0;32m~/anaconda3/envs/molpmofit/lib/python3.7/site-packages/torch/nn/modules/linear.py\u001b[0m in \u001b[0;36mforward\u001b[0;34m(self, input)\u001b[0m\n\u001b[1;32m     85\u001b[0m \u001b[0;34m\u001b[0m\u001b[0m\n\u001b[1;32m     86\u001b[0m     \u001b[0;32mdef\u001b[0m \u001b[0mforward\u001b[0m\u001b[0;34m(\u001b[0m\u001b[0mself\u001b[0m\u001b[0;34m,\u001b[0m \u001b[0minput\u001b[0m\u001b[0;34m)\u001b[0m\u001b[0;34m:\u001b[0m\u001b[0;34m\u001b[0m\u001b[0;34m\u001b[0m\u001b[0m\n\u001b[0;32m---> 87\u001b[0;31m         \u001b[0;32mreturn\u001b[0m \u001b[0mF\u001b[0m\u001b[0;34m.\u001b[0m\u001b[0mlinear\u001b[0m\u001b[0;34m(\u001b[0m\u001b[0minput\u001b[0m\u001b[0;34m,\u001b[0m \u001b[0mself\u001b[0m\u001b[0;34m.\u001b[0m\u001b[0mweight\u001b[0m\u001b[0;34m,\u001b[0m \u001b[0mself\u001b[0m\u001b[0;34m.\u001b[0m\u001b[0mbias\u001b[0m\u001b[0;34m)\u001b[0m\u001b[0;34m\u001b[0m\u001b[0;34m\u001b[0m\u001b[0m\n\u001b[0m\u001b[1;32m     88\u001b[0m \u001b[0;34m\u001b[0m\u001b[0m\n\u001b[1;32m     89\u001b[0m     \u001b[0;32mdef\u001b[0m \u001b[0mextra_repr\u001b[0m\u001b[0;34m(\u001b[0m\u001b[0mself\u001b[0m\u001b[0;34m)\u001b[0m\u001b[0;34m:\u001b[0m\u001b[0;34m\u001b[0m\u001b[0;34m\u001b[0m\u001b[0m\n",
      "\u001b[0;32m~/anaconda3/envs/molpmofit/lib/python3.7/site-packages/torch/nn/functional.py\u001b[0m in \u001b[0;36mlinear\u001b[0;34m(input, weight, bias)\u001b[0m\n\u001b[1;32m   1368\u001b[0m     \u001b[0;32mif\u001b[0m \u001b[0minput\u001b[0m\u001b[0;34m.\u001b[0m\u001b[0mdim\u001b[0m\u001b[0;34m(\u001b[0m\u001b[0;34m)\u001b[0m \u001b[0;34m==\u001b[0m \u001b[0;36m2\u001b[0m \u001b[0;32mand\u001b[0m \u001b[0mbias\u001b[0m \u001b[0;32mis\u001b[0m \u001b[0;32mnot\u001b[0m \u001b[0;32mNone\u001b[0m\u001b[0;34m:\u001b[0m\u001b[0;34m\u001b[0m\u001b[0;34m\u001b[0m\u001b[0m\n\u001b[1;32m   1369\u001b[0m         \u001b[0;31m# fused op is marginally faster\u001b[0m\u001b[0;34m\u001b[0m\u001b[0;34m\u001b[0m\u001b[0;34m\u001b[0m\u001b[0m\n\u001b[0;32m-> 1370\u001b[0;31m         \u001b[0mret\u001b[0m \u001b[0;34m=\u001b[0m \u001b[0mtorch\u001b[0m\u001b[0;34m.\u001b[0m\u001b[0maddmm\u001b[0m\u001b[0;34m(\u001b[0m\u001b[0mbias\u001b[0m\u001b[0;34m,\u001b[0m \u001b[0minput\u001b[0m\u001b[0;34m,\u001b[0m \u001b[0mweight\u001b[0m\u001b[0;34m.\u001b[0m\u001b[0mt\u001b[0m\u001b[0;34m(\u001b[0m\u001b[0;34m)\u001b[0m\u001b[0;34m)\u001b[0m\u001b[0;34m\u001b[0m\u001b[0;34m\u001b[0m\u001b[0m\n\u001b[0m\u001b[1;32m   1371\u001b[0m     \u001b[0;32melse\u001b[0m\u001b[0;34m:\u001b[0m\u001b[0;34m\u001b[0m\u001b[0;34m\u001b[0m\u001b[0m\n\u001b[1;32m   1372\u001b[0m         \u001b[0moutput\u001b[0m \u001b[0;34m=\u001b[0m \u001b[0minput\u001b[0m\u001b[0;34m.\u001b[0m\u001b[0mmatmul\u001b[0m\u001b[0;34m(\u001b[0m\u001b[0mweight\u001b[0m\u001b[0;34m.\u001b[0m\u001b[0mt\u001b[0m\u001b[0;34m(\u001b[0m\u001b[0;34m)\u001b[0m\u001b[0;34m)\u001b[0m\u001b[0;34m\u001b[0m\u001b[0;34m\u001b[0m\u001b[0m\n",
      "\u001b[0;31mRuntimeError\u001b[0m: size mismatch, m1: [64 x 268800], m2: [6144 x 4096] at /tmp/pip-req-build-4baxydiv/aten/src/THC/generic/THCTensorMathBlas.cu:290"
     ]
    }
   ],
   "source": [
    "epochs = 100\n",
    "\n",
    "train_loss_list = []\n",
    "train_accu_list = []\n",
    "\n",
    "val_loss_list = []\n",
    "val_accu_list = []\n",
    "\n",
    "for epoch in range(epochs):\n",
    "    \n",
    "    #print (\"EPOCH \" + str(epoch))\n",
    "    \n",
    "    train_loss, train_accu = train(train_loader,epoch)\n",
    "    train_loss_list.append(train_loss)\n",
    "    train_accu_list.append(train_accu)\n",
    "    \n",
    "    val_loss,val_accu = validate(val_loader)\n",
    "    val_loss_list.append(val_loss)\n",
    "    val_accu_list.append(val_accu)\n",
    "\n",
    "    print (\"Epoch :\",epoch+1,\"\\t\",\"LOSS train:\",train_loss,\" val:\",val_loss, \"\\tACCU train:\",train_accu,\" val:\",val_accu)\n",
    "        "
   ]
  },
  {
   "cell_type": "code",
   "execution_count": null,
   "metadata": {},
   "outputs": [],
   "source": [
    "import matplotlib.pyplot as plt\n",
    "\n",
    "plt.plot(train_loss_list, label='Training loss')\n",
    "plt.plot(val_loss_list, label='Validation loss')\n",
    "plt.legend()\n",
    "#if not trial:\n",
    "plt.savefig(\"output.png\")\n",
    "plt.show()"
   ]
  },
  {
   "cell_type": "code",
   "execution_count": 34,
   "metadata": {},
   "outputs": [],
   "source": [
    "batched = False\n",
    "def test(val_dl,show_predictions=False):\n",
    "    real_and_predictions = []\n",
    "    model.eval()\n",
    "    total_loss = []\n",
    "    accuracy_list = []\n",
    "    \n",
    "    with torch.no_grad():\n",
    "    \n",
    "        for i, (xval,yval) in enumerate(val_dl):\n",
    "            xval = xval.to(device)\n",
    "            yvalc = yval.to(device)\n",
    "\n",
    "            output_val = model(xval.float())\n",
    "\n",
    "            accuracy = get_accuracy(output_val,yval)\n",
    "\n",
    "            accuracy_list.append(accuracy)\n",
    "\n",
    "            loss_val = criterion(output_val, yvalc.long())\n",
    "\n",
    "            total_loss.append(loss_val.item())\n",
    "            \n",
    "            #print (one_hot_to_index(yvalc)[0],one_hot_to_index(output_val)[0])\n",
    "            if show_predictions:\n",
    "                if batched:\n",
    "                    compound_list_original = index_to_word(yval_reshapedc.cpu().detach().numpy())\n",
    "                    \n",
    "                    compound_list_predicted = []\n",
    "                    for i,entry in enumerate(output_val.view(len(yval_reshaped),-1,len(vocab))):\n",
    "                        softmax = torch.exp(entry.float())\n",
    "                        prob = list(softmax.cpu().detach().numpy())\n",
    "                        predictions = np.argmax(prob, axis=1)\n",
    "                        #print (predictions.shape,output_val.shape,len(compound_list_original[i]))\n",
    "                        pred = \"\"\n",
    "                        for i,entry in enumerate(predictions):\n",
    "                            pred += index_word[entry]\n",
    "                        compound_list_predicted.append(pred) \n",
    "                        \n",
    "                    for i in range(len(compound_list_original)):\n",
    "                        real_and_predictions.append((compound_list_original[i],compound_list_predicted[i]))\n",
    "                else:\n",
    "                    pred = \"\"\n",
    "                    real = \"\"\n",
    "                    softmax = torch.exp(output_val.float())\n",
    "                    prob = list(softmax.cpu().detach().numpy())\n",
    "                    predictions = np.argmax(prob, axis=1)\n",
    "                    '''for i,entry in enumerate(predictions):\n",
    "                        pred += en_index_word[entry]\n",
    "                        #print (i)\n",
    "                        real += en_index_word[yvalc.cpu().detach().numpy()[i]]\n",
    "                        print (real)'''\n",
    "                        \n",
    "                    real_and_predictions.append((yvalc.cpu().detach().numpy(),predictions))\n",
    "    return (sum(total_loss)/(i+1),sum(accuracy_list)/(len(accuracy_list)),real_and_predictions)"
   ]
  },
  {
   "cell_type": "code",
   "execution_count": 35,
   "metadata": {},
   "outputs": [
    {
     "data": {
      "text/plain": [
       "(0.6931374907493592, 0.46875)"
      ]
     },
     "execution_count": 35,
     "metadata": {},
     "output_type": "execute_result"
    }
   ],
   "source": [
    "loss,accuracy,prediction_list_valid = test(val_loader,True)\n",
    "loss,accuracy"
   ]
  },
  {
   "cell_type": "code",
   "execution_count": 36,
   "metadata": {},
   "outputs": [
    {
     "data": {
      "text/plain": [
       "(0.6931374907493592, 0.46875)"
      ]
     },
     "execution_count": 36,
     "metadata": {},
     "output_type": "execute_result"
    }
   ],
   "source": [
    "loss,accuracy,prediction_list_test = test(test_loader,True)\n",
    "loss,accuracy"
   ]
  },
  {
   "cell_type": "code",
   "execution_count": 37,
   "metadata": {},
   "outputs": [
    {
     "data": {
      "text/plain": [
       "(0.6931374907493592, 0.46875)"
      ]
     },
     "execution_count": 37,
     "metadata": {},
     "output_type": "execute_result"
    }
   ],
   "source": [
    "loss,accuracy,prediction_list_train = test(train_loader,True)\n",
    "loss,accuracy"
   ]
  },
  {
   "cell_type": "code",
   "execution_count": 38,
   "metadata": {},
   "outputs": [],
   "source": [
    "from sklearn.metrics import ConfusionMatrixDisplay\n",
    "def get_truth_pred(prediction_list):\n",
    "    y_ground_truth = []\n",
    "    y_predicted = []\n",
    "    for entry in prediction_list:\n",
    "        y_ground_truth.extend(entry[0])\n",
    "        y_predicted.extend(entry[1])\n",
    "    return (y_ground_truth,y_predicted)\n",
    "\n",
    "def confustion_matrix(prediction_list,output_type=\"test\"):\n",
    "    y_ground_truth,y_predicted =   get_truth_pred(prediction_list)\n",
    "    \n",
    "    cm= sklearn.metrics.confusion_matrix(y_ground_truth,y_predicted)\n",
    "    disp = ConfusionMatrixDisplay(confusion_matrix=cm)\n",
    "    disp.plot() \n",
    "    #print (cm_train)\n",
    "    #tn, fp, fn, tp = cm.ravel()\n",
    "    \n",
    "    #if not trial:\n",
    "    #    log_file.write(str(output_type) +\" \\t - tn, fp, fn, tp = \" + str(tn) + \" \" + str(fp) + \" \" + str(fn) + \" \" + str(tp) + \"\\n\")\n",
    "    #return tn, fp, fn, tp"
   ]
  },
  {
   "cell_type": "code",
   "execution_count": 39,
   "metadata": {},
   "outputs": [
    {
     "data": {
      "image/png": "[encoded data removed]",
      "text/plain": [
       "<Figure size 432x288 with 2 Axes>"
      ]
     },
     "metadata": {
      "needs_background": "light"
     },
     "output_type": "display_data"
    }
   ],
   "source": [
    "confustion_matrix(prediction_list_train,output_type=\"train\")"
   ]
  },
  {
   "cell_type": "code",
   "execution_count": 28,
   "metadata": {},
   "outputs": [
    {
     "data": {
      "image/png": "[encoded data removed]",
      "text/plain": [
       "<Figure size 432x288 with 2 Axes>"
      ]
     },
     "metadata": {
      "needs_background": "light"
     },
     "output_type": "display_data"
    }
   ],
   "source": [
    "confustion_matrix(prediction_list_valid,output_type=\"valid\")"
   ]
  },
  {
   "cell_type": "code",
   "execution_count": 29,
   "metadata": {},
   "outputs": [
    {
     "data": {
      "image/png": "[encoded data removed]",
      "text/plain": [
       "<Figure size 432x288 with 2 Axes>"
      ]
     },
     "metadata": {
      "needs_background": "light"
     },
     "output_type": "display_data"
    }
   ],
   "source": [
    "confustion_matrix(prediction_list_test,output_type=\"test\")"
   ]
  },
  {
   "cell_type": "code",
   "execution_count": null,
   "metadata": {},
   "outputs": [],
   "source": []
  }
 ],
 "metadata": {
  "kernelspec": {
   "display_name": "molpmofit",
   "language": "python",
   "name": "molpmofit"
  },
  "language_info": {
   "codemirror_mode": {
    "name": "ipython",
    "version": 3
   },
   "file_extension": ".py",
   "mimetype": "text/x-python",
   "name": "python",
   "nbconvert_exporter": "python",
   "pygments_lexer": "ipython3",
   "version": "3.7.7"
  }
 },
 "nbformat": 4,
 "nbformat_minor": 4
}
