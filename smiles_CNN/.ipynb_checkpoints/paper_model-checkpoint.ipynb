{
 "cells": [
  {
   "cell_type": "code",
   "execution_count": 2,
   "metadata": {},
   "outputs": [],
   "source": [
    "#!/usr/bin/env python \n",
    "# coding:utf-8\n",
    "\n",
    "import time, argparse, gc, os\n",
    "import sys\n",
    "sys.path.append('/scratch-shared/akshai/workdir/smiles_vgg/supp_codes')\n",
    "import tqdm\n",
    "\n",
    "import numpy as np\n",
    "import pandas as pd\n",
    "\n",
    "from rdkit import Chem\n",
    "\n",
    "from feature import *\n",
    "import SCFPfunctions as Mf\n",
    "import gc\n",
    "\n",
    "from sklearn.metrics import accuracy_score\n",
    "\n",
    "import torch\n",
    "import torch.nn as nn\n",
    "import torch.nn.functional as F\n",
    "import torch.optim as optim\n",
    "from torch.utils.data import Dataset, TensorDataset, SubsetRandomSampler\n",
    "\n",
    "import sklearn"
   ]
  },
  {
   "cell_type": "code",
   "execution_count": 3,
   "metadata": {},
   "outputs": [],
   "source": [
    "device = torch.device(\"cuda\" if torch.cuda.is_available() else \"cpu\")\n",
    "device,torch.cuda.is_available()\n",
    "gc.collect()\n",
    "torch.cuda.empty_cache()"
   ]
  },
  {
   "cell_type": "code",
   "execution_count": 4,
   "metadata": {},
   "outputs": [],
   "source": [
    "# To remove rdkit warning\n",
    "\n",
    "from rdkit import RDLogger\n",
    "lg = RDLogger.logger()\n",
    "lg.setLevel(RDLogger.CRITICAL)"
   ]
  },
  {
   "cell_type": "code",
   "execution_count": 5,
   "metadata": {},
   "outputs": [],
   "source": [
    "def remove_duplicates(filename):\n",
    "    clean_file = filename[:-4] + \"_out.txt\"\n",
    "    open_file = open(filename,\"r\").readlines()\n",
    "    output = open(clean_file,\"w\")\n",
    "    finished_list = []\n",
    "    for entry in open_file:\n",
    "        if entry.split()[0] not in finished_list:\n",
    "            finished_list.append(entry.split()[0])\n",
    "            output.write(entry.split()[0] + \" \" + entry.split()[1] + \"\\n\")\n",
    "    output.close()\n",
    "    return clean_file\n",
    "    \n",
    "training_file=remove_duplicates(\"ML_input_5338.txt\")"
   ]
  },
  {
   "cell_type": "code",
   "execution_count": 6,
   "metadata": {},
   "outputs": [],
   "source": [
    "# Removing data with lower distribution\n",
    "lower_label_count_cutoff = 10\n",
    "upper_label_count_cutoff = 500\n",
    "enable_label_cutoff = True\n",
    "multi_files = False\n",
    "\n",
    "if not multi_files and enable_label_cutoff:\n",
    "    open_file = open(training_file,\"r\").readlines()\n",
    "    \n",
    "    # Find the  number of labels (count of each label)\n",
    "    label_count_init = {}\n",
    "    for entry in open_file:\n",
    "        label = int(entry.split()[1])\n",
    "        if label in label_count_init:\n",
    "            label_count_init[label] += 1\n",
    "        else:\n",
    "            label_count_init[label] = 1\n",
    "    \n",
    "    # Select the label above the cutoff  (count of each label above cutoff)\n",
    "    label_count = {}\n",
    "    for entry in label_count_init:\n",
    "        if label_count_init[entry] > lower_label_count_cutoff and label_count_init[entry] < upper_label_count_cutoff:\n",
    "            label_count[entry] = label_count_init[entry]\n",
    "    \n",
    "    # Select only the smiles with labels above the cutoff\n",
    "    smiles_label = {}\n",
    "    allocated_label = []\n",
    "    allowed_labels = sorted(label_count.keys())\n",
    "    for entry in open_file:\n",
    "        smiles = entry.split()[0]\n",
    "        label = int(entry.split()[1])\n",
    "        if label in allowed_labels:\n",
    "            if label not in allocated_label:\n",
    "                allocated_label.append(label)\n",
    "            smiles_label[smiles] = allocated_label.index(label)\n",
    "            "
   ]
  },
  {
   "cell_type": "code",
   "execution_count": 7,
   "metadata": {},
   "outputs": [],
   "source": [
    "#ata_to_use = []\n",
    "balanced_dat_out = open(\"balanced_dat.txt\",\"w\")\n",
    "for entry in smiles_label:\n",
    "    #data_to_use.append( str(entry) + \" \" + str(smiles_label[entry]) + \"\\n\")\n",
    "    balanced_dat_out.write( str(entry) + \" \" + str(smiles_label[entry]) + \"\\n\")\n",
    "\n",
    "balanced_dat_out.close()\n",
    "training_file = \"balanced_dat.txt\""
   ]
  },
  {
   "cell_type": "code",
   "execution_count": 8,
   "metadata": {},
   "outputs": [
    {
     "data": {
      "text/plain": [
       "([4, 3], {4: 228, 3: 259})"
      ]
     },
     "execution_count": 8,
     "metadata": {},
     "output_type": "execute_result"
    }
   ],
   "source": [
    "allocated_label,label_count"
   ]
  },
  {
   "cell_type": "code",
   "execution_count": 9,
   "metadata": {},
   "outputs": [
    {
     "name": "stdout",
     "output_type": "stream",
     "text": [
      "Making Training  Dataset...\n",
      "Loading smiles:  balanced_dat.txt\n",
      "(487, 1) (487, 1, 400, 42)\n"
     ]
    }
   ],
   "source": [
    "lensize = 42 # feature vector size\n",
    "atomsize = 400 # max length of molecule\n",
    "\n",
    "def make_grid(file):\n",
    "    xp=np\n",
    "    print('Loading smiles: ', file)\n",
    "    smi = Chem.SmilesMolSupplier(file,delimiter=' ',titleLine=False)\n",
    "    mols = [mol for mol in smi if mol is not None]\n",
    "    \n",
    "    F_list, T_list = [],[]\n",
    "    for mol in mols:\n",
    "        if len(Chem.MolToSmiles(mol, kekuleSmiles=True, isomericSmiles=True)) > atomsize: print(\"too long mol was ignored\")\n",
    "        else:\n",
    "            F_list.append(mol_to_feature(mol,-1,atomsize))\n",
    "            T_list.append(mol.GetProp('_Name'))\n",
    "    Mf.random_list(F_list)\n",
    "    Mf.random_list(T_list)\n",
    "\n",
    "    data_t = xp.asarray(T_list, dtype=xp.int32).reshape(-1,1)\n",
    "    data_f = xp.asarray(F_list, dtype=xp.float32).reshape(-1,1,atomsize,lensize)\n",
    "\n",
    "    dataset = (data_f,data_t)\n",
    "    #train_dataset = datasets.TupleDataset(data_f, data_t) \n",
    "    print(data_t.shape, data_f.shape)\n",
    "    \n",
    "    return (data_f,data_t)\n",
    "    \n",
    "print('Making Training  Dataset...')\n",
    "x, y = make_grid(training_file)"
   ]
  },
  {
   "cell_type": "code",
   "execution_count": 10,
   "metadata": {},
   "outputs": [],
   "source": [
    "train_percentage = 0.7\n",
    "\n",
    "valid_test_percentage = (1 - train_percentage)/2\n",
    "\n",
    "data_to_use = x\n",
    "# Ratios\n",
    "train_ratio = int (len(data_to_use) * train_percentage)\n",
    "valid_ratio = train_ratio + int(len(data_to_use)*valid_test_percentage)\n",
    "test_ratio = valid_ratio + int(len(data_to_use)*valid_test_percentage)"
   ]
  },
  {
   "cell_type": "code",
   "execution_count": 11,
   "metadata": {},
   "outputs": [],
   "source": [
    "# Make index to split into train and val set\n",
    "np.random.seed(1)\n",
    "def make_index(len_data,train_ratio,valid_ratio,test_ratio):\n",
    "    \n",
    "    index = np.random.permutation(len_data)\n",
    "    \n",
    "    # Train index and val index\n",
    "    return (index[:train_ratio],index[train_ratio:valid_ratio],index[valid_ratio:test_ratio])\n",
    "\n",
    "train_index ,valid_index,test_index = make_index(len(data_to_use),train_ratio,valid_ratio,test_ratio)"
   ]
  },
  {
   "cell_type": "code",
   "execution_count": 12,
   "metadata": {},
   "outputs": [],
   "source": [
    "def get_data_with_index(x,y,index):\n",
    "    out_x = []\n",
    "    out_y = []\n",
    "    for entry in index:\n",
    "        out_x.append(x[entry])\n",
    "        out_y.append(y[entry])\n",
    "    \n",
    "    return (np.array(out_x),np.array(out_y).squeeze())\n",
    "        \n",
    "\n",
    "train_x,train_y = get_data_with_index(x,y,train_index)\n",
    "valid_x,valid_y = get_data_with_index(x,y,valid_index)\n",
    "test_x,test_y = get_data_with_index(x,y,test_index)"
   ]
  },
  {
   "cell_type": "code",
   "execution_count": 13,
   "metadata": {},
   "outputs": [
    {
     "name": "stdout",
     "output_type": "stream",
     "text": [
      "Random prediction %0.5323529411764706\n",
      "Class distribution count{1: 181, 0: 159}\n",
      "Random prediction %0.6164383561643836\n",
      "Class distribution count{1: 45, 0: 28}\n",
      "Random prediction %0.547945205479452\n",
      "Class distribution count{1: 33, 0: 40}\n"
     ]
    }
   ],
   "source": [
    "def find_data_distribution(y):\n",
    "    \n",
    "    distribution_dict = {}\n",
    "    for yone in y:\n",
    "        #print (yone[0])\n",
    "        yone = yone\n",
    "        if yone in distribution_dict:\n",
    "            distribution_dict[yone] += 1\n",
    "        else:\n",
    "            distribution_dict[yone] = 1\n",
    "            \n",
    "    total = len(y)\n",
    "    higher_class = max(distribution_dict.values())\n",
    "\n",
    "    random_prob = float(higher_class/total)\n",
    "    print (\"Random prediction %\" + str(random_prob))\n",
    "    print (\"Class distribution count\" + str(distribution_dict))\n",
    "    \n",
    "    \n",
    "find_data_distribution(train_y)\n",
    "find_data_distribution(valid_y)\n",
    "find_data_distribution(test_y)"
   ]
  },
  {
   "cell_type": "code",
   "execution_count": 14,
   "metadata": {},
   "outputs": [],
   "source": [
    "train_xt = torch.from_numpy(train_x)\n",
    "train_yt = torch.from_numpy(train_y)\n",
    "\n",
    "valid_xt = torch.from_numpy(valid_x)\n",
    "valid_yt = torch.from_numpy(valid_y)\n",
    "\n",
    "test_xt = torch.from_numpy(test_x)\n",
    "test_yt = torch.from_numpy(test_y)"
   ]
  },
  {
   "cell_type": "code",
   "execution_count": 54,
   "metadata": {},
   "outputs": [],
   "source": [
    "train_dataset = torch.utils.data.TensorDataset(train_xt, train_yt)\n",
    "valid_dataset = torch.utils.data.TensorDataset(valid_xt, valid_yt)\n",
    "test_dataset = torch.utils.data.TensorDataset(test_xt, test_yt)\n",
    "\n",
    "\n",
    "batch_size = 64\n",
    "\n",
    "train_loader = torch.utils.data.DataLoader(train_dataset, \n",
    "                                           batch_size=batch_size\n",
    "                                           ,drop_last=True)\n",
    "\n",
    "val_loader = torch.utils.data.DataLoader(valid_dataset, \n",
    "                                           batch_size=batch_size\n",
    "                                           ,drop_last=True)\n",
    "\n",
    "test_loader = torch.utils.data.DataLoader(test_dataset, \n",
    "                                           batch_size=batch_size\n",
    "                                           ,drop_last=True)"
   ]
  },
  {
   "cell_type": "code",
   "execution_count": 55,
   "metadata": {},
   "outputs": [
    {
     "name": "stdout",
     "output_type": "stream",
     "text": [
      "[0, 1]\n",
      "[159, 182]\n"
     ]
    }
   ],
   "source": [
    "class_count_list = sorted(list(set(entry for entry in train_y)))\n",
    "print (class_count_list)\n",
    "for entry in train_y:\n",
    "    class_count_list[entry] += 1\n",
    "print (class_count_list)"
   ]
  },
  {
   "cell_type": "code",
   "execution_count": 56,
   "metadata": {},
   "outputs": [
    {
     "data": {
      "text/plain": [
       "tensor([1.0000, 0.8736], device='cuda:0')"
      ]
     },
     "execution_count": 56,
     "metadata": {},
     "output_type": "execute_result"
    }
   ],
   "source": [
    "class_count_list = np.array(class_count_list)\n",
    "class_weight = np.min(class_count_list)/class_count_list\n",
    "class_weight = torch.FloatTensor(class_weight).cuda()\n",
    "\n",
    "#if not trial:\n",
    "#    log_file.write(\"Class weight for loss (balancing weights)= \" + str(class_weight) + \"\\n\")\n",
    "class_weight"
   ]
  },
  {
   "cell_type": "code",
   "execution_count": 57,
   "metadata": {},
   "outputs": [],
   "source": [
    "lensize = 42 # feature vector size\n",
    "atomsize = 400 # max length of molecule\n",
    "batchsize = 32\n",
    "epochs = 20\n",
    "atomsize = 400\n",
    "protein = \"SR-p53\" # Protein subset (prefix of the files)\n",
    "boost = -1 # Dont know this parameter yet\n",
    "\n",
    "# k = window size\n",
    "# s = strides\n",
    "# f = number of filters\n",
    "\n",
    "# first convolution\n",
    "k1 = 11\n",
    "s1 = 1\n",
    "f1 = 128\n",
    "\n",
    "# max pooling 1 \n",
    "k2 = 5\n",
    "s2 = 1\n",
    "\n",
    "# second convolution\n",
    "k3 = 11\n",
    "s3 = 1\n",
    "f3 = 64\n",
    "\n",
    "# max pooling 2\n",
    "k4 = 5\n",
    "s4 = 1\n",
    "\n",
    "# number of hidden layers\n",
    "n_hid = 96\n",
    "n_out = 2\n",
    "\n",
    "optimizer='adam'"
   ]
  },
  {
   "cell_type": "code",
   "execution_count": 58,
   "metadata": {},
   "outputs": [
    {
     "name": "stdout",
     "output_type": "stream",
     "text": [
      "Net(\n",
      "  (conv1): Conv2d(1, 128, kernel_size=(11, 42), stride=(1, 1), padding=(5, 0))\n",
      "  (bn1): BatchNorm2d(128, eps=1e-05, momentum=0.1, affine=True, track_running_stats=True)\n",
      "  (leakyr): LeakyReLU(negative_slope=0.01)\n",
      "  (pool1): AvgPool2d(kernel_size=(5, 1), stride=(1, 1), padding=(2, 0))\n",
      "  (conv2): Conv2d(128, 64, kernel_size=(11, 1), stride=(1, 1), padding=(5, 0))\n",
      "  (bn2): BatchNorm2d(64, eps=1e-05, momentum=0.1, affine=True, track_running_stats=True)\n",
      "  (pool2): AvgPool2d(kernel_size=(5, 1), stride=(1, 1), padding=(2, 0))\n",
      "  (fc1): Linear(in_features=64, out_features=96, bias=True)\n",
      "  (fc2): Linear(in_features=96, out_features=2, bias=True)\n",
      "  (bn3): BatchNorm1d(96, eps=1e-05, momentum=0.1, affine=True, track_running_stats=True)\n",
      "  (dropout): Dropout(p=0.2, inplace=False)\n",
      ")\n"
     ]
    }
   ],
   "source": [
    "class Net(nn.Module):\n",
    "    def __init__(self, atomsize, lensize, k1, s1, f1, k2, s2, k3, \n",
    "                 s3, f3, k4, s4, n_hid, n_out):\n",
    "        \n",
    "        super(Net, self).__init__()\n",
    "        self.conv1 = nn.Conv2d(1, f1, (k1,lensize),padding=(k1//2,0),stride=(s1,s1))\n",
    "        self.bn1 = nn.BatchNorm2d(f1)\n",
    "        self.leakyr = nn.LeakyReLU()\n",
    "        self.pool1 = nn.AvgPool2d((k2,1),stride=(s2,s2),padding=(k2//2,0))\n",
    "        self.conv2 = nn.Conv2d(f1,f3,(k3,1),stride=(s3,s3),padding=(k3//2,0))\n",
    "        self.bn2 = nn.BatchNorm2d(f3)\n",
    "        self.pool2 = nn.AvgPool2d((k4,1),stride=(s4,s4),padding=(k4//2,0))\n",
    "        self.maxpool = nn.MaxPool2d(kernel_size=2),\n",
    "        self.fc1 = nn.Linear(64, n_hid)\n",
    "        self.fc2 = nn.Linear(n_hid, n_out)\n",
    "        self.bn3 = nn.BatchNorm1d(n_hid)\n",
    "        \n",
    "        self.dropout = nn.Dropout(p=0.2)\n",
    "        '''self.atomsize, self.lensize, self.n_out = atomsize, lensize, n_out\n",
    "        self.k1, self.s1, self.f1, self.k2, self.s2, self.k3, self.s3, self.f3, self.k4, self.s4 = k1, s1, f1, k2, s2, k3, s3, f3, k4, s4\n",
    "        self.l1 = (self.atomsize+(self.k1//2*2)-self.k1)//self.s1+1\n",
    "        self.l2 = (self.l1+(self.k2//2*2)-self.k2)//self.s2+1\n",
    "        self.l3 = (self.l2+(self.k3//2*2)-self.k3)//self.s3+1\n",
    "        self.l4 = (self.l3+(self.k4//2*2)-self.k4)//self.s4+1'''\n",
    "        \n",
    "        \n",
    "    def forward(self, x):\n",
    "        x = self.pool1(self.leakyr(self.bn1(self.conv1(x))))\n",
    "        x = self.pool2(self.leakyr(self.bn2(self.conv2(x))))\n",
    "        #print (x.size(),x.size()[2:])\n",
    "        x = F.max_pool2d(x,kernel_size=x.size()[2:])\n",
    "        x = x.view(x.size(0),-1)\n",
    "        x = self.fc1(x)\n",
    "        x = self.bn3(x)\n",
    "        x = self.dropout(self.leakyr(x))\n",
    "        x = self.fc2(x)\n",
    "        return x\n",
    "\n",
    "n_out = len(class_weight)\n",
    "model = Net(atomsize, lensize, k1, s1, f1, k2, s2, k3, s3, f3, k4, s4, n_hid, n_out)\n",
    "model.cuda()\n",
    "optimizer = torch.optim.Adam(model.parameters(), lr=1e-3)\n",
    "criterion = nn.CrossEntropyLoss(weight=class_weight)\n",
    "#criterion = nn.CrossEntropyLoss()\n",
    "print(model)"
   ]
  },
  {
   "cell_type": "code",
   "execution_count": 59,
   "metadata": {},
   "outputs": [],
   "source": [
    "gc.collect()\n",
    "\n",
    "def get_accuracy(yhat,y):\n",
    "    softmax = torch.exp(yhat.float())\n",
    "    prob = list(softmax.cpu().detach().numpy())\n",
    "    predictions = (np.argmax(prob, axis=1))\n",
    "    return accuracy_score(y, predictions)\n",
    "\n",
    "def validate(val_dl):\n",
    "    model.eval()\n",
    "    total_loss = []\n",
    "    accuracy_list = []\n",
    "    \n",
    "    for i, (xval,yval) in enumerate(val_dl):\n",
    "        xval = xval.to(device)\n",
    "        yvalc = yval.to(device)\n",
    "        \n",
    "        output_val = model(xval.float())\n",
    "        \n",
    "        accuracy = get_accuracy(output_val,yval)\n",
    "        \n",
    "        accuracy_list.append(accuracy)\n",
    "        \n",
    "        loss_val = criterion(output_val, yvalc.long())\n",
    "        \n",
    "        total_loss.append(loss_val.item())\n",
    "        \n",
    "    return (sum(total_loss)/(i+1),sum(accuracy_list)/(len(accuracy_list)))\n",
    "\n",
    "def train(train_dl,epoch=0):\n",
    "    model.train()\n",
    "    total_loss = []\n",
    "    accuracy_list = []\n",
    "    loop = tqdm.tqdm(enumerate(train_dl),total=len(train_dl),leave=False)\n",
    "    for i, (xb,yb) in loop:\n",
    "        \n",
    "        xb = xb.to(device)\n",
    "        ybc = yb.to(device)\n",
    "        \n",
    "        optimizer.zero_grad()\n",
    "        \n",
    "        output_train = model(xb.float())\n",
    "        \n",
    "        loss_train = criterion(output_train, ybc.long())\n",
    "        \n",
    "        accuracy = get_accuracy(output_train,yb)\n",
    "        accuracy_list.append(accuracy)\n",
    "        \n",
    "        loss_train.backward()\n",
    "        optimizer.step()\n",
    "        \n",
    "        total_loss.append(loss_train.item())\n",
    "        \n",
    "        #if i % 1000 == 0:\n",
    "        #    print (\"Batch \" + str(i) + \" train loss = \" + str(sum(total_loss)/(i+1)) )\n",
    "            \n",
    "        gc.collect()\n",
    "        loop.set_description(\"EPOCH \" + str(epoch+1) + \"/\" + str(epochs)) # +  \" BATCH = \" + str(i) + \"/\" +  str(len(train_dl)) )\n",
    "        loop.set_postfix(loss = loss_train.item(), acc=accuracy)\n",
    "    \n",
    "    return (sum(total_loss)/(i+1),sum(accuracy_list)/(len(accuracy_list)))\n",
    "\n"
   ]
  },
  {
   "cell_type": "code",
   "execution_count": 60,
   "metadata": {},
   "outputs": [],
   "source": [
    "train_loss_list = []\n",
    "train_accu_list = []\n",
    "\n",
    "val_loss_list = []\n",
    "val_accu_list = []"
   ]
  },
  {
   "cell_type": "code",
   "execution_count": 61,
   "metadata": {},
   "outputs": [
    {
     "name": "stderr",
     "output_type": "stream",
     "text": [
      "EPOCH 2/500:  20%|██        | 1/5 [00:00<00:00,  8.90it/s, acc=0.766, loss=0.542]"
     ]
    },
    {
     "name": "stdout",
     "output_type": "stream",
     "text": [
      "Epoch : 1 \t LOSS train: 0.597964632511139  val: 0.7414284348487854 \tACCU train: 0.684375  val: 0.390625\n"
     ]
    },
    {
     "name": "stderr",
     "output_type": "stream",
     "text": [
      "EPOCH 3/500:  40%|████      | 2/5 [00:00<00:00, 13.65it/s, acc=0.891, loss=0.381]"
     ]
    },
    {
     "name": "stdout",
     "output_type": "stream",
     "text": [
      "Epoch : 2 \t LOSS train: 0.4444199025630951  val: 0.9526025056838989 \tACCU train: 0.8125  val: 0.390625\n"
     ]
    },
    {
     "name": "stderr",
     "output_type": "stream",
     "text": [
      "EPOCH 4/500:  40%|████      | 2/5 [00:00<00:00, 13.01it/s, acc=0.891, loss=0.33] "
     ]
    },
    {
     "name": "stdout",
     "output_type": "stream",
     "text": [
      "Epoch : 3 \t LOSS train: 0.37212183475494387  val: 1.1008925437927246 \tACCU train: 0.86875  val: 0.390625\n"
     ]
    },
    {
     "name": "stderr",
     "output_type": "stream",
     "text": [
      "EPOCH 5/500:  40%|████      | 2/5 [00:00<00:00, 11.41it/s, acc=0.891, loss=0.29] "
     ]
    },
    {
     "name": "stdout",
     "output_type": "stream",
     "text": [
      "Epoch : 4 \t LOSS train: 0.29947797060012815  val: 1.227447271347046 \tACCU train: 0.896875  val: 0.390625\n"
     ]
    },
    {
     "name": "stderr",
     "output_type": "stream",
     "text": [
      "EPOCH 6/500:  40%|████      | 2/5 [00:00<00:00, 11.25it/s, acc=0.906, loss=0.228]"
     ]
    },
    {
     "name": "stdout",
     "output_type": "stream",
     "text": [
      "Epoch : 5 \t LOSS train: 0.2538114070892334  val: 1.4437572956085205 \tACCU train: 0.91875  val: 0.390625\n"
     ]
    },
    {
     "name": "stderr",
     "output_type": "stream",
     "text": [
      "EPOCH 7/500:  20%|██        | 1/5 [00:00<00:00,  9.09it/s, acc=0.953, loss=0.198]"
     ]
    },
    {
     "name": "stdout",
     "output_type": "stream",
     "text": [
      "Epoch : 6 \t LOSS train: 0.20293535590171813  val: 1.5442888736724854 \tACCU train: 0.9375  val: 0.390625\n"
     ]
    },
    {
     "name": "stderr",
     "output_type": "stream",
     "text": [
      "EPOCH 8/500:  40%|████      | 2/5 [00:00<00:00, 10.49it/s, acc=0.938, loss=0.138]"
     ]
    },
    {
     "name": "stdout",
     "output_type": "stream",
     "text": [
      "Epoch : 7 \t LOSS train: 0.15597207993268966  val: 1.5960599184036255 \tACCU train: 0.959375  val: 0.390625\n"
     ]
    },
    {
     "name": "stderr",
     "output_type": "stream",
     "text": [
      "EPOCH 9/500:  40%|████      | 2/5 [00:00<00:00, 11.07it/s, acc=0.969, loss=0.106]"
     ]
    },
    {
     "name": "stdout",
     "output_type": "stream",
     "text": [
      "Epoch : 8 \t LOSS train: 0.12403663247823715  val: 1.6266156435012817 \tACCU train: 0.971875  val: 0.390625\n"
     ]
    },
    {
     "name": "stderr",
     "output_type": "stream",
     "text": [
      "EPOCH 10/500:  40%|████      | 2/5 [00:00<00:00, 10.47it/s, acc=1, loss=0.079]    "
     ]
    },
    {
     "name": "stdout",
     "output_type": "stream",
     "text": [
      "Epoch : 9 \t LOSS train: 0.08645334243774414  val: 1.414620041847229 \tACCU train: 0.990625  val: 0.390625\n"
     ]
    },
    {
     "name": "stderr",
     "output_type": "stream",
     "text": [
      "EPOCH 11/500:  40%|████      | 2/5 [00:00<00:00, 10.85it/s, acc=1, loss=0.0547]"
     ]
    },
    {
     "name": "stdout",
     "output_type": "stream",
     "text": [
      "Epoch : 10 \t LOSS train: 0.06695062145590783  val: 1.370853066444397 \tACCU train: 1.0  val: 0.390625\n"
     ]
    },
    {
     "name": "stderr",
     "output_type": "stream",
     "text": [
      "EPOCH 12/500:  40%|████      | 2/5 [00:00<00:00, 11.56it/s, acc=1, loss=0.0399]"
     ]
    },
    {
     "name": "stdout",
     "output_type": "stream",
     "text": [
      "Epoch : 11 \t LOSS train: 0.04821843951940537  val: 1.0460646152496338 \tACCU train: 1.0  val: 0.421875\n"
     ]
    },
    {
     "name": "stderr",
     "output_type": "stream",
     "text": [
      "EPOCH 13/500:  40%|████      | 2/5 [00:00<00:00, 11.42it/s, acc=1, loss=0.0265]"
     ]
    },
    {
     "name": "stdout",
     "output_type": "stream",
     "text": [
      "Epoch : 12 \t LOSS train: 0.037650353461503985  val: 0.9378485083580017 \tACCU train: 1.0  val: 0.53125\n"
     ]
    },
    {
     "name": "stderr",
     "output_type": "stream",
     "text": [
      "EPOCH 14/500:  20%|██        | 1/5 [00:00<00:00,  9.62it/s, acc=1, loss=0.0275]"
     ]
    },
    {
     "name": "stdout",
     "output_type": "stream",
     "text": [
      "Epoch : 13 \t LOSS train: 0.02558605670928955  val: 0.6642923355102539 \tACCU train: 1.0  val: 0.703125\n"
     ]
    },
    {
     "name": "stderr",
     "output_type": "stream",
     "text": [
      "EPOCH 15/500:  40%|████      | 2/5 [00:00<00:00, 10.62it/s, acc=1, loss=0.0164]"
     ]
    },
    {
     "name": "stdout",
     "output_type": "stream",
     "text": [
      "Epoch : 14 \t LOSS train: 0.02049998175352812  val: 0.4784788191318512 \tACCU train: 1.0  val: 0.78125\n"
     ]
    },
    {
     "name": "stderr",
     "output_type": "stream",
     "text": [
      "EPOCH 16/500:  40%|████      | 2/5 [00:00<00:00, 11.97it/s, acc=1, loss=0.015] "
     ]
    },
    {
     "name": "stdout",
     "output_type": "stream",
     "text": [
      "Epoch : 15 \t LOSS train: 0.01625268589705229  val: 0.4210302531719208 \tACCU train: 1.0  val: 0.828125\n"
     ]
    },
    {
     "name": "stderr",
     "output_type": "stream",
     "text": [
      "EPOCH 17/500:  40%|████      | 2/5 [00:00<00:00, 12.78it/s, acc=1, loss=0.0132]"
     ]
    },
    {
     "name": "stdout",
     "output_type": "stream",
     "text": [
      "Epoch : 16 \t LOSS train: 0.013507864624261855  val: 0.5227400064468384 \tACCU train: 1.0  val: 0.78125\n"
     ]
    },
    {
     "name": "stderr",
     "output_type": "stream",
     "text": [
      "EPOCH 18/500:  40%|████      | 2/5 [00:00<00:00, 12.66it/s, acc=1, loss=0.0101]"
     ]
    },
    {
     "name": "stdout",
     "output_type": "stream",
     "text": [
      "Epoch : 17 \t LOSS train: 0.011262307688593865  val: 0.4565468430519104 \tACCU train: 1.0  val: 0.796875\n"
     ]
    },
    {
     "name": "stderr",
     "output_type": "stream",
     "text": [
      "EPOCH 19/500:  20%|██        | 1/5 [00:00<00:00,  9.49it/s, acc=1, loss=0.00952]"
     ]
    },
    {
     "name": "stdout",
     "output_type": "stream",
     "text": [
      "Epoch : 18 \t LOSS train: 0.009641701448708772  val: 0.4490123987197876 \tACCU train: 1.0  val: 0.8125\n"
     ]
    },
    {
     "name": "stderr",
     "output_type": "stream",
     "text": [
      "EPOCH 20/500:  40%|████      | 2/5 [00:00<00:00, 10.49it/s, acc=1, loss=0.00803]"
     ]
    },
    {
     "name": "stdout",
     "output_type": "stream",
     "text": [
      "Epoch : 19 \t LOSS train: 0.007901463098824025  val: 0.4540153741836548 \tACCU train: 1.0  val: 0.828125\n"
     ]
    },
    {
     "name": "stderr",
     "output_type": "stream",
     "text": [
      "EPOCH 21/500:  40%|████      | 2/5 [00:00<00:00, 10.74it/s, acc=1, loss=0.00715]"
     ]
    },
    {
     "name": "stdout",
     "output_type": "stream",
     "text": [
      "Epoch : 20 \t LOSS train: 0.007648639567196369  val: 0.4682683050632477 \tACCU train: 1.0  val: 0.8125\n"
     ]
    },
    {
     "name": "stderr",
     "output_type": "stream",
     "text": [
      "EPOCH 22/500:  40%|████      | 2/5 [00:00<00:00, 12.56it/s, acc=1, loss=0.00647]"
     ]
    },
    {
     "name": "stdout",
     "output_type": "stream",
     "text": [
      "Epoch : 21 \t LOSS train: 0.006124875973910093  val: 0.5162116289138794 \tACCU train: 1.0  val: 0.796875\n"
     ]
    },
    {
     "name": "stderr",
     "output_type": "stream",
     "text": [
      "EPOCH 23/500:  20%|██        | 1/5 [00:00<00:00,  9.74it/s, acc=1, loss=0.00537]"
     ]
    },
    {
     "name": "stdout",
     "output_type": "stream",
     "text": [
      "Epoch : 22 \t LOSS train: 0.005966444406658411  val: 0.5011225342750549 \tACCU train: 1.0  val: 0.796875\n"
     ]
    },
    {
     "name": "stderr",
     "output_type": "stream",
     "text": [
      "EPOCH 24/500:  40%|████      | 2/5 [00:00<00:00, 11.88it/s, acc=1, loss=0.00481]"
     ]
    },
    {
     "name": "stdout",
     "output_type": "stream",
     "text": [
      "Epoch : 23 \t LOSS train: 0.00518766175955534  val: 0.5020013451576233 \tACCU train: 1.0  val: 0.796875\n"
     ]
    },
    {
     "name": "stderr",
     "output_type": "stream",
     "text": [
      "EPOCH 25/500:  40%|████      | 2/5 [00:00<00:00, 12.80it/s, acc=1, loss=0.00518]"
     ]
    },
    {
     "name": "stdout",
     "output_type": "stream",
     "text": [
      "Epoch : 24 \t LOSS train: 0.004893907159566879  val: 0.4840196669101715 \tACCU train: 1.0  val: 0.8125\n"
     ]
    },
    {
     "name": "stderr",
     "output_type": "stream",
     "text": [
      "EPOCH 26/500:  40%|████      | 2/5 [00:00<00:00, 10.64it/s, acc=1, loss=0.00498]"
     ]
    },
    {
     "name": "stdout",
     "output_type": "stream",
     "text": [
      "Epoch : 25 \t LOSS train: 0.004527630051597953  val: 0.4669608771800995 \tACCU train: 1.0  val: 0.828125\n"
     ]
    },
    {
     "name": "stderr",
     "output_type": "stream",
     "text": [
      "EPOCH 27/500:  40%|████      | 2/5 [00:00<00:00, 11.10it/s, acc=1, loss=0.00474]"
     ]
    },
    {
     "name": "stdout",
     "output_type": "stream",
     "text": [
      "Epoch : 26 \t LOSS train: 0.004217824758961796  val: 0.4900502562522888 \tACCU train: 1.0  val: 0.828125\n"
     ]
    },
    {
     "name": "stderr",
     "output_type": "stream",
     "text": [
      "EPOCH 28/500:  40%|████      | 2/5 [00:00<00:00, 12.22it/s, acc=1, loss=0.00412]"
     ]
    },
    {
     "name": "stdout",
     "output_type": "stream",
     "text": [
      "Epoch : 27 \t LOSS train: 0.0038111026398837565  val: 0.5120353698730469 \tACCU train: 1.0  val: 0.84375\n"
     ]
    },
    {
     "name": "stderr",
     "output_type": "stream",
     "text": [
      "EPOCH 29/500:  40%|████      | 2/5 [00:00<00:00, 12.58it/s, acc=1, loss=0.00431]"
     ]
    },
    {
     "name": "stdout",
     "output_type": "stream",
     "text": [
      "Epoch : 28 \t LOSS train: 0.003943397803232074  val: 0.511303186416626 \tACCU train: 1.0  val: 0.828125\n"
     ]
    },
    {
     "name": "stderr",
     "output_type": "stream",
     "text": [
      "EPOCH 30/500:  40%|████      | 2/5 [00:00<00:00, 12.58it/s, acc=1, loss=0.00406]"
     ]
    },
    {
     "name": "stdout",
     "output_type": "stream",
     "text": [
      "Epoch : 29 \t LOSS train: 0.003477224474772811  val: 0.5232846140861511 \tACCU train: 1.0  val: 0.8125\n"
     ]
    },
    {
     "name": "stderr",
     "output_type": "stream",
     "text": [
      "EPOCH 31/500:  40%|████      | 2/5 [00:00<00:00, 13.09it/s, acc=1, loss=0.00355]"
     ]
    },
    {
     "name": "stdout",
     "output_type": "stream",
     "text": [
      "Epoch : 30 \t LOSS train: 0.0034355415031313897  val: 0.5168594121932983 \tACCU train: 1.0  val: 0.8125\n"
     ]
    },
    {
     "name": "stderr",
     "output_type": "stream",
     "text": [
      "EPOCH 32/500:  40%|████      | 2/5 [00:00<00:00, 12.84it/s, acc=1, loss=0.00357]"
     ]
    },
    {
     "name": "stdout",
     "output_type": "stream",
     "text": [
      "Epoch : 31 \t LOSS train: 0.003010387998074293  val: 0.5150631666183472 \tACCU train: 1.0  val: 0.84375\n"
     ]
    },
    {
     "name": "stderr",
     "output_type": "stream",
     "text": [
      "EPOCH 33/500:  40%|████      | 2/5 [00:00<00:00, 12.56it/s, acc=1, loss=0.00312]"
     ]
    },
    {
     "name": "stdout",
     "output_type": "stream",
     "text": [
      "Epoch : 32 \t LOSS train: 0.0029592289589345454  val: 0.5365990400314331 \tACCU train: 1.0  val: 0.828125\n"
     ]
    },
    {
     "name": "stderr",
     "output_type": "stream",
     "text": [
      "EPOCH 34/500:  40%|████      | 2/5 [00:00<00:00, 11.35it/s, acc=1, loss=0.003]  "
     ]
    },
    {
     "name": "stdout",
     "output_type": "stream",
     "text": [
      "Epoch : 33 \t LOSS train: 0.002753208950161934  val: 0.5481650233268738 \tACCU train: 1.0  val: 0.828125\n"
     ]
    },
    {
     "name": "stderr",
     "output_type": "stream",
     "text": [
      "EPOCH 35/500:  40%|████      | 2/5 [00:00<00:00, 14.20it/s, acc=1, loss=0.00306]"
     ]
    },
    {
     "name": "stdout",
     "output_type": "stream",
     "text": [
      "Epoch : 34 \t LOSS train: 0.0025305928196758033  val: 0.5279000401496887 \tACCU train: 1.0  val: 0.828125\n"
     ]
    },
    {
     "name": "stderr",
     "output_type": "stream",
     "text": [
      "EPOCH 36/500:  40%|████      | 2/5 [00:00<00:00, 13.24it/s, acc=1, loss=0.00246]"
     ]
    },
    {
     "name": "stdout",
     "output_type": "stream",
     "text": [
      "Epoch : 35 \t LOSS train: 0.0026724215131253004  val: 0.5395018458366394 \tACCU train: 1.0  val: 0.828125\n"
     ]
    },
    {
     "name": "stderr",
     "output_type": "stream",
     "text": [
      "EPOCH 37/500:  40%|████      | 2/5 [00:00<00:00, 12.59it/s, acc=1, loss=0.00367]"
     ]
    },
    {
     "name": "stdout",
     "output_type": "stream",
     "text": [
      "Epoch : 36 \t LOSS train: 0.0024446284864097835  val: 0.5216193795204163 \tACCU train: 1.0  val: 0.8125\n"
     ]
    },
    {
     "name": "stderr",
     "output_type": "stream",
     "text": [
      "EPOCH 38/500:  40%|████      | 2/5 [00:00<00:00, 14.17it/s, acc=1, loss=0.00252]"
     ]
    },
    {
     "name": "stdout",
     "output_type": "stream",
     "text": [
      "Epoch : 37 \t LOSS train: 0.002574874507263303  val: 0.5530521869659424 \tACCU train: 1.0  val: 0.8125\n"
     ]
    },
    {
     "name": "stderr",
     "output_type": "stream",
     "text": [
      "EPOCH 39/500:   0%|          | 0/5 [00:00<?, ?it/s, acc=1, loss=0.00231]        "
     ]
    },
    {
     "name": "stdout",
     "output_type": "stream",
     "text": [
      "Epoch : 38 \t LOSS train: 0.0021689161425456406  val: 0.5174493193626404 \tACCU train: 1.0  val: 0.859375\n"
     ]
    },
    {
     "name": "stderr",
     "output_type": "stream",
     "text": [
      "EPOCH 40/500:  40%|████      | 2/5 [00:00<00:00, 10.39it/s, acc=1, loss=0.00224]"
     ]
    },
    {
     "name": "stdout",
     "output_type": "stream",
     "text": [
      "Epoch : 39 \t LOSS train: 0.002148791076615453  val: 0.5256419777870178 \tACCU train: 1.0  val: 0.859375\n"
     ]
    },
    {
     "name": "stderr",
     "output_type": "stream",
     "text": [
      "EPOCH 41/500:  40%|████      | 2/5 [00:00<00:00, 14.29it/s, acc=1, loss=0.00258]"
     ]
    },
    {
     "name": "stdout",
     "output_type": "stream",
     "text": [
      "Epoch : 40 \t LOSS train: 0.002101061539724469  val: 0.5400084853172302 \tACCU train: 1.0  val: 0.8125\n"
     ]
    },
    {
     "name": "stderr",
     "output_type": "stream",
     "text": [
      "EPOCH 42/500:  40%|████      | 2/5 [00:00<00:00, 13.41it/s, acc=1, loss=0.00204]"
     ]
    },
    {
     "name": "stdout",
     "output_type": "stream",
     "text": [
      "Epoch : 41 \t LOSS train: 0.0019396278075873852  val: 0.5334058403968811 \tACCU train: 1.0  val: 0.84375\n"
     ]
    },
    {
     "name": "stderr",
     "output_type": "stream",
     "text": [
      "EPOCH 43/500:  40%|████      | 2/5 [00:00<00:00, 12.64it/s, acc=1, loss=0.00238]"
     ]
    },
    {
     "name": "stdout",
     "output_type": "stream",
     "text": [
      "Epoch : 42 \t LOSS train: 0.0018296875758096575  val: 0.5380111336708069 \tACCU train: 1.0  val: 0.84375\n"
     ]
    },
    {
     "name": "stderr",
     "output_type": "stream",
     "text": [
      "EPOCH 44/500:  40%|████      | 2/5 [00:00<00:00, 14.52it/s, acc=1, loss=0.00187]"
     ]
    },
    {
     "name": "stdout",
     "output_type": "stream",
     "text": [
      "Epoch : 43 \t LOSS train: 0.0019397895550355316  val: 0.5804247260093689 \tACCU train: 1.0  val: 0.796875\n"
     ]
    },
    {
     "name": "stderr",
     "output_type": "stream",
     "text": [
      "EPOCH 45/500:  40%|████      | 2/5 [00:00<00:00, 13.70it/s, acc=1, loss=0.00186]"
     ]
    },
    {
     "name": "stdout",
     "output_type": "stream",
     "text": [
      "Epoch : 44 \t LOSS train: 0.001773719140328467  val: 0.5888002514839172 \tACCU train: 1.0  val: 0.8125\n"
     ]
    },
    {
     "name": "stderr",
     "output_type": "stream",
     "text": [
      "EPOCH 46/500:  40%|████      | 2/5 [00:00<00:00, 12.06it/s, acc=1, loss=0.00219]"
     ]
    },
    {
     "name": "stdout",
     "output_type": "stream",
     "text": [
      "Epoch : 45 \t LOSS train: 0.0016189734917134047  val: 0.5685745477676392 \tACCU train: 1.0  val: 0.828125\n"
     ]
    },
    {
     "name": "stderr",
     "output_type": "stream",
     "text": [
      "EPOCH 47/500:  40%|████      | 2/5 [00:00<00:00, 12.54it/s, acc=1, loss=0.00191]"
     ]
    },
    {
     "name": "stdout",
     "output_type": "stream",
     "text": [
      "Epoch : 46 \t LOSS train: 0.0016347198514267802  val: 0.565995991230011 \tACCU train: 1.0  val: 0.828125\n"
     ]
    },
    {
     "name": "stderr",
     "output_type": "stream",
     "text": [
      "EPOCH 48/500:  40%|████      | 2/5 [00:00<00:00, 13.38it/s, acc=1, loss=0.00163]"
     ]
    },
    {
     "name": "stdout",
     "output_type": "stream",
     "text": [
      "Epoch : 47 \t LOSS train: 0.0016275764442980289  val: 0.5889819860458374 \tACCU train: 1.0  val: 0.8125\n"
     ]
    },
    {
     "name": "stderr",
     "output_type": "stream",
     "text": [
      "EPOCH 49/500:  40%|████      | 2/5 [00:00<00:00, 12.82it/s, acc=1, loss=0.00154]"
     ]
    },
    {
     "name": "stdout",
     "output_type": "stream",
     "text": [
      "Epoch : 48 \t LOSS train: 0.0015355573501437902  val: 0.5643033981323242 \tACCU train: 1.0  val: 0.84375\n"
     ]
    },
    {
     "name": "stderr",
     "output_type": "stream",
     "text": [
      "EPOCH 50/500:  40%|████      | 2/5 [00:00<00:00, 12.57it/s, acc=1, loss=0.00156]"
     ]
    },
    {
     "name": "stdout",
     "output_type": "stream",
     "text": [
      "Epoch : 49 \t LOSS train: 0.0014086763607338072  val: 0.5589606165885925 \tACCU train: 1.0  val: 0.84375\n"
     ]
    },
    {
     "name": "stderr",
     "output_type": "stream",
     "text": [
      "EPOCH 51/500:  40%|████      | 2/5 [00:00<00:00, 14.61it/s, acc=1, loss=0.0017] "
     ]
    },
    {
     "name": "stdout",
     "output_type": "stream",
     "text": [
      "Epoch : 50 \t LOSS train: 0.001470059179700911  val: 0.6016898155212402 \tACCU train: 1.0  val: 0.796875\n"
     ]
    },
    {
     "name": "stderr",
     "output_type": "stream",
     "text": [
      "EPOCH 52/500:  40%|████      | 2/5 [00:00<00:00, 14.69it/s, acc=1, loss=0.00157]"
     ]
    },
    {
     "name": "stdout",
     "output_type": "stream",
     "text": [
      "Epoch : 51 \t LOSS train: 0.0013643664540722966  val: 0.5623108148574829 \tACCU train: 1.0  val: 0.828125\n"
     ]
    },
    {
     "name": "stderr",
     "output_type": "stream",
     "text": [
      "EPOCH 53/500:  40%|████      | 2/5 [00:00<00:00, 12.98it/s, acc=1, loss=0.00154]"
     ]
    },
    {
     "name": "stdout",
     "output_type": "stream",
     "text": [
      "Epoch : 52 \t LOSS train: 0.0013139630667865277  val: 0.5613047480583191 \tACCU train: 1.0  val: 0.84375\n"
     ]
    },
    {
     "name": "stderr",
     "output_type": "stream",
     "text": [
      "EPOCH 54/500:  40%|████      | 2/5 [00:00<00:00, 14.74it/s, acc=1, loss=0.00163]"
     ]
    },
    {
     "name": "stdout",
     "output_type": "stream",
     "text": [
      "Epoch : 53 \t LOSS train: 0.0013238963671028613  val: 0.6054064035415649 \tACCU train: 1.0  val: 0.8125\n"
     ]
    },
    {
     "name": "stderr",
     "output_type": "stream",
     "text": [
      "EPOCH 55/500:  40%|████      | 2/5 [00:00<00:00, 14.04it/s, acc=1, loss=0.00133]"
     ]
    },
    {
     "name": "stdout",
     "output_type": "stream",
     "text": [
      "Epoch : 54 \t LOSS train: 0.00137589315418154  val: 0.5796439051628113 \tACCU train: 1.0  val: 0.828125\n"
     ]
    },
    {
     "name": "stderr",
     "output_type": "stream",
     "text": [
      "EPOCH 56/500:  40%|████      | 2/5 [00:00<00:00, 14.34it/s, acc=1, loss=0.00134]"
     ]
    },
    {
     "name": "stdout",
     "output_type": "stream",
     "text": [
      "Epoch : 55 \t LOSS train: 0.0011383449425920844  val: 0.5700682997703552 \tACCU train: 1.0  val: 0.828125\n"
     ]
    },
    {
     "name": "stderr",
     "output_type": "stream",
     "text": [
      "EPOCH 57/500:  40%|████      | 2/5 [00:00<00:00, 13.94it/s, acc=1, loss=0.00167] "
     ]
    },
    {
     "name": "stdout",
     "output_type": "stream",
     "text": [
      "Epoch : 56 \t LOSS train: 0.0011353434179909526  val: 0.5870147943496704 \tACCU train: 1.0  val: 0.8125\n"
     ]
    },
    {
     "name": "stderr",
     "output_type": "stream",
     "text": [
      "EPOCH 58/500:  40%|████      | 2/5 [00:00<00:00, 12.98it/s, acc=1, loss=0.00127]"
     ]
    },
    {
     "name": "stdout",
     "output_type": "stream",
     "text": [
      "Epoch : 57 \t LOSS train: 0.0012898388784378767  val: 0.5871390700340271 \tACCU train: 1.0  val: 0.8125\n"
     ]
    },
    {
     "name": "stderr",
     "output_type": "stream",
     "text": [
      "EPOCH 59/500:  40%|████      | 2/5 [00:00<00:00, 13.93it/s, acc=1, loss=0.00151] "
     ]
    },
    {
     "name": "stdout",
     "output_type": "stream",
     "text": [
      "Epoch : 58 \t LOSS train: 0.0010117827099747957  val: 0.5726652145385742 \tACCU train: 1.0  val: 0.84375\n"
     ]
    },
    {
     "name": "stderr",
     "output_type": "stream",
     "text": [
      "EPOCH 60/500:  40%|████      | 2/5 [00:00<00:00, 14.30it/s, acc=1, loss=0.00121] "
     ]
    },
    {
     "name": "stdout",
     "output_type": "stream",
     "text": [
      "Epoch : 59 \t LOSS train: 0.0010362479253672064  val: 0.5823884606361389 \tACCU train: 1.0  val: 0.859375\n"
     ]
    },
    {
     "name": "stderr",
     "output_type": "stream",
     "text": [
      "EPOCH 61/500:  40%|████      | 2/5 [00:00<00:00, 11.50it/s, acc=1, loss=0.00103] "
     ]
    },
    {
     "name": "stdout",
     "output_type": "stream",
     "text": [
      "Epoch : 60 \t LOSS train: 0.0009313069516792893  val: 0.5939273834228516 \tACCU train: 1.0  val: 0.8125\n"
     ]
    },
    {
     "name": "stderr",
     "output_type": "stream",
     "text": [
      "                                                                                 \r"
     ]
    },
    {
     "ename": "KeyboardInterrupt",
     "evalue": "",
     "output_type": "error",
     "traceback": [
      "\u001b[0;31m---------------------------------------------------------------------------\u001b[0m",
      "\u001b[0;31mKeyboardInterrupt\u001b[0m                         Traceback (most recent call last)",
      "\u001b[0;32m<ipython-input-61-57160a735bec>\u001b[0m in \u001b[0;36m<module>\u001b[0;34m\u001b[0m\n\u001b[1;32m      5\u001b[0m     \u001b[0;31m#print (\"EPOCH \" + str(epoch))\u001b[0m\u001b[0;34m\u001b[0m\u001b[0;34m\u001b[0m\u001b[0;34m\u001b[0m\u001b[0m\n\u001b[1;32m      6\u001b[0m \u001b[0;34m\u001b[0m\u001b[0m\n\u001b[0;32m----> 7\u001b[0;31m     \u001b[0mtrain_loss\u001b[0m\u001b[0;34m,\u001b[0m \u001b[0mtrain_accu\u001b[0m \u001b[0;34m=\u001b[0m \u001b[0mtrain\u001b[0m\u001b[0;34m(\u001b[0m\u001b[0mtrain_loader\u001b[0m\u001b[0;34m,\u001b[0m\u001b[0mepoch\u001b[0m\u001b[0;34m)\u001b[0m\u001b[0;34m\u001b[0m\u001b[0;34m\u001b[0m\u001b[0m\n\u001b[0m\u001b[1;32m      8\u001b[0m     \u001b[0mtrain_loss_list\u001b[0m\u001b[0;34m.\u001b[0m\u001b[0mappend\u001b[0m\u001b[0;34m(\u001b[0m\u001b[0mtrain_loss\u001b[0m\u001b[0;34m)\u001b[0m\u001b[0;34m\u001b[0m\u001b[0;34m\u001b[0m\u001b[0m\n\u001b[1;32m      9\u001b[0m     \u001b[0mtrain_accu_list\u001b[0m\u001b[0;34m.\u001b[0m\u001b[0mappend\u001b[0m\u001b[0;34m(\u001b[0m\u001b[0mtrain_accu\u001b[0m\u001b[0;34m)\u001b[0m\u001b[0;34m\u001b[0m\u001b[0;34m\u001b[0m\u001b[0m\n",
      "\u001b[0;32m<ipython-input-59-a475a869aa99>\u001b[0m in \u001b[0;36mtrain\u001b[0;34m(train_dl, epoch)\u001b[0m\n\u001b[1;32m     55\u001b[0m         \u001b[0;31m#    print (\"Batch \" + str(i) + \" train loss = \" + str(sum(total_loss)/(i+1)) )\u001b[0m\u001b[0;34m\u001b[0m\u001b[0;34m\u001b[0m\u001b[0;34m\u001b[0m\u001b[0m\n\u001b[1;32m     56\u001b[0m \u001b[0;34m\u001b[0m\u001b[0m\n\u001b[0;32m---> 57\u001b[0;31m         \u001b[0mgc\u001b[0m\u001b[0;34m.\u001b[0m\u001b[0mcollect\u001b[0m\u001b[0;34m(\u001b[0m\u001b[0;34m)\u001b[0m\u001b[0;34m\u001b[0m\u001b[0;34m\u001b[0m\u001b[0m\n\u001b[0m\u001b[1;32m     58\u001b[0m         \u001b[0mloop\u001b[0m\u001b[0;34m.\u001b[0m\u001b[0mset_description\u001b[0m\u001b[0;34m(\u001b[0m\u001b[0;34m\"EPOCH \"\u001b[0m \u001b[0;34m+\u001b[0m \u001b[0mstr\u001b[0m\u001b[0;34m(\u001b[0m\u001b[0mepoch\u001b[0m\u001b[0;34m+\u001b[0m\u001b[0;36m1\u001b[0m\u001b[0;34m)\u001b[0m \u001b[0;34m+\u001b[0m \u001b[0;34m\"/\"\u001b[0m \u001b[0;34m+\u001b[0m \u001b[0mstr\u001b[0m\u001b[0;34m(\u001b[0m\u001b[0mepochs\u001b[0m\u001b[0;34m)\u001b[0m\u001b[0;34m)\u001b[0m \u001b[0;31m# +  \" BATCH = \" + str(i) + \"/\" +  str(len(train_dl)) )\u001b[0m\u001b[0;34m\u001b[0m\u001b[0;34m\u001b[0m\u001b[0m\n\u001b[1;32m     59\u001b[0m         \u001b[0mloop\u001b[0m\u001b[0;34m.\u001b[0m\u001b[0mset_postfix\u001b[0m\u001b[0;34m(\u001b[0m\u001b[0mloss\u001b[0m \u001b[0;34m=\u001b[0m \u001b[0mloss_train\u001b[0m\u001b[0;34m.\u001b[0m\u001b[0mitem\u001b[0m\u001b[0;34m(\u001b[0m\u001b[0;34m)\u001b[0m\u001b[0;34m,\u001b[0m \u001b[0macc\u001b[0m\u001b[0;34m=\u001b[0m\u001b[0maccuracy\u001b[0m\u001b[0;34m)\u001b[0m\u001b[0;34m\u001b[0m\u001b[0;34m\u001b[0m\u001b[0m\n",
      "\u001b[0;31mKeyboardInterrupt\u001b[0m: "
     ]
    }
   ],
   "source": [
    "epochs = 500\n",
    "\n",
    "for epoch in range(epochs):\n",
    "    \n",
    "    #print (\"EPOCH \" + str(epoch))\n",
    "    \n",
    "    train_loss, train_accu = train(train_loader,epoch)\n",
    "    train_loss_list.append(train_loss)\n",
    "    train_accu_list.append(train_accu)\n",
    "    \n",
    "    val_loss,val_accu = validate(val_loader)\n",
    "    val_loss_list.append(val_loss)\n",
    "    val_accu_list.append(val_accu)\n",
    "\n",
    "    print (\"Epoch :\",epoch+1,\"\\t\",\"LOSS train:\",train_loss,\" val:\",val_loss, \"\\tACCU train:\",train_accu,\" val:\",val_accu)\n",
    "        "
   ]
  },
  {
   "cell_type": "code",
   "execution_count": 38,
   "metadata": {},
   "outputs": [
    {
     "data": {
      "image/png": "[encoded data removed]",
      "text/plain": [
       "<Figure size 432x288 with 1 Axes>"
      ]
     },
     "metadata": {
      "needs_background": "light"
     },
     "output_type": "display_data"
    }
   ],
   "source": [
    "import matplotlib.pyplot as plt\n",
    "\n",
    "plt.plot(train_loss_list, label='Training loss')\n",
    "plt.plot(val_loss_list, label='Validation loss')\n",
    "plt.legend()\n",
    "#if not trial:\n",
    "plt.savefig(\"output.png\")\n",
    "plt.show()"
   ]
  },
  {
   "cell_type": "code",
   "execution_count": 26,
   "metadata": {},
   "outputs": [],
   "source": [
    "batched = False\n",
    "def test(val_dl,show_predictions=False):\n",
    "    real_and_predictions = []\n",
    "    model.eval()\n",
    "    total_loss = []\n",
    "    accuracy_list = []\n",
    "    \n",
    "    with torch.no_grad():\n",
    "    \n",
    "        for i, (xval,yval) in enumerate(val_dl):\n",
    "            xval = xval.to(device)\n",
    "            yvalc = yval.to(device)\n",
    "\n",
    "            output_val = model(xval.float())\n",
    "\n",
    "            accuracy = get_accuracy(output_val,yval)\n",
    "\n",
    "            accuracy_list.append(accuracy)\n",
    "\n",
    "            loss_val = criterion(output_val, yvalc.long())\n",
    "\n",
    "            total_loss.append(loss_val.item())\n",
    "            \n",
    "            #print (one_hot_to_index(yvalc)[0],one_hot_to_index(output_val)[0])\n",
    "            if show_predictions:\n",
    "                if batched:\n",
    "                    compound_list_original = index_to_word(yval_reshapedc.cpu().detach().numpy())\n",
    "                    \n",
    "                    compound_list_predicted = []\n",
    "                    for i,entry in enumerate(output_val.view(len(yval_reshaped),-1,len(vocab))):\n",
    "                        softmax = torch.exp(entry.float())\n",
    "                        prob = list(softmax.cpu().detach().numpy())\n",
    "                        predictions = np.argmax(prob, axis=1)\n",
    "                        #print (predictions.shape,output_val.shape,len(compound_list_original[i]))\n",
    "                        pred = \"\"\n",
    "                        for i,entry in enumerate(predictions):\n",
    "                            pred += index_word[entry]\n",
    "                        compound_list_predicted.append(pred) \n",
    "                        \n",
    "                    for i in range(len(compound_list_original)):\n",
    "                        real_and_predictions.append((compound_list_original[i],compound_list_predicted[i]))\n",
    "                else:\n",
    "                    pred = \"\"\n",
    "                    real = \"\"\n",
    "                    softmax = torch.exp(output_val.float())\n",
    "                    prob = list(softmax.cpu().detach().numpy())\n",
    "                    predictions = np.argmax(prob, axis=1)\n",
    "                    '''for i,entry in enumerate(predictions):\n",
    "                        pred += en_index_word[entry]\n",
    "                        #print (i)\n",
    "                        real += en_index_word[yvalc.cpu().detach().numpy()[i]]\n",
    "                        print (real)'''\n",
    "                        \n",
    "                    real_and_predictions.append((yvalc.cpu().detach().numpy(),predictions))\n",
    "    return (sum(total_loss)/(i+1),sum(accuracy_list)/(len(accuracy_list)),real_and_predictions)"
   ]
  },
  {
   "cell_type": "code",
   "execution_count": 27,
   "metadata": {},
   "outputs": [
    {
     "data": {
      "text/plain": [
       "(0.34842103719711304, 0.890625)"
      ]
     },
     "execution_count": 27,
     "metadata": {},
     "output_type": "execute_result"
    }
   ],
   "source": [
    "loss,accuracy,prediction_list_valid = test(val_loader,True)\n",
    "loss,accuracy"
   ]
  },
  {
   "cell_type": "code",
   "execution_count": 28,
   "metadata": {},
   "outputs": [
    {
     "data": {
      "text/plain": [
       "(0.30730391293764114, 0.890625)"
      ]
     },
     "execution_count": 28,
     "metadata": {},
     "output_type": "execute_result"
    }
   ],
   "source": [
    "loss,accuracy,prediction_list_test = test(test_loader,True)\n",
    "loss,accuracy"
   ]
  },
  {
   "cell_type": "code",
   "execution_count": 29,
   "metadata": {},
   "outputs": [
    {
     "data": {
      "text/plain": [
       "(0.025854728184640408, 1.0)"
      ]
     },
     "execution_count": 29,
     "metadata": {},
     "output_type": "execute_result"
    }
   ],
   "source": [
    "loss,accuracy,prediction_list_train = test(train_loader,True)\n",
    "loss,accuracy"
   ]
  },
  {
   "cell_type": "code",
   "execution_count": 30,
   "metadata": {},
   "outputs": [],
   "source": [
    "from sklearn.metrics import ConfusionMatrixDisplay\n",
    "def get_truth_pred(prediction_list):\n",
    "    y_ground_truth = []\n",
    "    y_predicted = []\n",
    "    for entry in prediction_list:\n",
    "        y_ground_truth.extend(entry[0])\n",
    "        y_predicted.extend(entry[1])\n",
    "    return (y_ground_truth,y_predicted)\n",
    "\n",
    "def confustion_matrix(prediction_list,output_type=\"test\"):\n",
    "    y_ground_truth,y_predicted =   get_truth_pred(prediction_list)\n",
    "    \n",
    "    cm= sklearn.metrics.confusion_matrix(y_ground_truth,y_predicted)\n",
    "    disp = ConfusionMatrixDisplay(confusion_matrix=cm)\n",
    "    disp.plot() \n",
    "    #print (cm_train)\n",
    "    #tn, fp, fn, tp = cm.ravel()\n",
    "    \n",
    "    #if not trial:\n",
    "    #    log_file.write(str(output_type) +\" \\t - tn, fp, fn, tp = \" + str(tn) + \" \" + str(fp) + \" \" + str(fn) + \" \" + str(tp) + \"\\n\")\n",
    "    #return tn, fp, fn, tp"
   ]
  },
  {
   "cell_type": "code",
   "execution_count": 31,
   "metadata": {},
   "outputs": [
    {
     "data": {
      "image/png": "[encoded data removed]",
      "text/plain": [
       "<Figure size 432x288 with 2 Axes>"
      ]
     },
     "metadata": {
      "needs_background": "light"
     },
     "output_type": "display_data"
    }
   ],
   "source": [
    "confustion_matrix(prediction_list_train,output_type=\"train\")"
   ]
  },
  {
   "cell_type": "code",
   "execution_count": 32,
   "metadata": {},
   "outputs": [
    {
     "data": {
      "image/png": "[encoded data removed]",
      "text/plain": [
       "<Figure size 432x288 with 2 Axes>"
      ]
     },
     "metadata": {
      "needs_background": "light"
     },
     "output_type": "display_data"
    }
   ],
   "source": [
    "confustion_matrix(prediction_list_valid,output_type=\"valid\")"
   ]
  },
  {
   "cell_type": "code",
   "execution_count": 33,
   "metadata": {},
   "outputs": [
    {
     "data": {
      "image/png": "[encoded data removed]",
      "text/plain": [
       "<Figure size 432x288 with 2 Axes>"
      ]
     },
     "metadata": {
      "needs_background": "light"
     },
     "output_type": "display_data"
    }
   ],
   "source": [
    "confustion_matrix(prediction_list_test,output_type=\"test\")"
   ]
  },
  {
   "cell_type": "code",
   "execution_count": null,
   "metadata": {},
   "outputs": [],
   "source": []
  },
  {
   "cell_type": "code",
   "execution_count": null,
   "metadata": {},
   "outputs": [],
   "source": []
  }
 ],
 "metadata": {
  "kernelspec": {
   "display_name": "molpmofit",
   "language": "python",
   "name": "molpmofit"
  },
  "language_info": {
   "codemirror_mode": {
    "name": "ipython",
    "version": 3
   },
   "file_extension": ".py",
   "mimetype": "text/x-python",
   "name": "python",
   "nbconvert_exporter": "python",
   "pygments_lexer": "ipython3",
   "version": "3.7.7"
  }
 },
 "nbformat": 4,
 "nbformat_minor": 4
}
